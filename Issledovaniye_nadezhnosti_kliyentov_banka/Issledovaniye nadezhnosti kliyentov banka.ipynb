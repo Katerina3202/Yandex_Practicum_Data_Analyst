{
 "cells": [
  {
   "cell_type": "markdown",
   "id": "c81daeeb",
   "metadata": {
    "deletable": false,
    "editable": false,
    "id": "c81daeeb"
   },
   "source": [
    "# Исследование надежности заемщиков"
   ]
  },
  {
   "cell_type": "markdown",
   "id": "75e8f07d",
   "metadata": {},
   "source": [
    "## Описание проекта"
   ]
  },
  {
   "cell_type": "markdown",
   "id": "cb44b716",
   "metadata": {},
   "source": [
    "Заказчик — кредитный отдел банка. Нужно разобраться, влияет ли семейное положение и количество детей клиента на факт погашения кредита в срок. Входные данные от банка — статистика о платёжеспособности клиентов.<br>\n",
    "\n",
    "Результаты исследования будут учтены при построении модели кредитного скоринга — специальной системы, которая оценивает способность потенциального заёмщика вернуть кредит банку."
   ]
  },
  {
   "cell_type": "markdown",
   "id": "744d7639",
   "metadata": {
    "id": "744d7639"
   },
   "source": [
    "## Изучим общую информацию о данных"
   ]
  },
  {
   "cell_type": "markdown",
   "id": "e7a14c31",
   "metadata": {
    "id": "e7a14c31",
    "tags": [
     "start_task"
    ]
   },
   "source": [
    "Импортируйте библиотеку pandas."
   ]
  },
  {
   "cell_type": "code",
   "execution_count": 19,
   "id": "7bcf75c9",
   "metadata": {
    "id": "7bcf75c9"
   },
   "outputs": [],
   "source": [
    "import pandas as pd # импортируем библиотеку pandas"
   ]
  },
  {
   "cell_type": "code",
   "execution_count": 20,
   "id": "4d240ee2",
   "metadata": {
    "id": "4d240ee2"
   },
   "outputs": [],
   "source": [
    "data = pd.read_csv('data.csv') # читаем csv-файл"
   ]
  },
  {
   "cell_type": "markdown",
   "id": "b8038fe3",
   "metadata": {
    "id": "b8038fe3",
    "tags": [
     "start_task"
    ]
   },
   "source": [
    "Выведем первые 20 строчек датафрейма `data` на экран."
   ]
  },
  {
   "cell_type": "code",
   "execution_count": 21,
   "id": "2a7cab99",
   "metadata": {
    "id": "2a7cab99"
   },
   "outputs": [
    {
     "data": {
      "text/html": [
       "<div>\n",
       "<style scoped>\n",
       "    .dataframe tbody tr th:only-of-type {\n",
       "        vertical-align: middle;\n",
       "    }\n",
       "\n",
       "    .dataframe tbody tr th {\n",
       "        vertical-align: top;\n",
       "    }\n",
       "\n",
       "    .dataframe thead th {\n",
       "        text-align: right;\n",
       "    }\n",
       "</style>\n",
       "<table border=\"1\" class=\"dataframe\">\n",
       "  <thead>\n",
       "    <tr style=\"text-align: right;\">\n",
       "      <th></th>\n",
       "      <th>children</th>\n",
       "      <th>days_employed</th>\n",
       "      <th>dob_years</th>\n",
       "      <th>education</th>\n",
       "      <th>education_id</th>\n",
       "      <th>family_status</th>\n",
       "      <th>family_status_id</th>\n",
       "      <th>gender</th>\n",
       "      <th>income_type</th>\n",
       "      <th>debt</th>\n",
       "      <th>total_income</th>\n",
       "      <th>purpose</th>\n",
       "    </tr>\n",
       "  </thead>\n",
       "  <tbody>\n",
       "    <tr>\n",
       "      <th>0</th>\n",
       "      <td>1</td>\n",
       "      <td>-8437.673028</td>\n",
       "      <td>42</td>\n",
       "      <td>высшее</td>\n",
       "      <td>0</td>\n",
       "      <td>женат / замужем</td>\n",
       "      <td>0</td>\n",
       "      <td>F</td>\n",
       "      <td>сотрудник</td>\n",
       "      <td>0</td>\n",
       "      <td>253875.639453</td>\n",
       "      <td>покупка жилья</td>\n",
       "    </tr>\n",
       "    <tr>\n",
       "      <th>1</th>\n",
       "      <td>1</td>\n",
       "      <td>-4024.803754</td>\n",
       "      <td>36</td>\n",
       "      <td>среднее</td>\n",
       "      <td>1</td>\n",
       "      <td>женат / замужем</td>\n",
       "      <td>0</td>\n",
       "      <td>F</td>\n",
       "      <td>сотрудник</td>\n",
       "      <td>0</td>\n",
       "      <td>112080.014102</td>\n",
       "      <td>приобретение автомобиля</td>\n",
       "    </tr>\n",
       "    <tr>\n",
       "      <th>2</th>\n",
       "      <td>0</td>\n",
       "      <td>-5623.422610</td>\n",
       "      <td>33</td>\n",
       "      <td>Среднее</td>\n",
       "      <td>1</td>\n",
       "      <td>женат / замужем</td>\n",
       "      <td>0</td>\n",
       "      <td>M</td>\n",
       "      <td>сотрудник</td>\n",
       "      <td>0</td>\n",
       "      <td>145885.952297</td>\n",
       "      <td>покупка жилья</td>\n",
       "    </tr>\n",
       "    <tr>\n",
       "      <th>3</th>\n",
       "      <td>3</td>\n",
       "      <td>-4124.747207</td>\n",
       "      <td>32</td>\n",
       "      <td>среднее</td>\n",
       "      <td>1</td>\n",
       "      <td>женат / замужем</td>\n",
       "      <td>0</td>\n",
       "      <td>M</td>\n",
       "      <td>сотрудник</td>\n",
       "      <td>0</td>\n",
       "      <td>267628.550329</td>\n",
       "      <td>дополнительное образование</td>\n",
       "    </tr>\n",
       "    <tr>\n",
       "      <th>4</th>\n",
       "      <td>0</td>\n",
       "      <td>340266.072047</td>\n",
       "      <td>53</td>\n",
       "      <td>среднее</td>\n",
       "      <td>1</td>\n",
       "      <td>гражданский брак</td>\n",
       "      <td>1</td>\n",
       "      <td>F</td>\n",
       "      <td>пенсионер</td>\n",
       "      <td>0</td>\n",
       "      <td>158616.077870</td>\n",
       "      <td>сыграть свадьбу</td>\n",
       "    </tr>\n",
       "    <tr>\n",
       "      <th>5</th>\n",
       "      <td>0</td>\n",
       "      <td>-926.185831</td>\n",
       "      <td>27</td>\n",
       "      <td>высшее</td>\n",
       "      <td>0</td>\n",
       "      <td>гражданский брак</td>\n",
       "      <td>1</td>\n",
       "      <td>M</td>\n",
       "      <td>компаньон</td>\n",
       "      <td>0</td>\n",
       "      <td>255763.565419</td>\n",
       "      <td>покупка жилья</td>\n",
       "    </tr>\n",
       "    <tr>\n",
       "      <th>6</th>\n",
       "      <td>0</td>\n",
       "      <td>-2879.202052</td>\n",
       "      <td>43</td>\n",
       "      <td>высшее</td>\n",
       "      <td>0</td>\n",
       "      <td>женат / замужем</td>\n",
       "      <td>0</td>\n",
       "      <td>F</td>\n",
       "      <td>компаньон</td>\n",
       "      <td>0</td>\n",
       "      <td>240525.971920</td>\n",
       "      <td>операции с жильем</td>\n",
       "    </tr>\n",
       "    <tr>\n",
       "      <th>7</th>\n",
       "      <td>0</td>\n",
       "      <td>-152.779569</td>\n",
       "      <td>50</td>\n",
       "      <td>СРЕДНЕЕ</td>\n",
       "      <td>1</td>\n",
       "      <td>женат / замужем</td>\n",
       "      <td>0</td>\n",
       "      <td>M</td>\n",
       "      <td>сотрудник</td>\n",
       "      <td>0</td>\n",
       "      <td>135823.934197</td>\n",
       "      <td>образование</td>\n",
       "    </tr>\n",
       "    <tr>\n",
       "      <th>8</th>\n",
       "      <td>2</td>\n",
       "      <td>-6929.865299</td>\n",
       "      <td>35</td>\n",
       "      <td>ВЫСШЕЕ</td>\n",
       "      <td>0</td>\n",
       "      <td>гражданский брак</td>\n",
       "      <td>1</td>\n",
       "      <td>F</td>\n",
       "      <td>сотрудник</td>\n",
       "      <td>0</td>\n",
       "      <td>95856.832424</td>\n",
       "      <td>на проведение свадьбы</td>\n",
       "    </tr>\n",
       "    <tr>\n",
       "      <th>9</th>\n",
       "      <td>0</td>\n",
       "      <td>-2188.756445</td>\n",
       "      <td>41</td>\n",
       "      <td>среднее</td>\n",
       "      <td>1</td>\n",
       "      <td>женат / замужем</td>\n",
       "      <td>0</td>\n",
       "      <td>M</td>\n",
       "      <td>сотрудник</td>\n",
       "      <td>0</td>\n",
       "      <td>144425.938277</td>\n",
       "      <td>покупка жилья для семьи</td>\n",
       "    </tr>\n",
       "    <tr>\n",
       "      <th>10</th>\n",
       "      <td>2</td>\n",
       "      <td>-4171.483647</td>\n",
       "      <td>36</td>\n",
       "      <td>высшее</td>\n",
       "      <td>0</td>\n",
       "      <td>женат / замужем</td>\n",
       "      <td>0</td>\n",
       "      <td>M</td>\n",
       "      <td>компаньон</td>\n",
       "      <td>0</td>\n",
       "      <td>113943.491460</td>\n",
       "      <td>покупка недвижимости</td>\n",
       "    </tr>\n",
       "    <tr>\n",
       "      <th>11</th>\n",
       "      <td>0</td>\n",
       "      <td>-792.701887</td>\n",
       "      <td>40</td>\n",
       "      <td>среднее</td>\n",
       "      <td>1</td>\n",
       "      <td>женат / замужем</td>\n",
       "      <td>0</td>\n",
       "      <td>F</td>\n",
       "      <td>сотрудник</td>\n",
       "      <td>0</td>\n",
       "      <td>77069.234271</td>\n",
       "      <td>покупка коммерческой недвижимости</td>\n",
       "    </tr>\n",
       "    <tr>\n",
       "      <th>12</th>\n",
       "      <td>0</td>\n",
       "      <td>NaN</td>\n",
       "      <td>65</td>\n",
       "      <td>среднее</td>\n",
       "      <td>1</td>\n",
       "      <td>гражданский брак</td>\n",
       "      <td>1</td>\n",
       "      <td>M</td>\n",
       "      <td>пенсионер</td>\n",
       "      <td>0</td>\n",
       "      <td>NaN</td>\n",
       "      <td>сыграть свадьбу</td>\n",
       "    </tr>\n",
       "    <tr>\n",
       "      <th>13</th>\n",
       "      <td>0</td>\n",
       "      <td>-1846.641941</td>\n",
       "      <td>54</td>\n",
       "      <td>неоконченное высшее</td>\n",
       "      <td>2</td>\n",
       "      <td>женат / замужем</td>\n",
       "      <td>0</td>\n",
       "      <td>F</td>\n",
       "      <td>сотрудник</td>\n",
       "      <td>0</td>\n",
       "      <td>130458.228857</td>\n",
       "      <td>приобретение автомобиля</td>\n",
       "    </tr>\n",
       "    <tr>\n",
       "      <th>14</th>\n",
       "      <td>0</td>\n",
       "      <td>-1844.956182</td>\n",
       "      <td>56</td>\n",
       "      <td>высшее</td>\n",
       "      <td>0</td>\n",
       "      <td>гражданский брак</td>\n",
       "      <td>1</td>\n",
       "      <td>F</td>\n",
       "      <td>компаньон</td>\n",
       "      <td>1</td>\n",
       "      <td>165127.911772</td>\n",
       "      <td>покупка жилой недвижимости</td>\n",
       "    </tr>\n",
       "    <tr>\n",
       "      <th>15</th>\n",
       "      <td>1</td>\n",
       "      <td>-972.364419</td>\n",
       "      <td>26</td>\n",
       "      <td>среднее</td>\n",
       "      <td>1</td>\n",
       "      <td>женат / замужем</td>\n",
       "      <td>0</td>\n",
       "      <td>F</td>\n",
       "      <td>сотрудник</td>\n",
       "      <td>0</td>\n",
       "      <td>116820.904450</td>\n",
       "      <td>строительство собственной недвижимости</td>\n",
       "    </tr>\n",
       "    <tr>\n",
       "      <th>16</th>\n",
       "      <td>0</td>\n",
       "      <td>-1719.934226</td>\n",
       "      <td>35</td>\n",
       "      <td>среднее</td>\n",
       "      <td>1</td>\n",
       "      <td>женат / замужем</td>\n",
       "      <td>0</td>\n",
       "      <td>F</td>\n",
       "      <td>сотрудник</td>\n",
       "      <td>0</td>\n",
       "      <td>289202.704229</td>\n",
       "      <td>недвижимость</td>\n",
       "    </tr>\n",
       "    <tr>\n",
       "      <th>17</th>\n",
       "      <td>0</td>\n",
       "      <td>-2369.999720</td>\n",
       "      <td>33</td>\n",
       "      <td>высшее</td>\n",
       "      <td>0</td>\n",
       "      <td>гражданский брак</td>\n",
       "      <td>1</td>\n",
       "      <td>M</td>\n",
       "      <td>сотрудник</td>\n",
       "      <td>0</td>\n",
       "      <td>90410.586745</td>\n",
       "      <td>строительство недвижимости</td>\n",
       "    </tr>\n",
       "    <tr>\n",
       "      <th>18</th>\n",
       "      <td>0</td>\n",
       "      <td>400281.136913</td>\n",
       "      <td>53</td>\n",
       "      <td>среднее</td>\n",
       "      <td>1</td>\n",
       "      <td>вдовец / вдова</td>\n",
       "      <td>2</td>\n",
       "      <td>F</td>\n",
       "      <td>пенсионер</td>\n",
       "      <td>0</td>\n",
       "      <td>56823.777243</td>\n",
       "      <td>на покупку подержанного автомобиля</td>\n",
       "    </tr>\n",
       "    <tr>\n",
       "      <th>19</th>\n",
       "      <td>0</td>\n",
       "      <td>-10038.818549</td>\n",
       "      <td>48</td>\n",
       "      <td>СРЕДНЕЕ</td>\n",
       "      <td>1</td>\n",
       "      <td>в разводе</td>\n",
       "      <td>3</td>\n",
       "      <td>F</td>\n",
       "      <td>сотрудник</td>\n",
       "      <td>0</td>\n",
       "      <td>242831.107982</td>\n",
       "      <td>на покупку своего автомобиля</td>\n",
       "    </tr>\n",
       "  </tbody>\n",
       "</table>\n",
       "</div>"
      ],
      "text/plain": [
       "    children  days_employed  dob_years            education  education_id  \\\n",
       "0          1   -8437.673028         42               высшее             0   \n",
       "1          1   -4024.803754         36              среднее             1   \n",
       "2          0   -5623.422610         33              Среднее             1   \n",
       "3          3   -4124.747207         32              среднее             1   \n",
       "4          0  340266.072047         53              среднее             1   \n",
       "5          0    -926.185831         27               высшее             0   \n",
       "6          0   -2879.202052         43               высшее             0   \n",
       "7          0    -152.779569         50              СРЕДНЕЕ             1   \n",
       "8          2   -6929.865299         35               ВЫСШЕЕ             0   \n",
       "9          0   -2188.756445         41              среднее             1   \n",
       "10         2   -4171.483647         36               высшее             0   \n",
       "11         0    -792.701887         40              среднее             1   \n",
       "12         0            NaN         65              среднее             1   \n",
       "13         0   -1846.641941         54  неоконченное высшее             2   \n",
       "14         0   -1844.956182         56               высшее             0   \n",
       "15         1    -972.364419         26              среднее             1   \n",
       "16         0   -1719.934226         35              среднее             1   \n",
       "17         0   -2369.999720         33               высшее             0   \n",
       "18         0  400281.136913         53              среднее             1   \n",
       "19         0  -10038.818549         48              СРЕДНЕЕ             1   \n",
       "\n",
       "       family_status  family_status_id gender income_type  debt  \\\n",
       "0    женат / замужем                 0      F   сотрудник     0   \n",
       "1    женат / замужем                 0      F   сотрудник     0   \n",
       "2    женат / замужем                 0      M   сотрудник     0   \n",
       "3    женат / замужем                 0      M   сотрудник     0   \n",
       "4   гражданский брак                 1      F   пенсионер     0   \n",
       "5   гражданский брак                 1      M   компаньон     0   \n",
       "6    женат / замужем                 0      F   компаньон     0   \n",
       "7    женат / замужем                 0      M   сотрудник     0   \n",
       "8   гражданский брак                 1      F   сотрудник     0   \n",
       "9    женат / замужем                 0      M   сотрудник     0   \n",
       "10   женат / замужем                 0      M   компаньон     0   \n",
       "11   женат / замужем                 0      F   сотрудник     0   \n",
       "12  гражданский брак                 1      M   пенсионер     0   \n",
       "13   женат / замужем                 0      F   сотрудник     0   \n",
       "14  гражданский брак                 1      F   компаньон     1   \n",
       "15   женат / замужем                 0      F   сотрудник     0   \n",
       "16   женат / замужем                 0      F   сотрудник     0   \n",
       "17  гражданский брак                 1      M   сотрудник     0   \n",
       "18    вдовец / вдова                 2      F   пенсионер     0   \n",
       "19         в разводе                 3      F   сотрудник     0   \n",
       "\n",
       "     total_income                                 purpose  \n",
       "0   253875.639453                           покупка жилья  \n",
       "1   112080.014102                 приобретение автомобиля  \n",
       "2   145885.952297                           покупка жилья  \n",
       "3   267628.550329              дополнительное образование  \n",
       "4   158616.077870                         сыграть свадьбу  \n",
       "5   255763.565419                           покупка жилья  \n",
       "6   240525.971920                       операции с жильем  \n",
       "7   135823.934197                             образование  \n",
       "8    95856.832424                   на проведение свадьбы  \n",
       "9   144425.938277                 покупка жилья для семьи  \n",
       "10  113943.491460                    покупка недвижимости  \n",
       "11   77069.234271       покупка коммерческой недвижимости  \n",
       "12            NaN                         сыграть свадьбу  \n",
       "13  130458.228857                 приобретение автомобиля  \n",
       "14  165127.911772              покупка жилой недвижимости  \n",
       "15  116820.904450  строительство собственной недвижимости  \n",
       "16  289202.704229                            недвижимость  \n",
       "17   90410.586745              строительство недвижимости  \n",
       "18   56823.777243      на покупку подержанного автомобиля  \n",
       "19  242831.107982            на покупку своего автомобиля  "
      ]
     },
     "execution_count": 21,
     "metadata": {},
     "output_type": "execute_result"
    }
   ],
   "source": [
    "data.head(20)"
   ]
  },
  {
   "cell_type": "markdown",
   "id": "1c12e233",
   "metadata": {
    "id": "1c12e233",
    "tags": [
     "start_task"
    ]
   },
   "source": [
    "Выведем основную информацию о датафрейме с помощью метода `info()`."
   ]
  },
  {
   "cell_type": "code",
   "execution_count": 22,
   "id": "2b757bca",
   "metadata": {
    "id": "2b757bca"
   },
   "outputs": [
    {
     "name": "stdout",
     "output_type": "stream",
     "text": [
      "<class 'pandas.core.frame.DataFrame'>\n",
      "RangeIndex: 21525 entries, 0 to 21524\n",
      "Data columns (total 12 columns):\n",
      " #   Column            Non-Null Count  Dtype  \n",
      "---  ------            --------------  -----  \n",
      " 0   children          21525 non-null  int64  \n",
      " 1   days_employed     19351 non-null  float64\n",
      " 2   dob_years         21525 non-null  int64  \n",
      " 3   education         21525 non-null  object \n",
      " 4   education_id      21525 non-null  int64  \n",
      " 5   family_status     21525 non-null  object \n",
      " 6   family_status_id  21525 non-null  int64  \n",
      " 7   gender            21525 non-null  object \n",
      " 8   income_type       21525 non-null  object \n",
      " 9   debt              21525 non-null  int64  \n",
      " 10  total_income      19351 non-null  float64\n",
      " 11  purpose           21525 non-null  object \n",
      "dtypes: float64(2), int64(5), object(5)\n",
      "memory usage: 2.0+ MB\n"
     ]
    }
   ],
   "source": [
    "data.info() "
   ]
  },
  {
   "cell_type": "markdown",
   "id": "8092593b",
   "metadata": {},
   "source": [
    "**Описание данных**"
   ]
  },
  {
   "cell_type": "markdown",
   "id": "cabde472",
   "metadata": {},
   "source": [
    "- `children` — количество детей в семье\n",
    "- `days_employed` — общий трудовой стаж в днях\n",
    "- `dob_years` — возраст клиента в годах\n",
    "- `education` — уровень образования клиента\n",
    "- `education_id` — идентификатор уровня образования\n",
    "- `family_status` — семейное положение\n",
    "- `family_status_id` — идентификатор семейного положения\n",
    "- `gender` — пол клиента\n",
    "- `income_type` — тип занятости\n",
    "- `debt` — имел ли задолженность по возврату кредитов\n",
    "- `total_income` — ежемесячный доход\n",
    "- `purpose` — цель получения кредита"
   ]
  },
  {
   "cell_type": "markdown",
   "id": "333ec665",
   "metadata": {
    "deletable": false,
    "editable": false,
    "id": "333ec665"
   },
   "source": [
    "## Предобработка данных"
   ]
  },
  {
   "cell_type": "markdown",
   "id": "02d92d53",
   "metadata": {
    "deletable": false,
    "editable": false,
    "id": "02d92d53"
   },
   "source": [
    "### Удаление пропусков"
   ]
  },
  {
   "cell_type": "markdown",
   "id": "cd84967c",
   "metadata": {
    "id": "cd84967c",
    "tags": [
     "start_task"
    ]
   },
   "source": [
    "Выведем количество пропущенных значений для каждого столбца. Используем комбинацию двух методов."
   ]
  },
  {
   "cell_type": "code",
   "execution_count": 23,
   "id": "7f9b2309",
   "metadata": {
    "id": "7f9b2309"
   },
   "outputs": [
    {
     "data": {
      "text/plain": [
       "children               0\n",
       "days_employed       2174\n",
       "dob_years              0\n",
       "education              0\n",
       "education_id           0\n",
       "family_status          0\n",
       "family_status_id       0\n",
       "gender                 0\n",
       "income_type            0\n",
       "debt                   0\n",
       "total_income        2174\n",
       "purpose                0\n",
       "dtype: int64"
      ]
     },
     "execution_count": 23,
     "metadata": {},
     "output_type": "execute_result"
    }
   ],
   "source": [
    "data.isna().sum() "
   ]
  },
  {
   "cell_type": "markdown",
   "id": "db86e27b",
   "metadata": {
    "id": "db86e27b",
    "tags": [
     "start_task"
    ]
   },
   "source": [
    "В двух столбцах есть пропущенные значения. Один из них — `days_employed`. Пропуски в этом столбце мы обработаемна следующем этапе. Другой столбец с пропущенными значениями — `total_income` — хранит данные о доходах. На сумму дохода сильнее всего влияет тип занятости, поэтому заполнить пропуски в этом столбце нужно медианным значением по каждому типу из столбца `income_type`. Например, у человека с типом занятости `сотрудник` пропуск в столбце `total_income` должен быть заполнен медианным доходом среди всех записей с тем же типом."
   ]
  },
  {
   "cell_type": "code",
   "execution_count": 24,
   "id": "42006a93",
   "metadata": {
    "id": "42006a93"
   },
   "outputs": [],
   "source": [
    "#data['total_income'] = (data.groupby('income_type')['total_income'].transform(lambda g: g.fillna(g.median())))\n",
    "for g in data['income_type'].unique():\n",
    "    data.loc[(data['income_type'] == g) & (data['total_income'].isna()), 'total_income'] = \\\n",
    "    data.loc[(data['income_type'] == g), 'total_income'].median()"
   ]
  },
  {
   "cell_type": "markdown",
   "id": "89da5ece",
   "metadata": {
    "deletable": false,
    "editable": false,
    "id": "89da5ece"
   },
   "source": [
    "### Обработка аномальных значений"
   ]
  },
  {
   "cell_type": "markdown",
   "id": "57964554",
   "metadata": {
    "id": "57964554",
    "tags": [
     "start_task"
    ]
   },
   "source": [
    "В данных есть артефакты (аномалии) — значения, которые не отражают действительность и появились по какой-то ошибке. Таким артефактом является отрицательное количество дней трудового стажа в столбце `days_employed`. Для реальных данных это нормально. Обработаем значения в этом столбце: заменим все отрицательные значения положительными с помощью метода `abs()`."
   ]
  },
  {
   "cell_type": "code",
   "execution_count": 25,
   "id": "f6f055bf",
   "metadata": {
    "id": "f6f055bf"
   },
   "outputs": [],
   "source": [
    "data['days_employed'] = data['days_employed'].abs() "
   ]
  },
  {
   "cell_type": "markdown",
   "id": "6107dd2f",
   "metadata": {
    "id": "6107dd2f",
    "tags": [
     "start_task"
    ]
   },
   "source": [
    "Для каждого типа занятости выведем медианное значение трудового стажа `days_employed` в днях."
   ]
  },
  {
   "cell_type": "code",
   "execution_count": 26,
   "id": "85a5faf6",
   "metadata": {
    "id": "85a5faf6"
   },
   "outputs": [
    {
     "name": "stdout",
     "output_type": "stream",
     "text": [
      "                 days_employed\n",
      "income_type                   \n",
      "безработный      366413.652744\n",
      "в декрете          3296.759962\n",
      "госслужащий        2689.368353\n",
      "компаньон          1547.382223\n",
      "пенсионер        365213.306266\n",
      "предприниматель     520.848083\n",
      "сотрудник          1574.202821\n",
      "студент             578.751554\n"
     ]
    }
   ],
   "source": [
    "ave_age_days_employed = data.groupby(['income_type']).agg({'days_employed':'median'}) \n",
    "print(ave_age_days_employed)"
   ]
  },
  {
   "cell_type": "markdown",
   "id": "38d1a030",
   "metadata": {
    "id": "38d1a030"
   },
   "source": [
    "У двух типов (безработные и пенсионеры) получаются аномально большие значения. Исправить такие значения сложно, поэтому оставим их как есть. Тем более этот столбец не понадобится нам для исследования."
   ]
  },
  {
   "cell_type": "markdown",
   "id": "d8a9f147",
   "metadata": {
    "id": "d8a9f147",
    "tags": [
     "start_task"
    ]
   },
   "source": [
    "Выведем перечень уникальных значений столбца `children`."
   ]
  },
  {
   "cell_type": "code",
   "execution_count": 27,
   "id": "ef5056eb",
   "metadata": {
    "id": "ef5056eb"
   },
   "outputs": [
    {
     "name": "stdout",
     "output_type": "stream",
     "text": [
      "[ 1  0  3  2 -1  4 20  5]\n"
     ]
    }
   ],
   "source": [
    "print(data['children'].unique())"
   ]
  },
  {
   "cell_type": "markdown",
   "id": "40b9ebf2",
   "metadata": {
    "id": "40b9ebf2",
    "tags": [
     "start_task"
    ]
   },
   "source": [
    "В столбце `children` есть два аномальных значения. Удалим строки, в которых встречаются такие аномальные значения из датафрейма `data`."
   ]
  },
  {
   "cell_type": "code",
   "execution_count": 28,
   "id": "3ff9801d",
   "metadata": {
    "id": "3ff9801d"
   },
   "outputs": [],
   "source": [
    "data = data[~data['children'].isin((-1,20))] "
   ]
  },
  {
   "cell_type": "markdown",
   "id": "bbc4d0ce",
   "metadata": {
    "id": "bbc4d0ce",
    "tags": [
     "start_task"
    ]
   },
   "source": [
    "Ещё раз выведем перечень уникальных значений столбца `children`, чтобы убедиться, что артефакты удалены."
   ]
  },
  {
   "cell_type": "code",
   "execution_count": 29,
   "id": "ad4fa8b7",
   "metadata": {
    "id": "ad4fa8b7"
   },
   "outputs": [
    {
     "name": "stdout",
     "output_type": "stream",
     "text": [
      "[1 0 3 2 4 5]\n"
     ]
    }
   ],
   "source": [
    "print(data['children'].unique()) "
   ]
  },
  {
   "cell_type": "markdown",
   "id": "75440b63",
   "metadata": {
    "id": "75440b63"
   },
   "source": [
    "**Продолжаем удаление пропусков**"
   ]
  },
  {
   "cell_type": "markdown",
   "id": "f4ea573f",
   "metadata": {
    "id": "f4ea573f",
    "tags": [
     "start_task"
    ]
   },
   "source": [
    "Заполним пропуски в столбце `days_employed` медианными значениями по каждому типу занятости `income_type`."
   ]
  },
  {
   "cell_type": "code",
   "execution_count": 30,
   "id": "af6b1a7e",
   "metadata": {
    "id": "af6b1a7e"
   },
   "outputs": [],
   "source": [
    "#data['days_employed'] = (data.groupby('income_type')['days_employed'].transform(lambda g: g.fillna(g.median())))\n",
    "for g in data['income_type'].unique():\n",
    "    data.loc[(data['days_employed'] == g) & (data['income_type'].isna()), 'income_type'] = \\\n",
    "    data.loc[(data['days_employed'] == g), 'income_type'].median()"
   ]
  },
  {
   "cell_type": "markdown",
   "id": "2753f40d",
   "metadata": {
    "id": "2753f40d",
    "tags": [
     "start_task"
    ]
   },
   "source": [
    "Убедимся, что все пропуски заполнены. Проверим себя и ещё раз выведите количество пропущенных значений для каждого столбца с помощью двух методов."
   ]
  },
  {
   "cell_type": "code",
   "execution_count": 31,
   "id": "55f78bc2",
   "metadata": {
    "id": "55f78bc2"
   },
   "outputs": [
    {
     "data": {
      "text/plain": [
       "children               0\n",
       "days_employed       2162\n",
       "dob_years              0\n",
       "education              0\n",
       "education_id           0\n",
       "family_status          0\n",
       "family_status_id       0\n",
       "gender                 0\n",
       "income_type            0\n",
       "debt                   0\n",
       "total_income           0\n",
       "purpose                0\n",
       "dtype: int64"
      ]
     },
     "execution_count": 31,
     "metadata": {},
     "output_type": "execute_result"
    }
   ],
   "source": [
    "data.isna().sum() "
   ]
  },
  {
   "cell_type": "markdown",
   "id": "ddc81e43",
   "metadata": {
    "deletable": false,
    "editable": false,
    "id": "ddc81e43"
   },
   "source": [
    "### Изменение типов данных"
   ]
  },
  {
   "cell_type": "markdown",
   "id": "42d19d24",
   "metadata": {
    "id": "42d19d24",
    "tags": [
     "start_task"
    ]
   },
   "source": [
    "Заменим вещественный тип данных в столбце `total_income` на целочисленный с помощью метода `astype()`."
   ]
  },
  {
   "cell_type": "code",
   "execution_count": 32,
   "id": "920b65ad",
   "metadata": {
    "id": "920b65ad"
   },
   "outputs": [],
   "source": [
    "data['total_income'] = data['total_income'].astype('int') "
   ]
  },
  {
   "cell_type": "markdown",
   "id": "80c420ba",
   "metadata": {
    "deletable": false,
    "editable": false,
    "id": "80c420ba"
   },
   "source": [
    "### Обработка дубликатов"
   ]
  },
  {
   "cell_type": "markdown",
   "id": "dc587695",
   "metadata": {
    "id": "dc587695",
    "tags": [
     "start_task"
    ]
   },
   "source": [
    "Обработаем неявные дубликаты в столбце `education`. В этом столбце есть одни и те же значения, но записанные по-разному: с использованием заглавных и строчных букв. Приведем их к нижнему регистру."
   ]
  },
  {
   "cell_type": "code",
   "execution_count": 41,
   "id": "a9f8e2bf",
   "metadata": {
    "id": "a9f8e2bf"
   },
   "outputs": [],
   "source": [
    "data['education'] = data['education'].str.lower() "
   ]
  },
  {
   "cell_type": "markdown",
   "id": "9771a76c",
   "metadata": {
    "id": "9771a76c",
    "tags": [
     "start_task"
    ]
   },
   "source": [
    "Выведем на экран количество строк-дубликатов в данных. Если такие строки присутствуют, удалим их."
   ]
  },
  {
   "cell_type": "code",
   "execution_count": 34,
   "id": "3ee445e4",
   "metadata": {
    "id": "3ee445e4"
   },
   "outputs": [
    {
     "data": {
      "text/plain": [
       "71"
      ]
     },
     "execution_count": 34,
     "metadata": {},
     "output_type": "execute_result"
    }
   ],
   "source": [
    "data.duplicated().sum() "
   ]
  },
  {
   "cell_type": "code",
   "execution_count": 42,
   "id": "8575fe05",
   "metadata": {
    "id": "8575fe05"
   },
   "outputs": [],
   "source": [
    "data = data.drop_duplicates() # удалим дубликаты"
   ]
  },
  {
   "cell_type": "markdown",
   "id": "9904cf55",
   "metadata": {
    "deletable": false,
    "editable": false,
    "id": "9904cf55"
   },
   "source": [
    "### Категоризация данных"
   ]
  },
  {
   "cell_type": "markdown",
   "id": "72fcc8a2",
   "metadata": {
    "id": "72fcc8a2",
    "tags": [
     "start_task"
    ]
   },
   "source": [
    "На основании диапазонов, указанных ниже, создадим в датафрейме `data` столбец `total_income_category` с категориями:\n",
    "\n",
    "- 0–30000 — `'E'`;\n",
    "- 30001–50000 — `'D'`;\n",
    "- 50001–200000 — `'C'`;\n",
    "- 200001–1000000 — `'B'`;\n",
    "- 1000001 и выше — `'A'`."
   ]
  },
  {
   "cell_type": "code",
   "execution_count": 43,
   "id": "e1771346",
   "metadata": {
    "id": "e1771346"
   },
   "outputs": [],
   "source": [
    "# создадим функцию categorize_income()\n",
    "def categorize_income(total_income):\n",
    "    if total_income <= 30000:\n",
    "        return 'E'\n",
    "    if total_income <= 50000:\n",
    "        return 'D'\n",
    "    if total_income <= 200000:\n",
    "        return 'C'\n",
    "    if total_income <= 1000000: \n",
    "        return 'B'\n",
    "    return 'A'"
   ]
  },
  {
   "cell_type": "code",
   "execution_count": 44,
   "id": "d5f3586d",
   "metadata": {
    "id": "d5f3586d"
   },
   "outputs": [],
   "source": [
    "data['total_income_category'] = data['total_income'].apply(categorize_income)"
   ]
  },
  {
   "cell_type": "markdown",
   "id": "dde49b5c",
   "metadata": {
    "id": "dde49b5c",
    "tags": [
     "start_task"
    ]
   },
   "source": [
    "Выведем на экран перечень уникальных целей взятия кредита из столбца `purpose`."
   ]
  },
  {
   "cell_type": "code",
   "execution_count": 45,
   "id": "f67ce9b3",
   "metadata": {
    "id": "f67ce9b3"
   },
   "outputs": [
    {
     "name": "stdout",
     "output_type": "stream",
     "text": [
      "['покупка жилья' 'приобретение автомобиля' 'дополнительное образование'\n",
      " 'сыграть свадьбу' 'операции с жильем' 'образование'\n",
      " 'на проведение свадьбы' 'покупка жилья для семьи' 'покупка недвижимости'\n",
      " 'покупка коммерческой недвижимости' 'покупка жилой недвижимости'\n",
      " 'строительство собственной недвижимости' 'недвижимость'\n",
      " 'строительство недвижимости' 'на покупку подержанного автомобиля'\n",
      " 'на покупку своего автомобиля' 'операции с коммерческой недвижимостью'\n",
      " 'строительство жилой недвижимости' 'жилье'\n",
      " 'операции со своей недвижимостью' 'автомобили' 'заняться образованием'\n",
      " 'сделка с подержанным автомобилем' 'получение образования' 'автомобиль'\n",
      " 'свадьба' 'получение дополнительного образования' 'покупка своего жилья'\n",
      " 'операции с недвижимостью' 'получение высшего образования'\n",
      " 'свой автомобиль' 'сделка с автомобилем' 'профильное образование'\n",
      " 'высшее образование' 'покупка жилья для сдачи' 'на покупку автомобиля'\n",
      " 'ремонт жилью' 'заняться высшим образованием']\n"
     ]
    }
   ],
   "source": [
    "print(data['purpose'].unique())"
   ]
  },
  {
   "cell_type": "markdown",
   "id": "85d0aef0",
   "metadata": {
    "id": "85d0aef0",
    "tags": [
     "start_task"
    ]
   },
   "source": [
    "Создадим функцию, которая на основании данных из столбца `purpose` сформирует новый столбец `purpose_category`, в который войдут следующие категории:\n",
    "\n",
    "- `'операции с автомобилем'`,\n",
    "- `'операции с недвижимостью'`,\n",
    "- `'проведение свадьбы'`,\n",
    "- `'получение образования'`."
   ]
  },
  {
   "cell_type": "code",
   "execution_count": 46,
   "id": "e149fab4",
   "metadata": {
    "id": "e149fab4"
   },
   "outputs": [],
   "source": [
    "# создаем функцию categorize_purpose()\n",
    "def categorize_purpose(row):    \n",
    "    if 'авто' in row:\n",
    "        return 'операции с автомобилем'\n",
    "    elif ('недвиж' in row) or ('жиль' in row):\n",
    "        return 'операции с недвижимостью'\n",
    "    elif 'свадьб' in row:\n",
    "        return 'проведение свадьбы'\n",
    "    else:\n",
    "        return 'получение образования'  "
   ]
  },
  {
   "cell_type": "code",
   "execution_count": 47,
   "id": "bf36e69b",
   "metadata": {
    "id": "bf36e69b"
   },
   "outputs": [],
   "source": [
    "data['purpose_category'] = data['purpose'].apply(categorize_purpose)"
   ]
  },
  {
   "cell_type": "markdown",
   "id": "b16cdfe1",
   "metadata": {},
   "source": [
    "### Шаг 3. Исследование данных"
   ]
  },
  {
   "cell_type": "markdown",
   "id": "23622bf3",
   "metadata": {},
   "source": [
    "Посмотрим сколько детей разных возрастов есть в таблице, где 0 - это отсутствие детей"
   ]
  },
  {
   "cell_type": "code",
   "execution_count": 48,
   "id": "cc4486dc",
   "metadata": {},
   "outputs": [
    {
     "data": {
      "text/plain": [
       "0    14091\n",
       "1     4808\n",
       "2     2052\n",
       "3      330\n",
       "4       41\n",
       "5        9\n",
       "Name: children, dtype: int64"
      ]
     },
     "execution_count": 48,
     "metadata": {},
     "output_type": "execute_result"
    }
   ],
   "source": [
    "data['children'].value_counts()"
   ]
  },
  {
   "cell_type": "markdown",
   "id": "98f6d13e",
   "metadata": {},
   "source": [
    "По данным приведенной таблицы видно, что многодетных семей не так много, имеет смысл объеденить их в одну категорию"
   ]
  },
  {
   "cell_type": "code",
   "execution_count": 49,
   "id": "9d7bbeab",
   "metadata": {},
   "outputs": [],
   "source": [
    "def children_category (children):\n",
    "    if children >= 3:\n",
    "        return 'Много детей'\n",
    "    if children == 1:\n",
    "        return '1 ребенок'\n",
    "    if children == 2:\n",
    "        return '2 ребенка'    \n",
    "    return 'Нет детей'"
   ]
  },
  {
   "cell_type": "code",
   "execution_count": 52,
   "id": "2772700f",
   "metadata": {},
   "outputs": [],
   "source": [
    "# вызовем функцию\n",
    "data['category_children'] = data['children'].apply(children_category)"
   ]
  },
  {
   "cell_type": "code",
   "execution_count": 53,
   "id": "045bf8ce",
   "metadata": {},
   "outputs": [
    {
     "data": {
      "text/html": [
       "<div>\n",
       "<style scoped>\n",
       "    .dataframe tbody tr th:only-of-type {\n",
       "        vertical-align: middle;\n",
       "    }\n",
       "\n",
       "    .dataframe tbody tr th {\n",
       "        vertical-align: top;\n",
       "    }\n",
       "\n",
       "    .dataframe thead th {\n",
       "        text-align: right;\n",
       "    }\n",
       "</style>\n",
       "<table border=\"1\" class=\"dataframe\">\n",
       "  <thead>\n",
       "    <tr style=\"text-align: right;\">\n",
       "      <th></th>\n",
       "      <th>children</th>\n",
       "      <th>days_employed</th>\n",
       "      <th>dob_years</th>\n",
       "      <th>education</th>\n",
       "      <th>education_id</th>\n",
       "      <th>family_status</th>\n",
       "      <th>family_status_id</th>\n",
       "      <th>gender</th>\n",
       "      <th>income_type</th>\n",
       "      <th>debt</th>\n",
       "      <th>total_income</th>\n",
       "      <th>purpose</th>\n",
       "      <th>total_income_category</th>\n",
       "      <th>purpose_category</th>\n",
       "      <th>category_children</th>\n",
       "    </tr>\n",
       "  </thead>\n",
       "  <tbody>\n",
       "    <tr>\n",
       "      <th>0</th>\n",
       "      <td>1</td>\n",
       "      <td>8437.673028</td>\n",
       "      <td>42</td>\n",
       "      <td>высшее</td>\n",
       "      <td>0</td>\n",
       "      <td>женат / замужем</td>\n",
       "      <td>0</td>\n",
       "      <td>F</td>\n",
       "      <td>сотрудник</td>\n",
       "      <td>0</td>\n",
       "      <td>253875</td>\n",
       "      <td>покупка жилья</td>\n",
       "      <td>B</td>\n",
       "      <td>операции с недвижимостью</td>\n",
       "      <td>1 ребенок</td>\n",
       "    </tr>\n",
       "    <tr>\n",
       "      <th>1</th>\n",
       "      <td>1</td>\n",
       "      <td>4024.803754</td>\n",
       "      <td>36</td>\n",
       "      <td>среднее</td>\n",
       "      <td>1</td>\n",
       "      <td>женат / замужем</td>\n",
       "      <td>0</td>\n",
       "      <td>F</td>\n",
       "      <td>сотрудник</td>\n",
       "      <td>0</td>\n",
       "      <td>112080</td>\n",
       "      <td>приобретение автомобиля</td>\n",
       "      <td>C</td>\n",
       "      <td>операции с автомобилем</td>\n",
       "      <td>1 ребенок</td>\n",
       "    </tr>\n",
       "    <tr>\n",
       "      <th>2</th>\n",
       "      <td>0</td>\n",
       "      <td>5623.422610</td>\n",
       "      <td>33</td>\n",
       "      <td>среднее</td>\n",
       "      <td>1</td>\n",
       "      <td>женат / замужем</td>\n",
       "      <td>0</td>\n",
       "      <td>M</td>\n",
       "      <td>сотрудник</td>\n",
       "      <td>0</td>\n",
       "      <td>145885</td>\n",
       "      <td>покупка жилья</td>\n",
       "      <td>C</td>\n",
       "      <td>операции с недвижимостью</td>\n",
       "      <td>Нет детей</td>\n",
       "    </tr>\n",
       "    <tr>\n",
       "      <th>3</th>\n",
       "      <td>3</td>\n",
       "      <td>4124.747207</td>\n",
       "      <td>32</td>\n",
       "      <td>среднее</td>\n",
       "      <td>1</td>\n",
       "      <td>женат / замужем</td>\n",
       "      <td>0</td>\n",
       "      <td>M</td>\n",
       "      <td>сотрудник</td>\n",
       "      <td>0</td>\n",
       "      <td>267628</td>\n",
       "      <td>дополнительное образование</td>\n",
       "      <td>B</td>\n",
       "      <td>получение образования</td>\n",
       "      <td>Много детей</td>\n",
       "    </tr>\n",
       "    <tr>\n",
       "      <th>4</th>\n",
       "      <td>0</td>\n",
       "      <td>340266.072047</td>\n",
       "      <td>53</td>\n",
       "      <td>среднее</td>\n",
       "      <td>1</td>\n",
       "      <td>гражданский брак</td>\n",
       "      <td>1</td>\n",
       "      <td>F</td>\n",
       "      <td>пенсионер</td>\n",
       "      <td>0</td>\n",
       "      <td>158616</td>\n",
       "      <td>сыграть свадьбу</td>\n",
       "      <td>C</td>\n",
       "      <td>проведение свадьбы</td>\n",
       "      <td>Нет детей</td>\n",
       "    </tr>\n",
       "  </tbody>\n",
       "</table>\n",
       "</div>"
      ],
      "text/plain": [
       "   children  days_employed  dob_years education  education_id  \\\n",
       "0         1    8437.673028         42    высшее             0   \n",
       "1         1    4024.803754         36   среднее             1   \n",
       "2         0    5623.422610         33   среднее             1   \n",
       "3         3    4124.747207         32   среднее             1   \n",
       "4         0  340266.072047         53   среднее             1   \n",
       "\n",
       "      family_status  family_status_id gender income_type  debt  total_income  \\\n",
       "0   женат / замужем                 0      F   сотрудник     0        253875   \n",
       "1   женат / замужем                 0      F   сотрудник     0        112080   \n",
       "2   женат / замужем                 0      M   сотрудник     0        145885   \n",
       "3   женат / замужем                 0      M   сотрудник     0        267628   \n",
       "4  гражданский брак                 1      F   пенсионер     0        158616   \n",
       "\n",
       "                      purpose total_income_category          purpose_category  \\\n",
       "0               покупка жилья                     B  операции с недвижимостью   \n",
       "1     приобретение автомобиля                     C    операции с автомобилем   \n",
       "2               покупка жилья                     C  операции с недвижимостью   \n",
       "3  дополнительное образование                     B     получение образования   \n",
       "4             сыграть свадьбу                     C        проведение свадьбы   \n",
       "\n",
       "  category_children  \n",
       "0         1 ребенок  \n",
       "1         1 ребенок  \n",
       "2         Нет детей  \n",
       "3       Много детей  \n",
       "4         Нет детей  "
      ]
     },
     "execution_count": 53,
     "metadata": {},
     "output_type": "execute_result"
    }
   ],
   "source": [
    "data.head()"
   ]
  },
  {
   "cell_type": "markdown",
   "id": "fcf0f2a8",
   "metadata": {},
   "source": [
    "Построим сводную таблицу по категориям детей"
   ]
  },
  {
   "cell_type": "code",
   "execution_count": 54,
   "id": "0cc9ba55",
   "metadata": {},
   "outputs": [
    {
     "name": "stdout",
     "output_type": "stream",
     "text": [
      "                    debt       conversion\n",
      "                   count   sum           \n",
      "category_children                        \n",
      "Нет детей          14091  1063   7.543822\n",
      "Много детей          380    31   8.157895\n",
      "1 ребенок           4808   444   9.234609\n",
      "2 ребенка           2052   194   9.454191\n"
     ]
    }
   ],
   "source": [
    "data_pivot = data.groupby('category_children').agg({'debt': ['count', 'sum']})\n",
    "data_pivot['conversion'] = (data_pivot['debt']['sum']/data_pivot['debt']['count'])*100\n",
    "print(data_pivot.sort_values(by='conversion'))"
   ]
  },
  {
   "cell_type": "markdown",
   "id": "45ecaddc",
   "metadata": {},
   "source": [
    "**Вывод:** Из полученных данных можно сделать вывод, что заемщики без детей чаще возвращают кредиты вовремя, чем люди с детьми. "
   ]
  },
  {
   "cell_type": "markdown",
   "id": "187de509",
   "metadata": {},
   "source": [
    "#### 3.2 Проверим есть ли зависимость между семейным положением и возвратом кредита в срок."
   ]
  },
  {
   "cell_type": "code",
   "execution_count": 56,
   "id": "d2bcaa26",
   "metadata": {},
   "outputs": [
    {
     "name": "stdout",
     "output_type": "stream",
     "text": [
      "                        debt      conversion_family_status\n",
      "                       count  sum                         \n",
      "family_status                                             \n",
      "вдовец / вдова           951   63                 6.624606\n",
      "в разводе               1189   84                 7.064760\n",
      "женат / замужем        12261  927                 7.560558\n",
      "гражданский брак        4134  385                 9.313014\n",
      "Не женат / не замужем   2796  273                 9.763948\n"
     ]
    }
   ],
   "source": [
    "data_pivot = data.groupby('family_status').agg({'debt': ['count', 'sum']})\n",
    "data_pivot['conversion_family_status'] = (data_pivot['debt']['sum']/data_pivot['debt']['count'])*100\n",
    "print(data_pivot.sort_values(by='conversion_family_status'))"
   ]
  },
  {
   "cell_type": "markdown",
   "id": "2d4021ae",
   "metadata": {},
   "source": [
    "**Вывод:** Овдовевшие и разведенные заемщики чаще всего возвращают кредиты вовремя. Люди находящиеся в браке и в гражданском в том числе имеют наименьшую вероятность вовремя погасить кредит. "
   ]
  },
  {
   "cell_type": "markdown",
   "id": "75464f29",
   "metadata": {},
   "source": [
    "#### 3.3 Проверим есть ли зависимость между уровнем дохода и возвратом кредита в срок."
   ]
  },
  {
   "cell_type": "code",
   "execution_count": 57,
   "id": "619c7be0",
   "metadata": {},
   "outputs": [
    {
     "name": "stdout",
     "output_type": "stream",
     "text": [
      "                        debt       conversion_income\n",
      "                       count   sum                  \n",
      "total_income_category                               \n",
      "D                        349    21          6.017192\n",
      "B                       5014   354          7.060231\n",
      "A                         25     2          8.000000\n",
      "C                      15921  1353          8.498210\n",
      "E                         22     2          9.090909\n"
     ]
    }
   ],
   "source": [
    "data_pivot = data.groupby('total_income_category').agg({'debt': ['count', 'sum']})\n",
    "data_pivot['conversion_income'] = (data_pivot['debt']['sum']/data_pivot['debt']['count'])*100\n",
    "print(data_pivot.sort_values(by='conversion_income'))\n",
    "\n",
    "# 0–30000 — 'E';\n",
    "# 30001–50000 — 'D';\n",
    "# 50001–200000 — 'C';\n",
    "# 200001–1000000 — 'B';\n",
    "# 1000001 и выше — 'A'"
   ]
  },
  {
   "cell_type": "markdown",
   "id": "c4336407",
   "metadata": {},
   "source": [
    "**Вывод:** Исходя из данных сводной таблицы видно, что чаще берут кредит люди двух категорий, люди с доходом 200001–1000000 и те чей доход 50001–200000. Люди первой категории чаще и своевременней выплачивают кредит. Тогда как вторая категория пренебрегает этим и входит в группу опасных заемщиков."
   ]
  },
  {
   "cell_type": "markdown",
   "id": "946a88b1",
   "metadata": {},
   "source": [
    "#### 3.4 Как разные цели кредита влияют на его возврат в срок?"
   ]
  },
  {
   "cell_type": "code",
   "execution_count": 58,
   "id": "a0315101",
   "metadata": {},
   "outputs": [
    {
     "name": "stdout",
     "output_type": "stream",
     "text": [
      "                           debt      conversion_purpose_category\n",
      "                          count  sum                            \n",
      "purpose_category                                                \n",
      "операции с недвижимостью  10751  780                    7.255139\n",
      "проведение свадьбы         2313  183                    7.911803\n",
      "получение образования      3988  369                    9.252758\n",
      "операции с автомобилем     4279  400                    9.347978\n"
     ]
    }
   ],
   "source": [
    "data_pivot = data.groupby('purpose_category').agg({'debt': ['count', 'sum']})\n",
    "data_pivot['conversion_purpose_category'] = (data_pivot['debt']['sum']/data_pivot['debt']['count'])*100\n",
    "print(data_pivot.sort_values(by='conversion_purpose_category'))"
   ]
  },
  {
   "cell_type": "markdown",
   "id": "2aa87379",
   "metadata": {},
   "source": [
    "**Вывод:** Выгоднее всего давать кредит на операции с недвижимостью и проведение свадеб. "
   ]
  },
  {
   "cell_type": "markdown",
   "id": "71e35729",
   "metadata": {},
   "source": [
    "#### 3.5 Посмотрим на возможные причины появления пропусков в исходных данных."
   ]
  },
  {
   "cell_type": "markdown",
   "id": "6707c681",
   "metadata": {},
   "source": [
    "- Пользователь намеренно не указал данные;\n",
    "- При выгрузке файла произошел сбой;\n",
    "- Система сбора информации работала некорректно."
   ]
  },
  {
   "cell_type": "markdown",
   "id": "63be7293",
   "metadata": {},
   "source": [
    "### Шаг 4: общий вывод."
   ]
  },
  {
   "cell_type": "markdown",
   "id": "e3ce4fdc",
   "metadata": {},
   "source": [
    "Самым лучшим заемщиком станет тот человек, чей доход 30000-40000, который не состоит в браке или овдовел, не имеющий детей и преобретающий кредит на операции с недвижимостью. "
   ]
  },
  {
   "cell_type": "markdown",
   "id": "65f9c8c6",
   "metadata": {},
   "source": [
    "**Детально по категориям:**\n",
    "  **Зависимость между количеством детей и возвратом кредита в срок.**\n",
    "   - Нет детей - 7.54%\n",
    "   - Много детей - 8.16%\n",
    "   - 1 ребенок - 9.23%\n",
    "   - 2 ребенка - 9.45%\n",
    "\n",
    "Разница между минимальным и максимальным значением - 1.91% \n",
    "\n",
    "Возврат кредита связан с количеством детей, те семьи где есть дети реже отдают кредит в срок, думаю это связано с финансовой нагрузкой на семью.\n",
    "\n",
    " **Зависимость между семейным положением и возвратом кредита в срок.**\n",
    "  - вдовец / вдова - 6.62%\n",
    "  - в разводе - 7.06%\n",
    "  - женат / замужем - 7.56%\n",
    "  - гражданский брак - 9.31%\n",
    "  - не женат / не замужем - 9.76%\n",
    "  \n",
    "Разница между минимальным и максимальным значением - 3,14% \n",
    "\n",
    "Люди ранее состоявшие в браки и потерявшие супругов,имеют более высокий уровень ответственности и они дисциплинированнее, следовательно и долги стараются закрывать вовремя. \n",
    "\n",
    " **Зависимость между уровнем дохода и возвратом кредита в срок.**\n",
    "  - От 30001 до 50000 - 6.02%\n",
    "  - От 200001 до 1000000 - 7,06%\n",
    "  - От 1000001 и выше - 8.0%\n",
    "  - От 50001 до 200000 - 8.5%\n",
    "  - От 0 до 30000 - 9,09%\n",
    "  \n",
    "Разница между минимальным и максимальным значением - 3,07% \n",
    "\n",
    "Люди с низуим доходом (от 30 до 50 тыс. руб) имеют меньше просрочек по кредитам( доля просрочек- 6,02%). Это можно обьяснить тем, что кредит для них ценен и это крайняя мера. Имея низкий доход, они взяли кредит на то, что действительно важно и не хотели бы в будующем испортить кредитную историю.\n",
    "\n",
    "И у людей с высоким доходом (от 200 тыс. до 1 мил. руб.)(доля 7,06%). Это можно объяснить тем, что они понимают ценность денег.\n",
    "\n",
    " **Зависимость по цели кредита**\n",
    "  - операции с недвижимостью - 7.25%\n",
    "  - проведение свадьбы - 7.91%\n",
    "  - получение образования - 9.25%\n",
    "  - операции с автомобилем - 9.35%\n",
    "  \n",
    "Разница между минимальным и максимальным значением - 2,1%\n",
    "\n",
    "Больше всего просрочек у кредитов на автомобиль и образование. Это можно бъяснить тем, что на рынке автокредитования создаются очень привлекательные предложения и человек порой берет кредит не оценевая аддекватно свои возможности.\n",
    "\n",
    "Кредит на недвижимось имет меньше всего просрочек. Человек, выбирая ипотеку, хорошо просчитывает свои возможности, так как срок платежа очень большой. "
   ]
  }
 ],
 "metadata": {
  "ExecuteTimeLog": [
   {
    "duration": 3,
    "start_time": "2022-12-14T15:18:32.282Z"
   },
   {
    "duration": 84,
    "start_time": "2022-12-14T15:18:32.286Z"
   },
   {
    "duration": 13,
    "start_time": "2022-12-14T15:18:32.372Z"
   },
   {
    "duration": 19,
    "start_time": "2022-12-14T15:18:32.387Z"
   },
   {
    "duration": 24,
    "start_time": "2022-12-14T15:18:32.408Z"
   },
   {
    "duration": 20,
    "start_time": "2022-12-14T15:18:32.433Z"
   },
   {
    "duration": 19,
    "start_time": "2022-12-14T15:18:32.455Z"
   },
   {
    "duration": 19,
    "start_time": "2022-12-14T15:18:32.475Z"
   },
   {
    "duration": 17,
    "start_time": "2022-12-14T15:18:32.496Z"
   },
   {
    "duration": 19,
    "start_time": "2022-12-14T15:18:32.514Z"
   },
   {
    "duration": 22,
    "start_time": "2022-12-14T15:18:32.535Z"
   },
   {
    "duration": 20,
    "start_time": "2022-12-14T15:18:32.558Z"
   },
   {
    "duration": 23,
    "start_time": "2022-12-14T15:18:32.580Z"
   },
   {
    "duration": 12,
    "start_time": "2022-12-14T15:18:32.606Z"
   },
   {
    "duration": 21,
    "start_time": "2022-12-14T15:18:32.619Z"
   },
   {
    "duration": 19,
    "start_time": "2022-12-14T15:18:32.641Z"
   },
   {
    "duration": 14,
    "start_time": "2022-12-14T15:18:32.662Z"
   },
   {
    "duration": 19,
    "start_time": "2022-12-14T15:18:32.677Z"
   },
   {
    "duration": 18,
    "start_time": "2022-12-14T15:18:32.697Z"
   },
   {
    "duration": 21,
    "start_time": "2022-12-14T15:18:32.717Z"
   },
   {
    "duration": 20,
    "start_time": "2022-12-14T15:18:32.739Z"
   },
   {
    "duration": 19,
    "start_time": "2022-12-14T15:18:32.760Z"
   },
   {
    "duration": 12,
    "start_time": "2022-12-14T15:20:10.591Z"
   },
   {
    "duration": 3,
    "start_time": "2022-12-14T16:07:08.393Z"
   },
   {
    "duration": 7,
    "start_time": "2022-12-14T16:15:18.765Z"
   },
   {
    "duration": 8,
    "start_time": "2022-12-14T16:15:52.952Z"
   },
   {
    "duration": 4,
    "start_time": "2022-12-14T16:25:27.446Z"
   },
   {
    "duration": 4,
    "start_time": "2022-12-14T16:29:35.777Z"
   },
   {
    "duration": 6,
    "start_time": "2022-12-14T16:44:25.982Z"
   },
   {
    "duration": 4,
    "start_time": "2022-12-14T16:46:39.084Z"
   },
   {
    "duration": 10,
    "start_time": "2022-12-14T16:50:08.989Z"
   },
   {
    "duration": 7,
    "start_time": "2022-12-14T16:53:12.548Z"
   },
   {
    "duration": 7,
    "start_time": "2022-12-14T16:55:03.238Z"
   },
   {
    "duration": 5,
    "start_time": "2022-12-14T16:58:13.717Z"
   },
   {
    "duration": 11,
    "start_time": "2022-12-14T17:07:50.610Z"
   },
   {
    "duration": 43,
    "start_time": "2022-12-14T17:16:27.168Z"
   },
   {
    "duration": 38,
    "start_time": "2022-12-14T17:16:35.031Z"
   },
   {
    "duration": 18,
    "start_time": "2022-12-14T17:20:50.636Z"
   },
   {
    "duration": 17,
    "start_time": "2022-12-14T17:22:39.766Z"
   },
   {
    "duration": 3,
    "start_time": "2022-12-14T17:46:13.919Z"
   },
   {
    "duration": 8,
    "start_time": "2022-12-14T17:46:16.117Z"
   },
   {
    "duration": 5,
    "start_time": "2022-12-14T17:47:07.217Z"
   },
   {
    "duration": 3,
    "start_time": "2022-12-14T20:47:38.679Z"
   },
   {
    "duration": 3,
    "start_time": "2022-12-14T20:49:18.280Z"
   },
   {
    "duration": 307,
    "start_time": "2022-12-14T20:52:04.167Z"
   },
   {
    "duration": 360,
    "start_time": "2022-12-16T09:09:02.658Z"
   },
   {
    "duration": 143,
    "start_time": "2022-12-16T09:09:03.020Z"
   },
   {
    "duration": 21,
    "start_time": "2022-12-16T09:09:03.165Z"
   },
   {
    "duration": 17,
    "start_time": "2022-12-16T09:09:03.188Z"
   },
   {
    "duration": 22,
    "start_time": "2022-12-16T09:09:03.207Z"
   },
   {
    "duration": 26,
    "start_time": "2022-12-16T09:09:03.231Z"
   },
   {
    "duration": 13,
    "start_time": "2022-12-16T09:09:03.259Z"
   },
   {
    "duration": 20,
    "start_time": "2022-12-16T09:09:03.274Z"
   },
   {
    "duration": 32,
    "start_time": "2022-12-16T09:09:03.296Z"
   },
   {
    "duration": 25,
    "start_time": "2022-12-16T09:09:03.330Z"
   },
   {
    "duration": 25,
    "start_time": "2022-12-16T09:09:03.357Z"
   },
   {
    "duration": 27,
    "start_time": "2022-12-16T09:09:03.384Z"
   },
   {
    "duration": 14,
    "start_time": "2022-12-16T09:09:03.412Z"
   },
   {
    "duration": 27,
    "start_time": "2022-12-16T09:09:03.427Z"
   },
   {
    "duration": 26,
    "start_time": "2022-12-16T09:09:03.456Z"
   },
   {
    "duration": 30,
    "start_time": "2022-12-16T09:09:03.484Z"
   },
   {
    "duration": 15,
    "start_time": "2022-12-16T09:09:03.515Z"
   },
   {
    "duration": 11,
    "start_time": "2022-12-16T09:09:03.531Z"
   },
   {
    "duration": 18,
    "start_time": "2022-12-16T09:09:03.543Z"
   },
   {
    "duration": 33,
    "start_time": "2022-12-16T09:09:03.563Z"
   },
   {
    "duration": 20,
    "start_time": "2022-12-16T09:09:03.597Z"
   },
   {
    "duration": 37,
    "start_time": "2022-12-16T09:09:03.619Z"
   },
   {
    "duration": 76,
    "start_time": "2022-12-16T09:27:01.003Z"
   },
   {
    "duration": 68,
    "start_time": "2022-12-16T09:30:50.459Z"
   },
   {
    "duration": 72,
    "start_time": "2022-12-16T09:31:00.615Z"
   },
   {
    "duration": 143,
    "start_time": "2022-12-16T09:32:08.078Z"
   },
   {
    "duration": 74,
    "start_time": "2022-12-16T09:33:13.675Z"
   },
   {
    "duration": 71,
    "start_time": "2022-12-16T09:33:21.929Z"
   },
   {
    "duration": 71,
    "start_time": "2022-12-16T09:34:10.220Z"
   },
   {
    "duration": 34,
    "start_time": "2022-12-16T09:34:38.414Z"
   },
   {
    "duration": 31,
    "start_time": "2022-12-16T09:34:43.533Z"
   },
   {
    "duration": 20,
    "start_time": "2022-12-16T09:38:01.118Z"
   },
   {
    "duration": 3,
    "start_time": "2022-12-16T09:38:05.384Z"
   },
   {
    "duration": 76,
    "start_time": "2022-12-16T09:38:05.388Z"
   },
   {
    "duration": 18,
    "start_time": "2022-12-16T09:38:05.465Z"
   },
   {
    "duration": 26,
    "start_time": "2022-12-16T09:38:05.486Z"
   },
   {
    "duration": 20,
    "start_time": "2022-12-16T09:38:05.515Z"
   },
   {
    "duration": 55,
    "start_time": "2022-12-16T09:38:05.537Z"
   },
   {
    "duration": 4,
    "start_time": "2022-12-16T09:38:05.594Z"
   },
   {
    "duration": 15,
    "start_time": "2022-12-16T09:38:05.599Z"
   },
   {
    "duration": 31,
    "start_time": "2022-12-16T09:38:05.616Z"
   },
   {
    "duration": 12,
    "start_time": "2022-12-16T09:38:05.649Z"
   },
   {
    "duration": 12,
    "start_time": "2022-12-16T09:38:05.663Z"
   },
   {
    "duration": 31,
    "start_time": "2022-12-16T09:38:05.677Z"
   },
   {
    "duration": 12,
    "start_time": "2022-12-16T09:38:05.710Z"
   },
   {
    "duration": 5,
    "start_time": "2022-12-16T09:38:05.724Z"
   },
   {
    "duration": 13,
    "start_time": "2022-12-16T09:38:05.731Z"
   },
   {
    "duration": 23,
    "start_time": "2022-12-16T09:38:05.746Z"
   },
   {
    "duration": 47,
    "start_time": "2022-12-16T09:38:05.770Z"
   },
   {
    "duration": 4,
    "start_time": "2022-12-16T09:38:05.819Z"
   },
   {
    "duration": 19,
    "start_time": "2022-12-16T09:38:05.825Z"
   },
   {
    "duration": 29,
    "start_time": "2022-12-16T09:38:05.845Z"
   },
   {
    "duration": 8,
    "start_time": "2022-12-16T09:38:05.876Z"
   },
   {
    "duration": 27,
    "start_time": "2022-12-16T09:38:05.885Z"
   },
   {
    "duration": 8,
    "start_time": "2022-12-16T09:38:50.861Z"
   },
   {
    "duration": 3,
    "start_time": "2022-12-16T09:38:53.278Z"
   }
  ],
  "celltoolbar": "Необработанный формат ячейки",
  "colab": {
   "provenance": []
  },
  "kernelspec": {
   "display_name": "Python 3 (ipykernel)",
   "language": "python",
   "name": "python3"
  },
  "language_info": {
   "codemirror_mode": {
    "name": "ipython",
    "version": 3
   },
   "file_extension": ".py",
   "mimetype": "text/x-python",
   "name": "python",
   "nbconvert_exporter": "python",
   "pygments_lexer": "ipython3",
   "version": "3.9.13"
  },
  "toc": {
   "base_numbering": 1,
   "nav_menu": {},
   "number_sections": true,
   "sideBar": true,
   "skip_h1_title": true,
   "title_cell": "Table of Contents",
   "title_sidebar": "Contents",
   "toc_cell": false,
   "toc_position": {},
   "toc_section_display": true,
   "toc_window_display": false
  }
 },
 "nbformat": 4,
 "nbformat_minor": 5
}
