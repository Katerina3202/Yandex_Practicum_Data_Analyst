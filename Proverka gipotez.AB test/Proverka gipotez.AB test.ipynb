{
 "cells": [
  {
   "cell_type": "markdown",
   "metadata": {},
   "source": [
    "# Приоритизация гипотез и анализ A/B-теста для увеличения выручки интернет-магазина."
   ]
  },
  {
   "cell_type": "markdown",
   "metadata": {},
   "source": [
    "## Описание проекта."
   ]
  },
  {
   "cell_type": "markdown",
   "metadata": {},
   "source": [
    "Аналитики крупного интернет-магазина вместе с отделом маркетинга подготовили список гипотез для увеличения выручки.\n"
   ]
  },
  {
   "cell_type": "markdown",
   "metadata": {},
   "source": [
    "**Цели исследования:**\n",
    "\n",
    "1. Приоритизация гипотез.\n",
    "2. Анализ A/B-теста."
   ]
  },
  {
   "cell_type": "markdown",
   "metadata": {},
   "source": [
    "**Задачи исследования:** \n",
    "1. Приоритизировать ряд гипотез, разработанных совместно с отделом маркетинга\n",
    "2. Запустить A/B-тест и проанализировать результаты."
   ]
  },
  {
   "cell_type": "markdown",
   "metadata": {},
   "source": [
    "**Ход исследования:** <br>\n",
    "Данные -в файлах:\n",
    "\n",
    "/datasets/hypothesis.csv <br>\n",
    "/datasets/orders.csv <br>\n",
    "/datasets/visitors.csv <br>"
   ]
  },
  {
   "cell_type": "markdown",
   "metadata": {},
   "source": [
    "О качестве данных ничего не известно. Поэтому перед проверкой гипотез понадобится обзор данных.\n",
    "\n",
    "Проверим данные на ошибки и оценим их влияние на исследование. Затем, на этапе предобработки поищем возможность исправить самые критичные ошибки данных.\n",
    "\n",
    "Таким образом, исследование пройдёт в несколько этапов:\n",
    "\n",
    "1) Обзор данных.\n",
    "\n",
    "2) Предобработка данных.\n",
    "\n",
    "3) Приоритизация гипотез.\n",
    "\n",
    "4) Анализ A/B-теста, принятие решения по результатам теста и объясните его."
   ]
  },
  {
   "cell_type": "markdown",
   "metadata": {},
   "source": [
    "## Загрузка данных и подготовка их к анализу. Часть 1"
   ]
  },
  {
   "cell_type": "code",
   "execution_count": 33,
   "metadata": {},
   "outputs": [],
   "source": [
    "import pandas as pd\n",
    "import datetime as dt\n",
    "import numpy as np\n",
    "import matplotlib.pyplot as plt\n",
    "from pandas.plotting import register_matplotlib_converters\n",
    "import warnings\n",
    "import scipy.stats as stats"
   ]
  },
  {
   "cell_type": "code",
   "execution_count": 34,
   "metadata": {},
   "outputs": [],
   "source": [
    "try: \n",
    "    hypothesis = pd.read_csv('/datasets/hypothesis.csv') #читаем файл\n",
    "except:\n",
    "    hypothesis = pd.read_csv('hypothesis.csv')"
   ]
  },
  {
   "cell_type": "code",
   "execution_count": 35,
   "metadata": {},
   "outputs": [
    {
     "data": {
      "text/html": [
       "<div>\n",
       "<style scoped>\n",
       "    .dataframe tbody tr th:only-of-type {\n",
       "        vertical-align: middle;\n",
       "    }\n",
       "\n",
       "    .dataframe tbody tr th {\n",
       "        vertical-align: top;\n",
       "    }\n",
       "\n",
       "    .dataframe thead th {\n",
       "        text-align: right;\n",
       "    }\n",
       "</style>\n",
       "<table border=\"1\" class=\"dataframe\">\n",
       "  <thead>\n",
       "    <tr style=\"text-align: right;\">\n",
       "      <th></th>\n",
       "      <th>Hypothesis</th>\n",
       "      <th>Reach</th>\n",
       "      <th>Impact</th>\n",
       "      <th>Confidence</th>\n",
       "      <th>Efforts</th>\n",
       "    </tr>\n",
       "  </thead>\n",
       "  <tbody>\n",
       "    <tr>\n",
       "      <th>0</th>\n",
       "      <td>Добавить два новых канала привлечения трафика, что позволит привлекать на 30% больше пользователей</td>\n",
       "      <td>3</td>\n",
       "      <td>10</td>\n",
       "      <td>8</td>\n",
       "      <td>6</td>\n",
       "    </tr>\n",
       "    <tr>\n",
       "      <th>1</th>\n",
       "      <td>Запустить собственную службу доставки, что сократит срок доставки заказов</td>\n",
       "      <td>2</td>\n",
       "      <td>5</td>\n",
       "      <td>4</td>\n",
       "      <td>10</td>\n",
       "    </tr>\n",
       "    <tr>\n",
       "      <th>2</th>\n",
       "      <td>Добавить блоки рекомендаций товаров на сайт интернет магазина, чтобы повысить конверсию и средни...</td>\n",
       "      <td>8</td>\n",
       "      <td>3</td>\n",
       "      <td>7</td>\n",
       "      <td>3</td>\n",
       "    </tr>\n",
       "    <tr>\n",
       "      <th>3</th>\n",
       "      <td>Изменить структура категорий, что увеличит конверсию, т.к. пользователи быстрее найдут нужный товар</td>\n",
       "      <td>8</td>\n",
       "      <td>3</td>\n",
       "      <td>3</td>\n",
       "      <td>8</td>\n",
       "    </tr>\n",
       "    <tr>\n",
       "      <th>4</th>\n",
       "      <td>Изменить цвет фона главной страницы, чтобы увеличить вовлеченность пользователей</td>\n",
       "      <td>3</td>\n",
       "      <td>1</td>\n",
       "      <td>1</td>\n",
       "      <td>1</td>\n",
       "    </tr>\n",
       "    <tr>\n",
       "      <th>5</th>\n",
       "      <td>Добавить страницу отзывов клиентов о магазине, что позволит увеличить количество заказов</td>\n",
       "      <td>3</td>\n",
       "      <td>2</td>\n",
       "      <td>2</td>\n",
       "      <td>3</td>\n",
       "    </tr>\n",
       "    <tr>\n",
       "      <th>6</th>\n",
       "      <td>Показать на главной странице баннеры с актуальными акциями и распродажами, чтобы увеличить конве...</td>\n",
       "      <td>5</td>\n",
       "      <td>3</td>\n",
       "      <td>8</td>\n",
       "      <td>3</td>\n",
       "    </tr>\n",
       "    <tr>\n",
       "      <th>7</th>\n",
       "      <td>Добавить форму подписки на все основные страницы, чтобы собрать базу клиентов для email-рассылок</td>\n",
       "      <td>10</td>\n",
       "      <td>7</td>\n",
       "      <td>8</td>\n",
       "      <td>5</td>\n",
       "    </tr>\n",
       "    <tr>\n",
       "      <th>8</th>\n",
       "      <td>Запустить акцию, дающую скидку на товар в день рождения</td>\n",
       "      <td>1</td>\n",
       "      <td>9</td>\n",
       "      <td>9</td>\n",
       "      <td>5</td>\n",
       "    </tr>\n",
       "  </tbody>\n",
       "</table>\n",
       "</div>"
      ],
      "text/plain": [
       "                                                                                            Hypothesis  \\\n",
       "0   Добавить два новых канала привлечения трафика, что позволит привлекать на 30% больше пользователей   \n",
       "1                            Запустить собственную службу доставки, что сократит срок доставки заказов   \n",
       "2  Добавить блоки рекомендаций товаров на сайт интернет магазина, чтобы повысить конверсию и средни...   \n",
       "3  Изменить структура категорий, что увеличит конверсию, т.к. пользователи быстрее найдут нужный товар   \n",
       "4                     Изменить цвет фона главной страницы, чтобы увеличить вовлеченность пользователей   \n",
       "5             Добавить страницу отзывов клиентов о магазине, что позволит увеличить количество заказов   \n",
       "6  Показать на главной странице баннеры с актуальными акциями и распродажами, чтобы увеличить конве...   \n",
       "7     Добавить форму подписки на все основные страницы, чтобы собрать базу клиентов для email-рассылок   \n",
       "8                                              Запустить акцию, дающую скидку на товар в день рождения   \n",
       "\n",
       "   Reach  Impact  Confidence  Efforts  \n",
       "0      3      10           8        6  \n",
       "1      2       5           4       10  \n",
       "2      8       3           7        3  \n",
       "3      8       3           3        8  \n",
       "4      3       1           1        1  \n",
       "5      3       2           2        3  \n",
       "6      5       3           8        3  \n",
       "7     10       7           8        5  \n",
       "8      1       9           9        5  "
      ]
     },
     "execution_count": 35,
     "metadata": {},
     "output_type": "execute_result"
    }
   ],
   "source": [
    "pd.options.display.max_colwidth = 100\n",
    "hypothesis.head(9)"
   ]
  },
  {
   "cell_type": "markdown",
   "metadata": {},
   "source": [
    "* **Hypothesis** — краткое описание гипотезы;\n",
    "* **Reach** — охват пользователей по 10-балльной шкале;\n",
    "* **Impact** — влияние на пользователей по 10-балльной шкале;\n",
    "* **Confidence** — уверенность в гипотезе по 10-балльной шкале;\n",
    "* **Efforts** — затраты ресурсов на проверку гипотезы по 10-балльной шкале. Чем больше значение Efforts, тем дороже проверка гипотезы."
   ]
  },
  {
   "cell_type": "markdown",
   "metadata": {},
   "source": [
    "Как видно из данных, значения целые, пропусков, дубликатов нет. Но стоит названия колонок перевести в нижний регистр так будет удобнее работать дальше."
   ]
  },
  {
   "cell_type": "code",
   "execution_count": 36,
   "metadata": {},
   "outputs": [],
   "source": [
    "# Приводём колонки к нижнему регистру:\n",
    "hypothesis.columns = map(str.lower, hypothesis.columns)"
   ]
  },
  {
   "cell_type": "code",
   "execution_count": 37,
   "metadata": {},
   "outputs": [
    {
     "name": "stdout",
     "output_type": "stream",
     "text": [
      "<class 'pandas.core.frame.DataFrame'>\n",
      "RangeIndex: 9 entries, 0 to 8\n",
      "Data columns (total 5 columns):\n",
      " #   Column      Non-Null Count  Dtype \n",
      "---  ------      --------------  ----- \n",
      " 0   hypothesis  9 non-null      object\n",
      " 1   reach       9 non-null      int64 \n",
      " 2   impact      9 non-null      int64 \n",
      " 3   confidence  9 non-null      int64 \n",
      " 4   efforts     9 non-null      int64 \n",
      "dtypes: int64(4), object(1)\n",
      "memory usage: 488.0+ bytes\n"
     ]
    }
   ],
   "source": [
    "hypothesis.info()"
   ]
  },
  {
   "cell_type": "markdown",
   "metadata": {},
   "source": [
    "## Приоритизация гипотез"
   ]
  },
  {
   "cell_type": "markdown",
   "metadata": {},
   "source": [
    "### Применение фреймворка ICE для приоритизации гипотез"
   ]
  },
  {
   "cell_type": "code",
   "execution_count": 38,
   "metadata": {},
   "outputs": [
    {
     "data": {
      "text/html": [
       "<div>\n",
       "<style scoped>\n",
       "    .dataframe tbody tr th:only-of-type {\n",
       "        vertical-align: middle;\n",
       "    }\n",
       "\n",
       "    .dataframe tbody tr th {\n",
       "        vertical-align: top;\n",
       "    }\n",
       "\n",
       "    .dataframe thead th {\n",
       "        text-align: right;\n",
       "    }\n",
       "</style>\n",
       "<table border=\"1\" class=\"dataframe\">\n",
       "  <thead>\n",
       "    <tr style=\"text-align: right;\">\n",
       "      <th></th>\n",
       "      <th>hypothesis</th>\n",
       "      <th>ice</th>\n",
       "    </tr>\n",
       "  </thead>\n",
       "  <tbody>\n",
       "    <tr>\n",
       "      <th>8</th>\n",
       "      <td>Запустить акцию, дающую скидку на товар в день рождения</td>\n",
       "      <td>16.200</td>\n",
       "    </tr>\n",
       "    <tr>\n",
       "      <th>0</th>\n",
       "      <td>Добавить два новых канала привлечения трафика, что позволит привлекать на 30% больше пользователей</td>\n",
       "      <td>13.333</td>\n",
       "    </tr>\n",
       "    <tr>\n",
       "      <th>7</th>\n",
       "      <td>Добавить форму подписки на все основные страницы, чтобы собрать базу клиентов для email-рассылок</td>\n",
       "      <td>11.200</td>\n",
       "    </tr>\n",
       "    <tr>\n",
       "      <th>6</th>\n",
       "      <td>Показать на главной странице баннеры с актуальными акциями и распродажами, чтобы увеличить конве...</td>\n",
       "      <td>8.000</td>\n",
       "    </tr>\n",
       "    <tr>\n",
       "      <th>2</th>\n",
       "      <td>Добавить блоки рекомендаций товаров на сайт интернет магазина, чтобы повысить конверсию и средни...</td>\n",
       "      <td>7.000</td>\n",
       "    </tr>\n",
       "    <tr>\n",
       "      <th>1</th>\n",
       "      <td>Запустить собственную службу доставки, что сократит срок доставки заказов</td>\n",
       "      <td>2.000</td>\n",
       "    </tr>\n",
       "    <tr>\n",
       "      <th>5</th>\n",
       "      <td>Добавить страницу отзывов клиентов о магазине, что позволит увеличить количество заказов</td>\n",
       "      <td>1.333</td>\n",
       "    </tr>\n",
       "    <tr>\n",
       "      <th>3</th>\n",
       "      <td>Изменить структура категорий, что увеличит конверсию, т.к. пользователи быстрее найдут нужный товар</td>\n",
       "      <td>1.125</td>\n",
       "    </tr>\n",
       "    <tr>\n",
       "      <th>4</th>\n",
       "      <td>Изменить цвет фона главной страницы, чтобы увеличить вовлеченность пользователей</td>\n",
       "      <td>1.000</td>\n",
       "    </tr>\n",
       "  </tbody>\n",
       "</table>\n",
       "</div>"
      ],
      "text/plain": [
       "                                                                                            hypothesis  \\\n",
       "8                                              Запустить акцию, дающую скидку на товар в день рождения   \n",
       "0   Добавить два новых канала привлечения трафика, что позволит привлекать на 30% больше пользователей   \n",
       "7     Добавить форму подписки на все основные страницы, чтобы собрать базу клиентов для email-рассылок   \n",
       "6  Показать на главной странице баннеры с актуальными акциями и распродажами, чтобы увеличить конве...   \n",
       "2  Добавить блоки рекомендаций товаров на сайт интернет магазина, чтобы повысить конверсию и средни...   \n",
       "1                            Запустить собственную службу доставки, что сократит срок доставки заказов   \n",
       "5             Добавить страницу отзывов клиентов о магазине, что позволит увеличить количество заказов   \n",
       "3  Изменить структура категорий, что увеличит конверсию, т.к. пользователи быстрее найдут нужный товар   \n",
       "4                     Изменить цвет фона главной страницы, чтобы увеличить вовлеченность пользователей   \n",
       "\n",
       "      ice  \n",
       "8  16.200  \n",
       "0  13.333  \n",
       "7  11.200  \n",
       "6   8.000  \n",
       "2   7.000  \n",
       "1   2.000  \n",
       "5   1.333  \n",
       "3   1.125  \n",
       "4   1.000  "
      ]
     },
     "execution_count": 38,
     "metadata": {},
     "output_type": "execute_result"
    }
   ],
   "source": [
    "# Рассчитаем показатель ICE:\n",
    "hypothesis['ice'] = (hypothesis['impact'] * hypothesis['confidence'])/ hypothesis['efforts']\n",
    "\n",
    "# Cортируем по результатам ICE:\n",
    "hypothesis[['hypothesis','ice']].sort_values('ice', ascending=False).round(3)"
   ]
  },
  {
   "cell_type": "markdown",
   "metadata": {},
   "source": [
    "Видим, что гипотезы № 8, 0 и 7 являются наиболее приоритетными задачами с позиции вероятного влияния их на выручку, без учёта пользовательского охвата. <br>\n",
    "Наибольшее значение ICE имеет гипотеза №8 - \"Запустить акцию, дающую скидку на товар в день рождения\"."
   ]
  },
  {
   "cell_type": "markdown",
   "metadata": {},
   "source": [
    "### Применение фреймворка RICE для приоритизации гипотез"
   ]
  },
  {
   "cell_type": "code",
   "execution_count": 39,
   "metadata": {},
   "outputs": [
    {
     "data": {
      "text/html": [
       "<div>\n",
       "<style scoped>\n",
       "    .dataframe tbody tr th:only-of-type {\n",
       "        vertical-align: middle;\n",
       "    }\n",
       "\n",
       "    .dataframe tbody tr th {\n",
       "        vertical-align: top;\n",
       "    }\n",
       "\n",
       "    .dataframe thead th {\n",
       "        text-align: right;\n",
       "    }\n",
       "</style>\n",
       "<table border=\"1\" class=\"dataframe\">\n",
       "  <thead>\n",
       "    <tr style=\"text-align: right;\">\n",
       "      <th></th>\n",
       "      <th>hypothesis</th>\n",
       "      <th>rice</th>\n",
       "    </tr>\n",
       "  </thead>\n",
       "  <tbody>\n",
       "    <tr>\n",
       "      <th>7</th>\n",
       "      <td>Добавить форму подписки на все основные страницы, чтобы собрать базу клиентов для email-рассылок</td>\n",
       "      <td>112.0</td>\n",
       "    </tr>\n",
       "    <tr>\n",
       "      <th>2</th>\n",
       "      <td>Добавить блоки рекомендаций товаров на сайт интернет магазина, чтобы повысить конверсию и средни...</td>\n",
       "      <td>56.0</td>\n",
       "    </tr>\n",
       "    <tr>\n",
       "      <th>0</th>\n",
       "      <td>Добавить два новых канала привлечения трафика, что позволит привлекать на 30% больше пользователей</td>\n",
       "      <td>40.0</td>\n",
       "    </tr>\n",
       "    <tr>\n",
       "      <th>6</th>\n",
       "      <td>Показать на главной странице баннеры с актуальными акциями и распродажами, чтобы увеличить конве...</td>\n",
       "      <td>40.0</td>\n",
       "    </tr>\n",
       "    <tr>\n",
       "      <th>8</th>\n",
       "      <td>Запустить акцию, дающую скидку на товар в день рождения</td>\n",
       "      <td>16.2</td>\n",
       "    </tr>\n",
       "    <tr>\n",
       "      <th>3</th>\n",
       "      <td>Изменить структура категорий, что увеличит конверсию, т.к. пользователи быстрее найдут нужный товар</td>\n",
       "      <td>9.0</td>\n",
       "    </tr>\n",
       "    <tr>\n",
       "      <th>1</th>\n",
       "      <td>Запустить собственную службу доставки, что сократит срок доставки заказов</td>\n",
       "      <td>4.0</td>\n",
       "    </tr>\n",
       "    <tr>\n",
       "      <th>5</th>\n",
       "      <td>Добавить страницу отзывов клиентов о магазине, что позволит увеличить количество заказов</td>\n",
       "      <td>4.0</td>\n",
       "    </tr>\n",
       "    <tr>\n",
       "      <th>4</th>\n",
       "      <td>Изменить цвет фона главной страницы, чтобы увеличить вовлеченность пользователей</td>\n",
       "      <td>3.0</td>\n",
       "    </tr>\n",
       "  </tbody>\n",
       "</table>\n",
       "</div>"
      ],
      "text/plain": [
       "                                                                                            hypothesis  \\\n",
       "7     Добавить форму подписки на все основные страницы, чтобы собрать базу клиентов для email-рассылок   \n",
       "2  Добавить блоки рекомендаций товаров на сайт интернет магазина, чтобы повысить конверсию и средни...   \n",
       "0   Добавить два новых канала привлечения трафика, что позволит привлекать на 30% больше пользователей   \n",
       "6  Показать на главной странице баннеры с актуальными акциями и распродажами, чтобы увеличить конве...   \n",
       "8                                              Запустить акцию, дающую скидку на товар в день рождения   \n",
       "3  Изменить структура категорий, что увеличит конверсию, т.к. пользователи быстрее найдут нужный товар   \n",
       "1                            Запустить собственную службу доставки, что сократит срок доставки заказов   \n",
       "5             Добавить страницу отзывов клиентов о магазине, что позволит увеличить количество заказов   \n",
       "4                     Изменить цвет фона главной страницы, чтобы увеличить вовлеченность пользователей   \n",
       "\n",
       "    rice  \n",
       "7  112.0  \n",
       "2   56.0  \n",
       "0   40.0  \n",
       "6   40.0  \n",
       "8   16.2  \n",
       "3    9.0  \n",
       "1    4.0  \n",
       "5    4.0  \n",
       "4    3.0  "
      ]
     },
     "execution_count": 39,
     "metadata": {},
     "output_type": "execute_result"
    }
   ],
   "source": [
    "hypothesis['rice'] = (hypothesis['reach']*hypothesis['impact']*hypothesis['confidence']) / hypothesis['efforts']\n",
    "hypothesis[['hypothesis','rice']].sort_values('rice', ascending=False)"
   ]
  },
  {
   "cell_type": "markdown",
   "metadata": {},
   "source": [
    "При расчёте методом RICE видим, что порядок приоитетных гипотиз изменился - тремя самыми перспективными гипотезами будут № 7, 2 и 0. <br>\n",
    "При расчете RICE на первое место вышла гипотеза №7: \"Добавить форму подписки на все основные страницы, чтобы собрать базу клиентов для email-рассылок\"."
   ]
  },
  {
   "cell_type": "markdown",
   "metadata": {},
   "source": [
    "### Укажем, как изменилась приоритизация гипотез при применении RICE вместо ICE."
   ]
  },
  {
   "cell_type": "code",
   "execution_count": 40,
   "metadata": {},
   "outputs": [
    {
     "data": {
      "text/html": [
       "<div>\n",
       "<style scoped>\n",
       "    .dataframe tbody tr th:only-of-type {\n",
       "        vertical-align: middle;\n",
       "    }\n",
       "\n",
       "    .dataframe tbody tr th {\n",
       "        vertical-align: top;\n",
       "    }\n",
       "\n",
       "    .dataframe thead th {\n",
       "        text-align: right;\n",
       "    }\n",
       "</style>\n",
       "<table border=\"1\" class=\"dataframe\">\n",
       "  <thead>\n",
       "    <tr style=\"text-align: right;\">\n",
       "      <th></th>\n",
       "      <th>hypothesis</th>\n",
       "      <th>reach</th>\n",
       "      <th>impact</th>\n",
       "      <th>confidence</th>\n",
       "      <th>efforts</th>\n",
       "      <th>ice</th>\n",
       "      <th>rice</th>\n",
       "    </tr>\n",
       "  </thead>\n",
       "  <tbody>\n",
       "    <tr>\n",
       "      <th>8</th>\n",
       "      <td>Запустить акцию, дающую скидку на товар в день рождения</td>\n",
       "      <td>1</td>\n",
       "      <td>9</td>\n",
       "      <td>9</td>\n",
       "      <td>5</td>\n",
       "      <td>16.200</td>\n",
       "      <td>16.2</td>\n",
       "    </tr>\n",
       "    <tr>\n",
       "      <th>0</th>\n",
       "      <td>Добавить два новых канала привлечения трафика, что позволит привлекать на 30% больше пользователей</td>\n",
       "      <td>3</td>\n",
       "      <td>10</td>\n",
       "      <td>8</td>\n",
       "      <td>6</td>\n",
       "      <td>13.333</td>\n",
       "      <td>40.0</td>\n",
       "    </tr>\n",
       "    <tr>\n",
       "      <th>7</th>\n",
       "      <td>Добавить форму подписки на все основные страницы, чтобы собрать базу клиентов для email-рассылок</td>\n",
       "      <td>10</td>\n",
       "      <td>7</td>\n",
       "      <td>8</td>\n",
       "      <td>5</td>\n",
       "      <td>11.200</td>\n",
       "      <td>112.0</td>\n",
       "    </tr>\n",
       "    <tr>\n",
       "      <th>6</th>\n",
       "      <td>Показать на главной странице баннеры с актуальными акциями и распродажами, чтобы увеличить конве...</td>\n",
       "      <td>5</td>\n",
       "      <td>3</td>\n",
       "      <td>8</td>\n",
       "      <td>3</td>\n",
       "      <td>8.000</td>\n",
       "      <td>40.0</td>\n",
       "    </tr>\n",
       "    <tr>\n",
       "      <th>2</th>\n",
       "      <td>Добавить блоки рекомендаций товаров на сайт интернет магазина, чтобы повысить конверсию и средни...</td>\n",
       "      <td>8</td>\n",
       "      <td>3</td>\n",
       "      <td>7</td>\n",
       "      <td>3</td>\n",
       "      <td>7.000</td>\n",
       "      <td>56.0</td>\n",
       "    </tr>\n",
       "    <tr>\n",
       "      <th>1</th>\n",
       "      <td>Запустить собственную службу доставки, что сократит срок доставки заказов</td>\n",
       "      <td>2</td>\n",
       "      <td>5</td>\n",
       "      <td>4</td>\n",
       "      <td>10</td>\n",
       "      <td>2.000</td>\n",
       "      <td>4.0</td>\n",
       "    </tr>\n",
       "    <tr>\n",
       "      <th>5</th>\n",
       "      <td>Добавить страницу отзывов клиентов о магазине, что позволит увеличить количество заказов</td>\n",
       "      <td>3</td>\n",
       "      <td>2</td>\n",
       "      <td>2</td>\n",
       "      <td>3</td>\n",
       "      <td>1.333</td>\n",
       "      <td>4.0</td>\n",
       "    </tr>\n",
       "    <tr>\n",
       "      <th>3</th>\n",
       "      <td>Изменить структура категорий, что увеличит конверсию, т.к. пользователи быстрее найдут нужный товар</td>\n",
       "      <td>8</td>\n",
       "      <td>3</td>\n",
       "      <td>3</td>\n",
       "      <td>8</td>\n",
       "      <td>1.125</td>\n",
       "      <td>9.0</td>\n",
       "    </tr>\n",
       "    <tr>\n",
       "      <th>4</th>\n",
       "      <td>Изменить цвет фона главной страницы, чтобы увеличить вовлеченность пользователей</td>\n",
       "      <td>3</td>\n",
       "      <td>1</td>\n",
       "      <td>1</td>\n",
       "      <td>1</td>\n",
       "      <td>1.000</td>\n",
       "      <td>3.0</td>\n",
       "    </tr>\n",
       "  </tbody>\n",
       "</table>\n",
       "</div>"
      ],
      "text/plain": [
       "                                                                                            hypothesis  \\\n",
       "8                                              Запустить акцию, дающую скидку на товар в день рождения   \n",
       "0   Добавить два новых канала привлечения трафика, что позволит привлекать на 30% больше пользователей   \n",
       "7     Добавить форму подписки на все основные страницы, чтобы собрать базу клиентов для email-рассылок   \n",
       "6  Показать на главной странице баннеры с актуальными акциями и распродажами, чтобы увеличить конве...   \n",
       "2  Добавить блоки рекомендаций товаров на сайт интернет магазина, чтобы повысить конверсию и средни...   \n",
       "1                            Запустить собственную службу доставки, что сократит срок доставки заказов   \n",
       "5             Добавить страницу отзывов клиентов о магазине, что позволит увеличить количество заказов   \n",
       "3  Изменить структура категорий, что увеличит конверсию, т.к. пользователи быстрее найдут нужный товар   \n",
       "4                     Изменить цвет фона главной страницы, чтобы увеличить вовлеченность пользователей   \n",
       "\n",
       "   reach  impact  confidence  efforts     ice   rice  \n",
       "8      1       9           9        5  16.200   16.2  \n",
       "0      3      10           8        6  13.333   40.0  \n",
       "7     10       7           8        5  11.200  112.0  \n",
       "6      5       3           8        3   8.000   40.0  \n",
       "2      8       3           7        3   7.000   56.0  \n",
       "1      2       5           4       10   2.000    4.0  \n",
       "5      3       2           2        3   1.333    4.0  \n",
       "3      8       3           3        8   1.125    9.0  \n",
       "4      3       1           1        1   1.000    3.0  "
      ]
     },
     "execution_count": 40,
     "metadata": {},
     "output_type": "execute_result"
    }
   ],
   "source": [
    "hypothesis.sort_values(by='ice', ascending=False).round(3)"
   ]
  },
  {
   "cell_type": "markdown",
   "metadata": {},
   "source": [
    "С поиощью параметра Reach мы изменили приоритеты: теперь нам видно как много пользователей затронет гипотеза."
   ]
  },
  {
   "cell_type": "markdown",
   "metadata": {},
   "source": [
    "Так произошло, потому, что одна формула учитывает охват, а другая — нет. У ice и rice отличается формула одним параметром. И если этот параметр у гипотезы большой, то и rice будет выше соответственно."
   ]
  },
  {
   "cell_type": "markdown",
   "metadata": {},
   "source": [
    "**Вывод:**"
   ]
  },
  {
   "cell_type": "markdown",
   "metadata": {},
   "source": [
    "**Приоритетная гипотеза по ICE** <br>\n",
    "Лидирует гипотеза \"Запустить акцию, дающую скидку на товар в день рождения\". У нее больше всего влияния на пользователей и  уверенность в гипотезе по 10-балльной шкале."
   ]
  },
  {
   "cell_type": "markdown",
   "metadata": {},
   "source": [
    "**Приоритетная гипотеза по RICE** <br>\n",
    "Лидирует гипотеза \"Добавить форму подписки на все основные страницы, чтобы создать базу клиентов для email-рассылок\". Так получилось, потому что ее параметр reach равен 10, в то время как у остальных гипотез он меньше. Reach помогает нам понять, как много пользователей затронет гипотеза."
   ]
  },
  {
   "cell_type": "markdown",
   "metadata": {},
   "source": [
    "Приоритет гипотез изменился после добавления в формулу расчёта показателя Reach (охват пользователей). Поэтому целесообразнее при определении приоритета гипотезы учитывать не только влияние на пользователей, затраты и степень уверенности в самой гипотезе, но и число пользователей, которых она затронет. Гипотеза 7 получается наиболее перспективна, т.к. помимо высоких impact и confidence, коснётся всех пользователей сайта."
   ]
  },
  {
   "cell_type": "markdown",
   "metadata": {},
   "source": [
    "## Загрузка данных и подготовка их к анализу. Часть 2"
   ]
  },
  {
   "cell_type": "code",
   "execution_count": 41,
   "metadata": {},
   "outputs": [],
   "source": [
    "try:\n",
    "    orders = pd.read_csv('/datasets/orders.csv') # Извлекаем данные о заказах\n",
    "except:\n",
    "    orders = pd.read_csv('orders.csv')"
   ]
  },
  {
   "cell_type": "code",
   "execution_count": 42,
   "metadata": {},
   "outputs": [
    {
     "data": {
      "text/html": [
       "<div>\n",
       "<style scoped>\n",
       "    .dataframe tbody tr th:only-of-type {\n",
       "        vertical-align: middle;\n",
       "    }\n",
       "\n",
       "    .dataframe tbody tr th {\n",
       "        vertical-align: top;\n",
       "    }\n",
       "\n",
       "    .dataframe thead th {\n",
       "        text-align: right;\n",
       "    }\n",
       "</style>\n",
       "<table border=\"1\" class=\"dataframe\">\n",
       "  <thead>\n",
       "    <tr style=\"text-align: right;\">\n",
       "      <th></th>\n",
       "      <th>transactionId</th>\n",
       "      <th>visitorId</th>\n",
       "      <th>date</th>\n",
       "      <th>revenue</th>\n",
       "      <th>group</th>\n",
       "    </tr>\n",
       "  </thead>\n",
       "  <tbody>\n",
       "    <tr>\n",
       "      <th>0</th>\n",
       "      <td>3667963787</td>\n",
       "      <td>3312258926</td>\n",
       "      <td>2019-08-15</td>\n",
       "      <td>1650</td>\n",
       "      <td>B</td>\n",
       "    </tr>\n",
       "    <tr>\n",
       "      <th>1</th>\n",
       "      <td>2804400009</td>\n",
       "      <td>3642806036</td>\n",
       "      <td>2019-08-15</td>\n",
       "      <td>730</td>\n",
       "      <td>B</td>\n",
       "    </tr>\n",
       "    <tr>\n",
       "      <th>2</th>\n",
       "      <td>2961555356</td>\n",
       "      <td>4069496402</td>\n",
       "      <td>2019-08-15</td>\n",
       "      <td>400</td>\n",
       "      <td>A</td>\n",
       "    </tr>\n",
       "    <tr>\n",
       "      <th>3</th>\n",
       "      <td>3797467345</td>\n",
       "      <td>1196621759</td>\n",
       "      <td>2019-08-15</td>\n",
       "      <td>9759</td>\n",
       "      <td>B</td>\n",
       "    </tr>\n",
       "    <tr>\n",
       "      <th>4</th>\n",
       "      <td>2282983706</td>\n",
       "      <td>2322279887</td>\n",
       "      <td>2019-08-15</td>\n",
       "      <td>2308</td>\n",
       "      <td>B</td>\n",
       "    </tr>\n",
       "  </tbody>\n",
       "</table>\n",
       "</div>"
      ],
      "text/plain": [
       "   transactionId   visitorId        date  revenue group\n",
       "0     3667963787  3312258926  2019-08-15     1650     B\n",
       "1     2804400009  3642806036  2019-08-15      730     B\n",
       "2     2961555356  4069496402  2019-08-15      400     A\n",
       "3     3797467345  1196621759  2019-08-15     9759     B\n",
       "4     2282983706  2322279887  2019-08-15     2308     B"
      ]
     },
     "execution_count": 42,
     "metadata": {},
     "output_type": "execute_result"
    }
   ],
   "source": [
    "orders.head()"
   ]
  },
  {
   "cell_type": "code",
   "execution_count": 43,
   "metadata": {},
   "outputs": [
    {
     "name": "stdout",
     "output_type": "stream",
     "text": [
      "<class 'pandas.core.frame.DataFrame'>\n",
      "RangeIndex: 1197 entries, 0 to 1196\n",
      "Data columns (total 5 columns):\n",
      " #   Column         Non-Null Count  Dtype \n",
      "---  ------         --------------  ----- \n",
      " 0   transactionId  1197 non-null   int64 \n",
      " 1   visitorId      1197 non-null   int64 \n",
      " 2   date           1197 non-null   object\n",
      " 3   revenue        1197 non-null   int64 \n",
      " 4   group          1197 non-null   object\n",
      "dtypes: int64(3), object(2)\n",
      "memory usage: 46.9+ KB\n"
     ]
    }
   ],
   "source": [
    "orders.info()"
   ]
  },
  {
   "cell_type": "markdown",
   "metadata": {},
   "source": [
    "* **transactionId** — идентификатор заказа;\n",
    "* **visitorId** — идентификатор пользователя, совершившего заказ;\n",
    "* **date** — дата, когда был совершён заказ;\n",
    "* **revenue** — выручка заказа;\n",
    "* **group** — группа A/B-теста, в которую попал заказ."
   ]
  },
  {
   "cell_type": "code",
   "execution_count": 44,
   "metadata": {},
   "outputs": [],
   "source": [
    "# переименуем столбцы\n",
    "orders.columns = ['transaction_id', 'visitor_id', 'date', 'revenue', 'group']"
   ]
  },
  {
   "cell_type": "code",
   "execution_count": 45,
   "metadata": {},
   "outputs": [
    {
     "name": "stdout",
     "output_type": "stream",
     "text": [
      "Количество явных дубликатов: 0\n"
     ]
    }
   ],
   "source": [
    "# проверяем наличие явных дубликатов\n",
    "print('Количество явных дубликатов:', orders.duplicated().sum())"
   ]
  },
  {
   "cell_type": "code",
   "execution_count": 46,
   "metadata": {},
   "outputs": [],
   "source": [
    "try:\n",
    "    visitors = pd.read_csv('/datasets/visitors.csv') # Извлекаем данные о количестве пользователей\n",
    "except:\n",
    "    visitors = pd.read_csv('visitors.csv')"
   ]
  },
  {
   "cell_type": "code",
   "execution_count": 47,
   "metadata": {},
   "outputs": [
    {
     "data": {
      "text/html": [
       "<div>\n",
       "<style scoped>\n",
       "    .dataframe tbody tr th:only-of-type {\n",
       "        vertical-align: middle;\n",
       "    }\n",
       "\n",
       "    .dataframe tbody tr th {\n",
       "        vertical-align: top;\n",
       "    }\n",
       "\n",
       "    .dataframe thead th {\n",
       "        text-align: right;\n",
       "    }\n",
       "</style>\n",
       "<table border=\"1\" class=\"dataframe\">\n",
       "  <thead>\n",
       "    <tr style=\"text-align: right;\">\n",
       "      <th></th>\n",
       "      <th>date</th>\n",
       "      <th>group</th>\n",
       "      <th>visitors</th>\n",
       "    </tr>\n",
       "  </thead>\n",
       "  <tbody>\n",
       "    <tr>\n",
       "      <th>0</th>\n",
       "      <td>2019-08-01</td>\n",
       "      <td>A</td>\n",
       "      <td>719</td>\n",
       "    </tr>\n",
       "    <tr>\n",
       "      <th>1</th>\n",
       "      <td>2019-08-02</td>\n",
       "      <td>A</td>\n",
       "      <td>619</td>\n",
       "    </tr>\n",
       "    <tr>\n",
       "      <th>2</th>\n",
       "      <td>2019-08-03</td>\n",
       "      <td>A</td>\n",
       "      <td>507</td>\n",
       "    </tr>\n",
       "    <tr>\n",
       "      <th>3</th>\n",
       "      <td>2019-08-04</td>\n",
       "      <td>A</td>\n",
       "      <td>717</td>\n",
       "    </tr>\n",
       "    <tr>\n",
       "      <th>4</th>\n",
       "      <td>2019-08-05</td>\n",
       "      <td>A</td>\n",
       "      <td>756</td>\n",
       "    </tr>\n",
       "    <tr>\n",
       "      <th>5</th>\n",
       "      <td>2019-08-06</td>\n",
       "      <td>A</td>\n",
       "      <td>667</td>\n",
       "    </tr>\n",
       "    <tr>\n",
       "      <th>6</th>\n",
       "      <td>2019-08-07</td>\n",
       "      <td>A</td>\n",
       "      <td>644</td>\n",
       "    </tr>\n",
       "    <tr>\n",
       "      <th>7</th>\n",
       "      <td>2019-08-08</td>\n",
       "      <td>A</td>\n",
       "      <td>610</td>\n",
       "    </tr>\n",
       "    <tr>\n",
       "      <th>8</th>\n",
       "      <td>2019-08-09</td>\n",
       "      <td>A</td>\n",
       "      <td>617</td>\n",
       "    </tr>\n",
       "    <tr>\n",
       "      <th>9</th>\n",
       "      <td>2019-08-10</td>\n",
       "      <td>A</td>\n",
       "      <td>406</td>\n",
       "    </tr>\n",
       "  </tbody>\n",
       "</table>\n",
       "</div>"
      ],
      "text/plain": [
       "         date group  visitors\n",
       "0  2019-08-01     A       719\n",
       "1  2019-08-02     A       619\n",
       "2  2019-08-03     A       507\n",
       "3  2019-08-04     A       717\n",
       "4  2019-08-05     A       756\n",
       "5  2019-08-06     A       667\n",
       "6  2019-08-07     A       644\n",
       "7  2019-08-08     A       610\n",
       "8  2019-08-09     A       617\n",
       "9  2019-08-10     A       406"
      ]
     },
     "metadata": {},
     "output_type": "display_data"
    }
   ],
   "source": [
    "display(visitors.head(10))"
   ]
  },
  {
   "cell_type": "code",
   "execution_count": 48,
   "metadata": {},
   "outputs": [
    {
     "name": "stdout",
     "output_type": "stream",
     "text": [
      "<class 'pandas.core.frame.DataFrame'>\n",
      "RangeIndex: 62 entries, 0 to 61\n",
      "Data columns (total 3 columns):\n",
      " #   Column    Non-Null Count  Dtype \n",
      "---  ------    --------------  ----- \n",
      " 0   date      62 non-null     object\n",
      " 1   group     62 non-null     object\n",
      " 2   visitors  62 non-null     int64 \n",
      "dtypes: int64(1), object(2)\n",
      "memory usage: 1.6+ KB\n"
     ]
    }
   ],
   "source": [
    "visitors.info()"
   ]
  },
  {
   "cell_type": "markdown",
   "metadata": {},
   "source": [
    "* **date** — дата;\n",
    "* **group** — группа A/B-теста;\n",
    "* **visitors** — количество пользователей в указанную дату в указанной группе A/B-теста"
   ]
  },
  {
   "cell_type": "code",
   "execution_count": 49,
   "metadata": {},
   "outputs": [],
   "source": [
    "# Приведем тип поля date к datetime:\n",
    "orders['date'] = pd.to_datetime(orders['date'], format='%Y-%m-%d')\n",
    "visitors['date'] = pd.to_datetime(visitors['date'], format='%Y-%m-%d')"
   ]
  },
  {
   "cell_type": "code",
   "execution_count": 50,
   "metadata": {},
   "outputs": [
    {
     "name": "stdout",
     "output_type": "stream",
     "text": [
      "Количество явных дубликатов: 0\n"
     ]
    }
   ],
   "source": [
    "# проверяем наличие явных дубликатов\n",
    "print('Количество явных дубликатов:', visitors.duplicated().sum())"
   ]
  },
  {
   "cell_type": "markdown",
   "metadata": {},
   "source": [
    "##  Анализ A/B-теста"
   ]
  },
  {
   "cell_type": "markdown",
   "metadata": {},
   "source": [
    "### График кумулятивной выручки по группам"
   ]
  },
  {
   "cell_type": "markdown",
   "metadata": {},
   "source": [
    "Построим график кумулятивной выручки по группам."
   ]
  },
  {
   "cell_type": "code",
   "execution_count": 51,
   "metadata": {},
   "outputs": [
    {
     "data": {
      "text/html": [
       "<div>\n",
       "<style scoped>\n",
       "    .dataframe tbody tr th:only-of-type {\n",
       "        vertical-align: middle;\n",
       "    }\n",
       "\n",
       "    .dataframe tbody tr th {\n",
       "        vertical-align: top;\n",
       "    }\n",
       "\n",
       "    .dataframe thead th {\n",
       "        text-align: right;\n",
       "    }\n",
       "</style>\n",
       "<table border=\"1\" class=\"dataframe\">\n",
       "  <thead>\n",
       "    <tr style=\"text-align: right;\">\n",
       "      <th></th>\n",
       "      <th>date</th>\n",
       "      <th>group</th>\n",
       "      <th>transaction_id</th>\n",
       "      <th>visitor_id</th>\n",
       "      <th>revenue</th>\n",
       "    </tr>\n",
       "  </thead>\n",
       "  <tbody>\n",
       "    <tr>\n",
       "      <th>55</th>\n",
       "      <td>2019-08-01</td>\n",
       "      <td>A</td>\n",
       "      <td>24</td>\n",
       "      <td>20</td>\n",
       "      <td>148579</td>\n",
       "    </tr>\n",
       "    <tr>\n",
       "      <th>66</th>\n",
       "      <td>2019-08-01</td>\n",
       "      <td>B</td>\n",
       "      <td>21</td>\n",
       "      <td>20</td>\n",
       "      <td>101217</td>\n",
       "    </tr>\n",
       "    <tr>\n",
       "      <th>175</th>\n",
       "      <td>2019-08-02</td>\n",
       "      <td>A</td>\n",
       "      <td>44</td>\n",
       "      <td>38</td>\n",
       "      <td>242401</td>\n",
       "    </tr>\n",
       "    <tr>\n",
       "      <th>173</th>\n",
       "      <td>2019-08-02</td>\n",
       "      <td>B</td>\n",
       "      <td>45</td>\n",
       "      <td>43</td>\n",
       "      <td>266748</td>\n",
       "    </tr>\n",
       "    <tr>\n",
       "      <th>291</th>\n",
       "      <td>2019-08-03</td>\n",
       "      <td>A</td>\n",
       "      <td>68</td>\n",
       "      <td>62</td>\n",
       "      <td>354874</td>\n",
       "    </tr>\n",
       "    <tr>\n",
       "      <th>...</th>\n",
       "      <td>...</td>\n",
       "      <td>...</td>\n",
       "      <td>...</td>\n",
       "      <td>...</td>\n",
       "      <td>...</td>\n",
       "    </tr>\n",
       "    <tr>\n",
       "      <th>496</th>\n",
       "      <td>2019-08-29</td>\n",
       "      <td>B</td>\n",
       "      <td>596</td>\n",
       "      <td>544</td>\n",
       "      <td>5559398</td>\n",
       "    </tr>\n",
       "    <tr>\n",
       "      <th>730</th>\n",
       "      <td>2019-08-30</td>\n",
       "      <td>A</td>\n",
       "      <td>545</td>\n",
       "      <td>493</td>\n",
       "      <td>4022970</td>\n",
       "    </tr>\n",
       "    <tr>\n",
       "      <th>690</th>\n",
       "      <td>2019-08-30</td>\n",
       "      <td>B</td>\n",
       "      <td>620</td>\n",
       "      <td>567</td>\n",
       "      <td>5774631</td>\n",
       "    </tr>\n",
       "    <tr>\n",
       "      <th>958</th>\n",
       "      <td>2019-08-31</td>\n",
       "      <td>A</td>\n",
       "      <td>557</td>\n",
       "      <td>503</td>\n",
       "      <td>4084803</td>\n",
       "    </tr>\n",
       "    <tr>\n",
       "      <th>930</th>\n",
       "      <td>2019-08-31</td>\n",
       "      <td>B</td>\n",
       "      <td>640</td>\n",
       "      <td>586</td>\n",
       "      <td>5907760</td>\n",
       "    </tr>\n",
       "  </tbody>\n",
       "</table>\n",
       "<p>62 rows × 5 columns</p>\n",
       "</div>"
      ],
      "text/plain": [
       "          date group  transaction_id  visitor_id  revenue\n",
       "55  2019-08-01     A              24          20   148579\n",
       "66  2019-08-01     B              21          20   101217\n",
       "175 2019-08-02     A              44          38   242401\n",
       "173 2019-08-02     B              45          43   266748\n",
       "291 2019-08-03     A              68          62   354874\n",
       "..         ...   ...             ...         ...      ...\n",
       "496 2019-08-29     B             596         544  5559398\n",
       "730 2019-08-30     A             545         493  4022970\n",
       "690 2019-08-30     B             620         567  5774631\n",
       "958 2019-08-31     A             557         503  4084803\n",
       "930 2019-08-31     B             640         586  5907760\n",
       "\n",
       "[62 rows x 5 columns]"
      ]
     },
     "metadata": {},
     "output_type": "display_data"
    }
   ],
   "source": [
    "# Создадим массив уникальных пар значений дат и групп теста:\n",
    "datesGroups = orders[['date', 'group']].drop_duplicates()\n",
    "\n",
    "# Соберём агрегированные кумулятивные по дням данные о заказах:\n",
    "ordersAggregated = (datesGroups\n",
    "                    .apply(lambda x: orders[(orders['date'] <= x['date']) & (orders['group'] == x['group'])]\n",
    "                        .agg({'date':'max', 'group':'max', 'transaction_id':pd.Series.nunique, 'visitor_id':pd.Series.nunique, 'revenue':'sum'}), axis=1)\n",
    "                    .sort_values(by=['date','group']) \n",
    "                   )\n",
    "display(ordersAggregated)"
   ]
  },
  {
   "cell_type": "code",
   "execution_count": 52,
   "metadata": {},
   "outputs": [
    {
     "data": {
      "text/html": [
       "<div>\n",
       "<style scoped>\n",
       "    .dataframe tbody tr th:only-of-type {\n",
       "        vertical-align: middle;\n",
       "    }\n",
       "\n",
       "    .dataframe tbody tr th {\n",
       "        vertical-align: top;\n",
       "    }\n",
       "\n",
       "    .dataframe thead th {\n",
       "        text-align: right;\n",
       "    }\n",
       "</style>\n",
       "<table border=\"1\" class=\"dataframe\">\n",
       "  <thead>\n",
       "    <tr style=\"text-align: right;\">\n",
       "      <th></th>\n",
       "      <th>date</th>\n",
       "      <th>group</th>\n",
       "      <th>visitors</th>\n",
       "    </tr>\n",
       "  </thead>\n",
       "  <tbody>\n",
       "    <tr>\n",
       "      <th>55</th>\n",
       "      <td>2019-08-01</td>\n",
       "      <td>A</td>\n",
       "      <td>719</td>\n",
       "    </tr>\n",
       "    <tr>\n",
       "      <th>66</th>\n",
       "      <td>2019-08-01</td>\n",
       "      <td>B</td>\n",
       "      <td>713</td>\n",
       "    </tr>\n",
       "    <tr>\n",
       "      <th>175</th>\n",
       "      <td>2019-08-02</td>\n",
       "      <td>A</td>\n",
       "      <td>1338</td>\n",
       "    </tr>\n",
       "    <tr>\n",
       "      <th>173</th>\n",
       "      <td>2019-08-02</td>\n",
       "      <td>B</td>\n",
       "      <td>1294</td>\n",
       "    </tr>\n",
       "    <tr>\n",
       "      <th>291</th>\n",
       "      <td>2019-08-03</td>\n",
       "      <td>A</td>\n",
       "      <td>1845</td>\n",
       "    </tr>\n",
       "    <tr>\n",
       "      <th>...</th>\n",
       "      <td>...</td>\n",
       "      <td>...</td>\n",
       "      <td>...</td>\n",
       "    </tr>\n",
       "    <tr>\n",
       "      <th>496</th>\n",
       "      <td>2019-08-29</td>\n",
       "      <td>B</td>\n",
       "      <td>17708</td>\n",
       "    </tr>\n",
       "    <tr>\n",
       "      <th>730</th>\n",
       "      <td>2019-08-30</td>\n",
       "      <td>A</td>\n",
       "      <td>18037</td>\n",
       "    </tr>\n",
       "    <tr>\n",
       "      <th>690</th>\n",
       "      <td>2019-08-30</td>\n",
       "      <td>B</td>\n",
       "      <td>18198</td>\n",
       "    </tr>\n",
       "    <tr>\n",
       "      <th>958</th>\n",
       "      <td>2019-08-31</td>\n",
       "      <td>A</td>\n",
       "      <td>18736</td>\n",
       "    </tr>\n",
       "    <tr>\n",
       "      <th>930</th>\n",
       "      <td>2019-08-31</td>\n",
       "      <td>B</td>\n",
       "      <td>18916</td>\n",
       "    </tr>\n",
       "  </tbody>\n",
       "</table>\n",
       "<p>62 rows × 3 columns</p>\n",
       "</div>"
      ],
      "text/plain": [
       "          date group  visitors\n",
       "55  2019-08-01     A       719\n",
       "66  2019-08-01     B       713\n",
       "175 2019-08-02     A      1338\n",
       "173 2019-08-02     B      1294\n",
       "291 2019-08-03     A      1845\n",
       "..         ...   ...       ...\n",
       "496 2019-08-29     B     17708\n",
       "730 2019-08-30     A     18037\n",
       "690 2019-08-30     B     18198\n",
       "958 2019-08-31     A     18736\n",
       "930 2019-08-31     B     18916\n",
       "\n",
       "[62 rows x 3 columns]"
      ]
     },
     "metadata": {},
     "output_type": "display_data"
    }
   ],
   "source": [
    "# Соберём агрегированные кумулятивные по дням данные о посетителях:\n",
    "visitorsAggregated = (datesGroups\n",
    "                      .apply(lambda x: visitors[(visitors['date'] <= x['date']) & (visitors['group'] == x['group'])]\n",
    "                          .agg({'date' : 'max', 'group' : 'max', 'visitors' : 'sum'}), axis=1)\n",
    "                      .sort_values(by=['date','group'])\n",
    "                     )\n",
    "display(visitorsAggregated)"
   ]
  },
  {
   "cell_type": "code",
   "execution_count": 53,
   "metadata": {},
   "outputs": [
    {
     "data": {
      "text/html": [
       "<div>\n",
       "<style scoped>\n",
       "    .dataframe tbody tr th:only-of-type {\n",
       "        vertical-align: middle;\n",
       "    }\n",
       "\n",
       "    .dataframe tbody tr th {\n",
       "        vertical-align: top;\n",
       "    }\n",
       "\n",
       "    .dataframe thead th {\n",
       "        text-align: right;\n",
       "    }\n",
       "</style>\n",
       "<table border=\"1\" class=\"dataframe\">\n",
       "  <thead>\n",
       "    <tr style=\"text-align: right;\">\n",
       "      <th></th>\n",
       "      <th>date</th>\n",
       "      <th>group</th>\n",
       "      <th>orders</th>\n",
       "      <th>buyers</th>\n",
       "      <th>revenue</th>\n",
       "      <th>visitors</th>\n",
       "    </tr>\n",
       "  </thead>\n",
       "  <tbody>\n",
       "    <tr>\n",
       "      <th>0</th>\n",
       "      <td>2019-08-01</td>\n",
       "      <td>A</td>\n",
       "      <td>24</td>\n",
       "      <td>20</td>\n",
       "      <td>148579</td>\n",
       "      <td>719</td>\n",
       "    </tr>\n",
       "    <tr>\n",
       "      <th>1</th>\n",
       "      <td>2019-08-01</td>\n",
       "      <td>B</td>\n",
       "      <td>21</td>\n",
       "      <td>20</td>\n",
       "      <td>101217</td>\n",
       "      <td>713</td>\n",
       "    </tr>\n",
       "    <tr>\n",
       "      <th>2</th>\n",
       "      <td>2019-08-02</td>\n",
       "      <td>A</td>\n",
       "      <td>44</td>\n",
       "      <td>38</td>\n",
       "      <td>242401</td>\n",
       "      <td>1338</td>\n",
       "    </tr>\n",
       "    <tr>\n",
       "      <th>3</th>\n",
       "      <td>2019-08-02</td>\n",
       "      <td>B</td>\n",
       "      <td>45</td>\n",
       "      <td>43</td>\n",
       "      <td>266748</td>\n",
       "      <td>1294</td>\n",
       "    </tr>\n",
       "    <tr>\n",
       "      <th>4</th>\n",
       "      <td>2019-08-03</td>\n",
       "      <td>A</td>\n",
       "      <td>68</td>\n",
       "      <td>62</td>\n",
       "      <td>354874</td>\n",
       "      <td>1845</td>\n",
       "    </tr>\n",
       "    <tr>\n",
       "      <th>...</th>\n",
       "      <td>...</td>\n",
       "      <td>...</td>\n",
       "      <td>...</td>\n",
       "      <td>...</td>\n",
       "      <td>...</td>\n",
       "      <td>...</td>\n",
       "    </tr>\n",
       "    <tr>\n",
       "      <th>57</th>\n",
       "      <td>2019-08-29</td>\n",
       "      <td>B</td>\n",
       "      <td>596</td>\n",
       "      <td>544</td>\n",
       "      <td>5559398</td>\n",
       "      <td>17708</td>\n",
       "    </tr>\n",
       "    <tr>\n",
       "      <th>58</th>\n",
       "      <td>2019-08-30</td>\n",
       "      <td>A</td>\n",
       "      <td>545</td>\n",
       "      <td>493</td>\n",
       "      <td>4022970</td>\n",
       "      <td>18037</td>\n",
       "    </tr>\n",
       "    <tr>\n",
       "      <th>59</th>\n",
       "      <td>2019-08-30</td>\n",
       "      <td>B</td>\n",
       "      <td>620</td>\n",
       "      <td>567</td>\n",
       "      <td>5774631</td>\n",
       "      <td>18198</td>\n",
       "    </tr>\n",
       "    <tr>\n",
       "      <th>60</th>\n",
       "      <td>2019-08-31</td>\n",
       "      <td>A</td>\n",
       "      <td>557</td>\n",
       "      <td>503</td>\n",
       "      <td>4084803</td>\n",
       "      <td>18736</td>\n",
       "    </tr>\n",
       "    <tr>\n",
       "      <th>61</th>\n",
       "      <td>2019-08-31</td>\n",
       "      <td>B</td>\n",
       "      <td>640</td>\n",
       "      <td>586</td>\n",
       "      <td>5907760</td>\n",
       "      <td>18916</td>\n",
       "    </tr>\n",
       "  </tbody>\n",
       "</table>\n",
       "<p>62 rows × 6 columns</p>\n",
       "</div>"
      ],
      "text/plain": [
       "         date group  orders  buyers  revenue  visitors\n",
       "0  2019-08-01     A      24      20   148579       719\n",
       "1  2019-08-01     B      21      20   101217       713\n",
       "2  2019-08-02     A      44      38   242401      1338\n",
       "3  2019-08-02     B      45      43   266748      1294\n",
       "4  2019-08-03     A      68      62   354874      1845\n",
       "..        ...   ...     ...     ...      ...       ...\n",
       "57 2019-08-29     B     596     544  5559398     17708\n",
       "58 2019-08-30     A     545     493  4022970     18037\n",
       "59 2019-08-30     B     620     567  5774631     18198\n",
       "60 2019-08-31     A     557     503  4084803     18736\n",
       "61 2019-08-31     B     640     586  5907760     18916\n",
       "\n",
       "[62 rows x 6 columns]"
      ]
     },
     "metadata": {},
     "output_type": "display_data"
    }
   ],
   "source": [
    "# Объединим кумулятивные данные в одной таблице:\n",
    "cumulativeData = ordersAggregated.merge(visitorsAggregated, left_on=['date', 'group'], right_on=['date', 'group'])\n",
    "cumulativeData.columns = ['date', 'group', 'orders', 'buyers', 'revenue', 'visitors']\n",
    "\n",
    "display(cumulativeData)"
   ]
  },
  {
   "cell_type": "code",
   "execution_count": 54,
   "metadata": {},
   "outputs": [
    {
     "data": {
      "text/plain": [
       "True"
      ]
     },
     "execution_count": 54,
     "metadata": {},
     "output_type": "execute_result"
    }
   ],
   "source": [
    "# Проверим, совпадает ли минимальная дата в cumulativeData с минимальной датой в исходных данных:\n",
    "cumulativeData['date'].min() == orders['date'].min() == visitors['date'].min()"
   ]
  },
  {
   "cell_type": "code",
   "execution_count": 55,
   "metadata": {},
   "outputs": [
    {
     "data": {
      "text/plain": [
       "True"
      ]
     },
     "execution_count": 55,
     "metadata": {},
     "output_type": "execute_result"
    }
   ],
   "source": [
    "# Проверим, совпадает ли максимальная дата в cumulativeData с максимальной датой в исходных данных:\n",
    "cumulativeData['date'].max() == orders['date'].max() == visitors['date'].max()"
   ]
  },
  {
   "cell_type": "markdown",
   "metadata": {},
   "source": [
    "Минимальная и максимальная даты в cumulativeData совпадают с минимальной и максимальной датой в исходных данных, значит датафрейм cummulativeData был создан корректно."
   ]
  },
  {
   "cell_type": "markdown",
   "metadata": {},
   "source": [
    "Объявим переменные cumulativeRevenueA и cumulativeRevenueB, в которых сохраним данные о датах, выручке и числе заказов в группах A и B. Построим графики кумулятивной выручки по дням по группам."
   ]
  },
  {
   "cell_type": "code",
   "execution_count": 56,
   "metadata": {},
   "outputs": [
    {
     "data": {
      "image/png": "[encoded data removed]",
      "text/plain": [
       "<Figure size 1000x500 with 1 Axes>"
      ]
     },
     "metadata": {},
     "output_type": "display_data"
    }
   ],
   "source": [
    "# датафрейм с кумулятивным количеством заказов и кумулятивной выручкой по дням в группе А\n",
    "cumulativeRevenueA = cumulativeData[cumulativeData['group']=='A'][['date','revenue', 'orders']]\n",
    "\n",
    "# датафрейм с кумулятивным количеством заказов и кумулятивной выручкой по дням в группе B\n",
    "cumulativeRevenueB = cumulativeData[cumulativeData['group']=='B'][['date','revenue', 'orders']]\n",
    "\n",
    "# строим грыфик выручки \n",
    "plt.figure(figsize=(10,5))\n",
    "plt.plot(cumulativeRevenueA['date'], cumulativeRevenueA['revenue'], label='A')\n",
    "plt.plot(cumulativeRevenueB['date'], cumulativeRevenueB['revenue'], label='B')\n",
    "plt.xlabel('Дата', fontsize=15)\n",
    "plt.ylabel('Выручка', fontsize=15)\n",
    "plt.title(\"Кумулятивная выручка по дням и группам A/B-тестирования\", fontsize=12)\n",
    "plt.legend() \n",
    "plt.xticks(rotation=90)\n",
    "plt.show()"
   ]
  },
  {
   "cell_type": "markdown",
   "metadata": {},
   "source": [
    "  \n",
    "<font color='black'>Выручка почти равномерно увеличивается в течение всего теста. Хороший знак. Однако графики выручки обеих групп в нескольких точках резко растут. Это может сигнализировать о всплесках числа заказов, либо о появлении очень дорогих заказов в выборке."
   ]
  },
  {
   "cell_type": "markdown",
   "metadata": {},
   "source": [
    "### Построим графики кумулятивного среднего чека по дням по группам."
   ]
  },
  {
   "cell_type": "code",
   "execution_count": 57,
   "metadata": {},
   "outputs": [
    {
     "data": {
      "image/png": "[encoded data removed]",
      "text/plain": [
       "<Figure size 1000x500 with 1 Axes>"
      ]
     },
     "metadata": {},
     "output_type": "display_data"
    }
   ],
   "source": [
    "plt.figure(figsize=(10,5))\n",
    "plt.plot(cumulativeRevenueA['date'], cumulativeRevenueA['revenue']/cumulativeRevenueA['orders'], label='A')\n",
    "plt.plot(cumulativeRevenueB['date'], cumulativeRevenueB['revenue']/cumulativeRevenueB['orders'], label='B')\n",
    "plt.title('Кумулятивный средний чек по дням в группах А и В', fontsize=12)\n",
    "plt.xlabel('Дата', fontsize=12)\n",
    "plt.ylabel('Кумулятивный средний чек', fontsize=12)\n",
    "plt.xticks(rotation=90)\n",
    "plt.legend() \n",
    "plt.show()"
   ]
  },
  {
   "cell_type": "markdown",
   "metadata": {},
   "source": [
    "Ситуация с кумулятивным средним чеком между группами не так однозначна: мы видим, что кривая группы В в период с 11 по 15 августа падает ниже уровня группы А, но затем резко растет, что еще раз подтверждает, что в группе В в период 18-19 августа была крупная покупка, которая увеличила размер кумулятивного среднего чека."
   ]
  },
  {
   "cell_type": "markdown",
   "metadata": {},
   "source": [
    "### Построим график относительно различия кумулятивного среднего чека группы B к группе A."
   ]
  },
  {
   "cell_type": "code",
   "execution_count": 58,
   "metadata": {},
   "outputs": [
    {
     "data": {
      "image/png": "[encoded data removed]",
      "text/plain": [
       "<Figure size 1000x500 with 1 Axes>"
      ]
     },
     "metadata": {},
     "output_type": "display_data"
    }
   ],
   "source": [
    "# Собираем данные в одном датафрейме:\n",
    "mergedCumulativeRevenue = cumulativeRevenueA.merge(cumulativeRevenueB, left_on='date', right_on='date', how='left', suffixes=['A', 'B'])\n",
    "\n",
    "# cтроим отношение средних чеков\n",
    "plt.figure(figsize=(10,5))\n",
    "plt.plot(mergedCumulativeRevenue['date'], (mergedCumulativeRevenue['revenueB']/mergedCumulativeRevenue['ordersB'])/(mergedCumulativeRevenue['revenueA']/mergedCumulativeRevenue['ordersA'])-1)\n",
    "plt.axhline(y=0, color='black', linestyle='--') \n",
    "plt.title('Относительное изменение кумулятивного среднего чека группы B к группе A', fontsize=12)\n",
    "plt.xlabel('Дата', fontsize=12)\n",
    "plt.ylabel('(ср.чек В/ср.чек А) -1', fontsize=12)\n",
    "plt.xticks(rotation=90)\n",
    "plt.show()"
   ]
  },
  {
   "cell_type": "markdown",
   "metadata": {},
   "source": [
    "В нескольких точках график различия между сегментами резко «скачет», видимо тогда были совершены аномальные заказы. Но в основном график расположен выше нуля."
   ]
  },
  {
   "cell_type": "markdown",
   "metadata": {},
   "source": [
    "### Построим график кумулятивной конверсии по группам."
   ]
  },
  {
   "cell_type": "code",
   "execution_count": 59,
   "metadata": {},
   "outputs": [
    {
     "data": {
      "image/png": "[encoded data removed]",
      "text/plain": [
       "<Figure size 1000x500 with 1 Axes>"
      ]
     },
     "metadata": {},
     "output_type": "display_data"
    }
   ],
   "source": [
    "# Считаем кумулятивную конверсию:\n",
    "cumulativeData['conversion'] = cumulativeData['orders']/cumulativeData['visitors']\n",
    "\n",
    "# Данные по группам:\n",
    "cumulativeDataA = cumulativeData[cumulativeData['group']=='A']\n",
    "cumulativeDataB = cumulativeData[cumulativeData['group']=='B']\n",
    "\n",
    "plt.figure(figsize=(10,5))\n",
    "plt.plot(cumulativeDataA['date'], cumulativeDataA['conversion'], label='A')\n",
    "plt.plot(cumulativeDataB['date'], cumulativeDataB['conversion'], label='B')\n",
    "plt.legend()\n",
    "plt.title('Кумулятивная конверсия по группам', fontsize=12)\n",
    "plt.xlabel('Дата', fontsize=12)\n",
    "plt.ylabel('Конверсия', fontsize=12)\n",
    "plt.xticks(rotation=90)\n",
    "plt.show()"
   ]
  },
  {
   "cell_type": "markdown",
   "metadata": {},
   "source": [
    "В начале теста сегмент А имел большую конверсию, затем он немного упал и установился примерно около одного значения, в отличие от сегмента В, который возрос выше сегмента А и также установился в пределах одного значения. <br>\n",
    "В общем, сначала конверсии колебались, но довольно быстро выровнялись и результат группы В оказался стабильно лучше, чем в группе А."
   ]
  },
  {
   "cell_type": "markdown",
   "metadata": {},
   "source": [
    "### График относительного изменения кумулятивной конверсии группы B к группе A."
   ]
  },
  {
   "cell_type": "code",
   "execution_count": 60,
   "metadata": {},
   "outputs": [
    {
     "data": {
      "image/png": "[encoded data removed]",
      "text/plain": [
       "<Figure size 1000x500 with 1 Axes>"
      ]
     },
     "metadata": {},
     "output_type": "display_data"
    }
   ],
   "source": [
    "mergedCumulativeConversions = cumulativeDataA[['date','conversion']].merge(cumulativeDataB[['date','conversion']], left_on='date', right_on='date', how='left', suffixes=['A', 'B'])\n",
    "\n",
    "plt.figure(figsize=(10,5))\n",
    "plt.plot(mergedCumulativeConversions['date'], mergedCumulativeConversions['conversionB']/mergedCumulativeConversions['conversionA']-1)\n",
    "plt.axhline(y=0, color='black', linestyle='--')\n",
    "plt.axhline(y=0.15, color='grey', linestyle='--')\n",
    "\n",
    "plt.title('Относительное изменение кумулятивной конверсии В к А', fontsize=12)\n",
    "plt.xlabel('Дата', fontsize=12)\n",
    "plt.ylabel('(конверсия В/конверсия А) -1', fontsize=12)\n",
    "plt.xticks(rotation=90)\n",
    "plt.show()"
   ]
  },
  {
   "cell_type": "markdown",
   "metadata": {},
   "source": [
    "Почти с самого начала теста группа B лидирует относительно группы А. Но не стоит говорить, что она зафиксировалась возле определенной цифры, но прирост становится примерно на 15%."
   ]
  },
  {
   "cell_type": "markdown",
   "metadata": {},
   "source": [
    "В целом отношение конверсии ещё не установилось, и сейчас делать какие-либо выводы по тесту нельзя. Впрочем, сперва стоит проанализировать аномалии, возможно, они изменят картину. "
   ]
  },
  {
   "cell_type": "markdown",
   "metadata": {},
   "source": [
    "### Построим точечный график количества заказов по пользователям."
   ]
  },
  {
   "cell_type": "code",
   "execution_count": 61,
   "metadata": {},
   "outputs": [
    {
     "data": {
      "text/plain": [
       "count    1031.000000\n",
       "mean        1.161009\n",
       "std         0.724919\n",
       "min         1.000000\n",
       "25%         1.000000\n",
       "50%         1.000000\n",
       "75%         1.000000\n",
       "max        11.000000\n",
       "Name: orders, dtype: float64"
      ]
     },
     "metadata": {},
     "output_type": "display_data"
    },
    {
     "data": {
      "image/png": "[encoded data removed]",
      "text/plain": [
       "<Figure size 1500x500 with 1 Axes>"
      ]
     },
     "metadata": {},
     "output_type": "display_data"
    }
   ],
   "source": [
    "# Датафрейм с количеством заказов по пользователям:\n",
    "ordersByUsers = orders.drop(['group', 'revenue', 'date'], axis=1).groupby('visitor_id', as_index=False).agg({'transaction_id' : pd.Series.nunique})\n",
    "ordersByUsers.columns = ['visitor_id','orders']\n",
    "#display(ordersByUsers.sort_values(by='orders',ascending=False).head(10)) \n",
    "display(ordersByUsers['orders'].describe())\n",
    "\n",
    "plt.figure(figsize=(15,5))\n",
    "plt.hist(ordersByUsers['orders']) \n",
    "plt.title('Количество заказов по пользователям', fontsize=12)\n",
    "plt.xlabel('Заказы', fontsize=12)\n",
    "plt.ylabel('Количество пользователей', fontsize=12)\n",
    "plt.show()"
   ]
  },
  {
   "cell_type": "markdown",
   "metadata": {},
   "source": [
    "Видим, что большая часть значений принадлежит диапазону от 1 до 2 заказов."
   ]
  },
  {
   "cell_type": "code",
   "execution_count": 62,
   "metadata": {},
   "outputs": [
    {
     "data": {
      "image/png": "[encoded data removed]",
      "text/plain": [
       "<Figure size 1000x500 with 1 Axes>"
      ]
     },
     "metadata": {},
     "output_type": "display_data"
    }
   ],
   "source": [
    "# Построим точечную диаграмму числа заказов на одного пользователя:\n",
    "x_values = pd.Series(range(0,len(ordersByUsers)))\n",
    "\n",
    "plt.figure(figsize=(10,5))\n",
    "plt.title('Количество заказов по пользователям', fontsize=12)\n",
    "plt.scatter(x_values, ordersByUsers['orders']) \n",
    "plt.show()"
   ]
  },
  {
   "cell_type": "markdown",
   "metadata": {},
   "source": [
    "Как и ранее, мы видим, что большая часть заказов принадлежит от 1 до 2 заказов на пользователя. Остальные значения, вероятно, являются выбросами."
   ]
  },
  {
   "cell_type": "markdown",
   "metadata": {},
   "source": [
    "### Расчет 95-й и 99-й перцентили количества заказов на пользователя. Определение границы для аномальных пользователей."
   ]
  },
  {
   "cell_type": "code",
   "execution_count": 63,
   "metadata": {},
   "outputs": [
    {
     "name": "stdout",
     "output_type": "stream",
     "text": [
      "[2. 4.]\n"
     ]
    }
   ],
   "source": [
    "print(np.percentile(ordersByUsers['orders'], [95, 99]))"
   ]
  },
  {
   "cell_type": "markdown",
   "metadata": {},
   "source": [
    "Видим, что не более 5% пользователей оформляли более 2-х заказов, и не более 1% - свыше 4-х заказов. Отсеим пользователей, у которых больше 3 заказов."
   ]
  },
  {
   "cell_type": "markdown",
   "metadata": {},
   "source": [
    "### Точечный график стоимостей заказов."
   ]
  },
  {
   "cell_type": "code",
   "execution_count": 64,
   "metadata": {},
   "outputs": [
    {
     "data": {
      "image/png": "[encoded data removed]",
      "text/plain": [
       "<Figure size 1000x500 with 1 Axes>"
      ]
     },
     "metadata": {},
     "output_type": "display_data"
    }
   ],
   "source": [
    "x_values = pd.Series(range(0, len(orders['revenue'])))\n",
    "plt.figure(figsize=(10,5))\n",
    "plt.scatter(x_values, orders['revenue']) \n",
    "plt.xlabel('Пользователи')\n",
    "plt.ylabel('Стоимость заказов')\n",
    "plt.title(\"Стоимости заказов\")\n",
    "plt.show()"
   ]
  },
  {
   "cell_type": "markdown",
   "metadata": {},
   "source": [
    "Есть 2 выброса в районе 1 250 000, который выглядит весьма аномально, и 200 000. Посчитаем 95-й и 99-й перцентили стоимости заказов."
   ]
  },
  {
   "cell_type": "code",
   "execution_count": 65,
   "metadata": {},
   "outputs": [
    {
     "data": {
      "image/png": "[encoded data removed]",
      "text/plain": [
       "<Figure size 1000x500 with 1 Axes>"
      ]
     },
     "metadata": {},
     "output_type": "display_data"
    }
   ],
   "source": [
    "# Построим более наглядный график, для это уберем явные выбросы с 'revenue' большим 150 тыс:\n",
    "x_values = pd.Series(range(0,len(orders[orders['revenue']<=150000]['revenue'])))\n",
    "plt.figure(figsize=(10,5))\n",
    "plt.scatter(x_values, orders[orders['revenue']<=150000]['revenue']) \n",
    "plt.title('Стоимость заказов', fontsize=12)\n",
    "plt.show()"
   ]
  },
  {
   "cell_type": "markdown",
   "metadata": {},
   "source": [
    "На графике видим заказ на 1,3 млн и на 200 тысяч, которые явно выбиваются из общего порядка. Посчитаем перцентили для отсева."
   ]
  },
  {
   "cell_type": "markdown",
   "metadata": {},
   "source": [
    "### Расчет 95-й и 99-й перцентили стоимости заказов. Определение границы для аномальных заказов."
   ]
  },
  {
   "cell_type": "code",
   "execution_count": 66,
   "metadata": {},
   "outputs": [
    {
     "name": "stdout",
     "output_type": "stream",
     "text": [
      "   transaction_id  visitor_id       date  revenue group\n",
      "0      3667963787  3312258926 2019-08-15     1650     B\n",
      "1      2804400009  3642806036 2019-08-15      730     B\n",
      "2      2961555356  4069496402 2019-08-15      400     A\n",
      "3      3797467345  1196621759 2019-08-15     9759     B\n",
      "4      2282983706  2322279887 2019-08-15     2308     B\n",
      "5       182168103   935554773 2019-08-15     2210     B\n",
      "6       398296753  2900797465 2019-08-15     1860     B\n",
      "7      2626614568    78758296 2019-08-15     1044     A\n",
      "8      1576988021   295230930 2019-08-15    13710     A\n",
      "9      1506739906  1882260405 2019-08-15     1855     B\n",
      "[28000.  58233.2]\n"
     ]
    }
   ],
   "source": [
    "print(orders.head(10))\n",
    "print(np.percentile(orders['revenue'], [95, 99]))"
   ]
  },
  {
   "cell_type": "markdown",
   "metadata": {},
   "source": [
    "Не более 5% пользователей оформляли заказы на сумму более 28 000. И 1% пользователей заказывали на сумму более 58 233. "
   ]
  },
  {
   "cell_type": "markdown",
   "metadata": {},
   "source": [
    "### Статистическая значимость различий в конверсии между группами по «сырым» данным. "
   ]
  },
  {
   "cell_type": "markdown",
   "metadata": {},
   "source": [
    "Создадим переменные `ordersByUsersA` и `ordersByUsersB` со столбцами `['visitor_id', 'transaction_id']`, где для пользователей, совершивших хотя бы 1 заказ, будет указано число заказов. Объявим переменные `sampleA` и `sampleB`, в которых пользователям с заказами будет соответствовать число заказов пользователя. А пользователям без заказов — нули. Посчитаем статистическую значимость различия среднего количества заказов по результатам двух недель теста."
   ]
  },
  {
   "cell_type": "code",
   "execution_count": 67,
   "metadata": {},
   "outputs": [],
   "source": [
    "# Подготовим датафрейм с фактическими и кумулятивными данными по дням:\n",
    "visitorsADaily = visitors[visitors['group'] == 'A'][['date', 'visitors']]\n",
    "visitorsADaily.columns = ['date', 'visitorsPerDateA']\n",
    "\n",
    "visitorsACummulative = visitorsADaily.apply(\n",
    "    lambda x: visitorsADaily[visitorsADaily['date'] <= x['date']].agg(\n",
    "        {'date': 'max', 'visitorsPerDateA': 'sum'}\n",
    "    ),\n",
    "    axis=1,\n",
    ")\n",
    "visitorsACummulative.columns = ['date', 'visitorsCummulativeA']\n",
    "\n",
    "visitorsBDaily = visitors[visitors['group'] == 'B'][['date', 'visitors']]\n",
    "visitorsBDaily.columns = ['date', 'visitorsPerDateB']\n",
    "\n",
    "visitorsBCummulative = visitorsBDaily.apply(\n",
    "    lambda x: visitorsBDaily[visitorsBDaily['date'] <= x['date']].agg(\n",
    "        {'date': 'max', 'visitorsPerDateB': 'sum'}\n",
    "    ),\n",
    "    axis=1,\n",
    ")\n",
    "visitorsBCummulative.columns = ['date', 'visitorsCummulativeB']\n",
    "\n",
    "ordersADaily = (\n",
    "    orders[orders['group'] == 'A'][['date', 'transaction_id', 'visitor_id', 'revenue']]\n",
    "    .groupby('date', as_index=False)\n",
    "    .agg({'transaction_id': pd.Series.nunique, 'revenue': 'sum'})\n",
    ")\n",
    "ordersADaily.columns = ['date', 'ordersPerDateA', 'revenuePerDateA']\n",
    "\n",
    "ordersACummulative = ordersADaily.apply(\n",
    "    lambda x: ordersADaily[ordersADaily['date'] <= x['date']].agg(\n",
    "        {'date': 'max', 'ordersPerDateA': 'sum', 'revenuePerDateA': 'sum'}\n",
    "    ),\n",
    "    axis=1,\n",
    ").sort_values(by=['date'])\n",
    "ordersACummulative.columns = [\n",
    "    'date',\n",
    "    'ordersCummulativeA',\n",
    "    'revenueCummulativeA',\n",
    "]\n",
    "\n",
    "ordersBDaily = (\n",
    "    orders[orders['group'] == 'B'][['date', 'transaction_id', 'visitor_id', 'revenue']]\n",
    "    .groupby('date', as_index=False)\n",
    "    .agg({'transaction_id': pd.Series.nunique, 'revenue': 'sum'})\n",
    ")\n",
    "ordersBDaily.columns = ['date', 'ordersPerDateB', 'revenuePerDateB']\n",
    "\n",
    "ordersBCummulative = ordersBDaily.apply(\n",
    "    lambda x: ordersBDaily[ordersBDaily['date'] <= x['date']].agg(\n",
    "        {'date': 'max', 'ordersPerDateB': 'sum', 'revenuePerDateB': 'sum'}\n",
    "    ),\n",
    "    axis=1,\n",
    ").sort_values(by=['date'])\n",
    "ordersBCummulative.columns = [\n",
    "    'date',\n",
    "    'ordersCummulativeB',\n",
    "    'revenueCummulativeB',\n",
    "]"
   ]
  },
  {
   "cell_type": "code",
   "execution_count": 68,
   "metadata": {},
   "outputs": [],
   "source": [
    "data = (\n",
    "    ordersADaily.merge(\n",
    "        ordersBDaily, left_on='date', right_on='date', how='left'\n",
    "    )\n",
    "    .merge(ordersACummulative, left_on='date', right_on='date', how='left')\n",
    "    .merge(ordersBCummulative, left_on='date', right_on='date', how='left')\n",
    "    .merge(visitorsADaily, left_on='date', right_on='date', how='left')\n",
    "    .merge(visitorsBDaily, left_on='date', right_on='date', how='left')\n",
    "    .merge(visitorsACummulative, left_on='date', right_on='date', how='left')\n",
    "    .merge(visitorsBCummulative, left_on='date', right_on='date', how='left')\n",
    ")"
   ]
  },
  {
   "cell_type": "code",
   "execution_count": 69,
   "metadata": {},
   "outputs": [],
   "source": [
    "# Создадим для каждой группы датафрейм с количеством заказов на пользователя:\n",
    "ordersByUsersA = (\n",
    "    orders[orders['group'] == 'A']\n",
    "    .groupby('visitor_id', as_index=False)\n",
    "    .agg({'transaction_id': pd.Series.nunique})\n",
    ")\n",
    "ordersByUsersA.columns = ['visitor_id', 'transaction_id']\n",
    "\n",
    "ordersByUsersB = (\n",
    "    orders[orders['group'] == 'B']\n",
    "    .groupby('visitor_id', as_index=False)\n",
    "    .agg({'transaction_id': pd.Series.nunique})\n",
    ")\n",
    "ordersByUsersB.columns = ['visitor_id', 'transaction_id'] \n",
    "\n",
    "# Создадим списки с числом заказов каждого пользователя, включая нули:\n",
    "sampleA = pd.concat([ordersByUsersA['transaction_id'],pd.Series(0, index=np.arange(data['visitorsPerDateA'].sum() - len(ordersByUsersA['transaction_id'])), name='orders')],axis=0)\n",
    "\n",
    "sampleB = pd.concat([ordersByUsersB['transaction_id'],pd.Series(0, index=np.arange(data['visitorsPerDateB'].sum() - len(ordersByUsersB['transaction_id'])), name='orders')],axis=0)"
   ]
  },
  {
   "cell_type": "code",
   "execution_count": 70,
   "metadata": {},
   "outputs": [],
   "source": [
    "# Функция для проверки гипотезы о равенстве групп dataA и dataB\n",
    "def stat_significance(dataA, dataB):\n",
    "    # Нулевая гипотеза H0: между группами dataA и dataB нет статистически значимой разницы\n",
    "    alpha = 0.05\n",
    "    p_value = stats.mannwhitneyu(dataA, dataB)[1]\n",
    "\n",
    "    print(\"P-value: {0:.3f}\".format(p_value))\n",
    "\n",
    "    if (p_value < alpha):\n",
    "        print(\"Отвергаем нулевую гипотезу: между группами есть разница\")\n",
    "    else:\n",
    "        print(\"Не получилось отвергнуть нулевую гипотезу: разницы нет между группами\")\n",
    "    \n",
    "    print(\"Относительный выигрыш/проигрыш В к А: {0:.1%}\".format(dataB.mean()/dataA.mean()-1))"
   ]
  },
  {
   "cell_type": "markdown",
   "metadata": {},
   "source": [
    "За нулевую гипотезу возьмём что: \"статистически значимых различий в конверсии между группами нет\"; тогда альтернативная гипотеза будет гласить - статистически значимые различия есть."
   ]
  },
  {
   "cell_type": "code",
   "execution_count": 71,
   "metadata": {},
   "outputs": [
    {
     "name": "stdout",
     "output_type": "stream",
     "text": [
      "P-value: 0.017\n",
      "Отвергаем нулевую гипотезу: между группами есть разница\n",
      "Относительный выигрыш/проигрыш В к А: 13.8%\n"
     ]
    }
   ],
   "source": [
    "stat_significance(sampleA, sampleB)"
   ]
  },
  {
   "cell_type": "markdown",
   "metadata": {},
   "source": [
    "P-value значительно меньше 0.05, значит стоит отвергнуть нулевую гипотезу. Анализ \"сырых данных\" сообщает, что в среднем количестве заказов между группами есть статистически значимые различия. Относительный прирост среднего группы В к конверсии группы А равен 13.8%."
   ]
  },
  {
   "cell_type": "markdown",
   "metadata": {},
   "source": [
    "### Расчет статистической значимости различий в среднем чеке заказа между группами по «сырым» данным."
   ]
  },
  {
   "cell_type": "markdown",
   "metadata": {},
   "source": [
    "Сравним \"средние чеки\" по сырым данным, а затем проделаем те же самые действия с выборкой без выбросов."
   ]
  },
  {
   "cell_type": "markdown",
   "metadata": {},
   "source": [
    "За нулевую гипотезу возьмём что: \"статистически значимых различий в конверсии между группами нет\"; тогда альтернативная гипотеза будет гласить - статистически значимые различия есть."
   ]
  },
  {
   "cell_type": "code",
   "execution_count": 72,
   "metadata": {},
   "outputs": [
    {
     "name": "stdout",
     "output_type": "stream",
     "text": [
      "P-value: 0.729\n",
      "Не получилось отвергнуть нулевую гипотезу: разницы нет между группами\n",
      "Относительный выигрыш/проигрыш В к А: 25.9%\n"
     ]
    }
   ],
   "source": [
    "stat_significance(orders[orders['group']=='A']['revenue'], orders[orders['group']=='B']['revenue'])"
   ]
  },
  {
   "cell_type": "markdown",
   "metadata": {},
   "source": [
    "P-value значительно больше 0.05, статистически значимых отличий в среднем чеке между группами нет. Относительное различие между чеками около 26%. Почbтим данные и посчитаем те же метрики."
   ]
  },
  {
   "cell_type": "markdown",
   "metadata": {},
   "source": [
    "### Расчет статистической значимости различий в конверсии между группами по «очищенным» данным."
   ]
  },
  {
   "cell_type": "markdown",
   "metadata": {},
   "source": [
    "Приступаем к подготовке очищенных от аномалий данных. Напомним, что 95-й и 99-й перцентили средних чеков равны 28 000 и 58 233 рублям. А 95-й и 99-й перцентили числа заказов на одного пользователя равны 2 и 4 заказам на пользователя. Примем за аномальных пользователей тех, кто совершил 4 заказа и более, или совершил заказ на сумму свыше 30 000 рублей. Так мы уберём 1% пользователей с наибольшим числом заказов и от 1% до 5% заказов с наибольшей стоимостью. Удалять нужно именно пользователей — сначала определим аномальные заказы. Затем пользователей, совершивших их, и добавим их в список аномальных. Сделаем срезы пользователей с числом заказов больше 2 — usersWithManyOrders и пользователей, совершивших заказы дороже 10 000 — usersWithExpensiveOrders. Объединим их в таблице abnormalUsers, удалим дубликаты, отсортируем по возрастанию."
   ]
  },
  {
   "cell_type": "code",
   "execution_count": 73,
   "metadata": {},
   "outputs": [
    {
     "name": "stdout",
     "output_type": "stream",
     "text": [
      "1099    148427295\n",
      "928     204675465\n",
      "684     358944393\n",
      "648     382846391\n",
      "1189    393266494\n",
      "Name: visitor_id, dtype: int64\n",
      "Количество \"аномальных\" пользователей: 53\n"
     ]
    }
   ],
   "source": [
    "usersWithManyOrders = pd.concat(\n",
    "    [\n",
    "        ordersByUsersA[ordersByUsersA['transaction_id'] > 4]['visitor_id'],\n",
    "        ordersByUsersB[ordersByUsersB['transaction_id'] > 4]['visitor_id'],\n",
    "    ],\n",
    "    axis=0,\n",
    ")\n",
    "usersWithExpensiveOrders = orders[orders['revenue'] > 30000]['visitor_id']\n",
    "abnormalUsers = (\n",
    "    pd.concat([usersWithManyOrders, usersWithExpensiveOrders], axis=0)\n",
    "    .drop_duplicates()\n",
    "    .sort_values()\n",
    ")\n",
    "\n",
    "print(abnormalUsers.head(5))\n",
    "print('Количество \"аномальных\" пользователей:', abnormalUsers.shape[0]) "
   ]
  },
  {
   "cell_type": "code",
   "execution_count": 74,
   "metadata": {},
   "outputs": [],
   "source": [
    "sampleAFiltered = pd.concat(\n",
    "    [\n",
    "        ordersByUsersA[\n",
    "            np.logical_not(ordersByUsersA['visitor_id'].isin(abnormalUsers))\n",
    "        ]['transaction_id'],\n",
    "        pd.Series(\n",
    "            0,\n",
    "            index=np.arange(\n",
    "                data['visitorsPerDateA'].sum() - len(ordersByUsersA['transaction_id'])\n",
    "            ),\n",
    "            name='orders',\n",
    "        ),\n",
    "    ],\n",
    "    axis=0,\n",
    ")\n",
    "\n",
    "sampleBFiltered = pd.concat(\n",
    "    [\n",
    "        ordersByUsersB[\n",
    "            np.logical_not(ordersByUsersB['visitor_id'].isin(abnormalUsers))\n",
    "        ]['transaction_id'],\n",
    "        pd.Series(\n",
    "            0,\n",
    "            index=np.arange(\n",
    "                data['visitorsPerDateB'].sum() - len(ordersByUsersB['transaction_id'])\n",
    "            ),\n",
    "            name='orders',\n",
    "        ),\n",
    "    ],\n",
    "    axis=0,\n",
    ")"
   ]
  },
  {
   "cell_type": "markdown",
   "metadata": {},
   "source": [
    "За нулевую гипотезу возьмём что: \"статистически значимых различий в конверсии между группами нет\"; тогда альтернативная гипотеза будет гласить - статистически значимые различия есть."
   ]
  },
  {
   "cell_type": "code",
   "execution_count": 75,
   "metadata": {},
   "outputs": [
    {
     "name": "stdout",
     "output_type": "stream",
     "text": [
      "P-value: 0.019\n",
      "Отвергаем нулевую гипотезу: между группами есть разница\n",
      "Относительный выигрыш/проигрыш В к А: 14.4%\n"
     ]
    }
   ],
   "source": [
    "stat_significance(sampleAFiltered, sampleBFiltered)"
   ]
  },
  {
   "cell_type": "markdown",
   "metadata": {},
   "source": [
    "Как и в случае с сырым данными, статистическая значимость достигнута. Сегмент В лучше сегмента А. <br>\n",
    "По очищенным данным между конверсиями групп А и В по-прежнему есть статистически значимая разница. При этом относительный выигрыш группы В вырос на 2% по сравнению с \"сырыми\" данными и стал равен 14.4%."
   ]
  },
  {
   "cell_type": "markdown",
   "metadata": {},
   "source": [
    "### Расчет статистической значимости различий в среднем чеке заказа между группами по «очищенным» данным."
   ]
  },
  {
   "cell_type": "markdown",
   "metadata": {},
   "source": [
    "За нулевую гипотезу возьмём что: \"статистически значимых различий в конверсии между группами нет\"; тогда альтернативная гипотеза будет гласить - статистически значимые различия есть."
   ]
  },
  {
   "cell_type": "code",
   "execution_count": 76,
   "metadata": {},
   "outputs": [
    {
     "name": "stdout",
     "output_type": "stream",
     "text": [
      "P-value: 0.979\n",
      "Не получилось отвергнуть нулевую гипотезу: разницы нет между группами\n",
      "Относительный выигрыш/проигрыш В к А: -1.7%\n"
     ]
    }
   ],
   "source": [
    "(stat_significance(\n",
    "    orders[(orders['group']=='A') & ~(orders['visitor_id'].isin(abnormalUsers))]['revenue'], \n",
    "    orders[(orders['group']=='B') & ~(orders['visitor_id'].isin(abnormalUsers))]['revenue'])\n",
    ")"
   ]
  },
  {
   "cell_type": "markdown",
   "metadata": {},
   "source": [
    "По-прежнему, нет оснований считать, что средний чек группы В отличается от среднего чека группы А. По очищенным данным проигрыш среднего чека группы В относительно А составляет 1.7%."
   ]
  },
  {
   "cell_type": "markdown",
   "metadata": {},
   "source": [
    "### Результаты теста и решение"
   ]
  },
  {
   "cell_type": "markdown",
   "metadata": {},
   "source": [
    "Во втрой часте работы было выполено следующее:\n",
    "\n",
    "- Построены графики кумулятивных метрик: выручки, среднего чека и конверсии по группам и графики относительного изменения среднего чека и конверсии группы B к группе A;\n",
    "- Проведён анализ выбросов - посчитаны 95 и 99 перцентили числа и стоимости заказов, определены \"аномальные\" пользователи, к ним отнести пользователей совершивших более 3 заказов или заказ более чем на 28 тыс руб;\n",
    "- Посчитана статистическая значимость различий в конверсии и среднем чеке как по исходным данным, так и по данным без выбросов.\n",
    "\n",
    "Были получены следующие результаты:\n",
    "\n",
    "**По исходным данным:**\n",
    "\n",
    "- при проведении тестов с использованием критерия Манна-Уитни мы видим, что гипотеза о равенстве конверсии между группами отвергнута, а относительная разница конверсии группы В на 14.4% больше, чем в группе А.;\n",
    "- по среднему чеку различий нет, средний чек в групе B относительно группы A выше на 26% (тут заметно влияние единичного заказа на очень большую сумму).\n",
    "\n",
    "**По данным без выбросов:**\n",
    "\n",
    "- между конверсией в группах есть статистически важные различия, конверсия в групе B относительно группы A выше на 15%;\n",
    "- по среднему чеку различий также не появилось, хотя средний чек в \"чистой\" групе B относительно группы A теперь наоборот, ниже на 1,7% (это логично, т.к.обычно количество покупок растёт при уменьшении цены).\n",
    "\n",
    "По анализу результатов A/B-теста принято решение остановить тест, зафиксировав победу тестовой группы. Группа B статистически лучше группы A по метрике конверсии, но различий в средних чеках нет.<br>\n",
    "Если целью тестирования было установить изменилась ли сумма среднего чека, то она осталась прежней, мы видим лишь незначительные изменения. Если же целью являлось изменение конверсии и связанное с ней получение дополнительной прибыли в перспективе, то результаты тестирования группы В говорят о том, что ее конверсия отличается от группы А на 14-19%."
   ]
  }
 ],
 "metadata": {
  "ExecuteTimeLog": [
   {
    "duration": 1280,
    "start_time": "2023-03-30T13:33:19.122Z"
   },
   {
    "duration": 4,
    "start_time": "2023-03-30T13:35:21.056Z"
   },
   {
    "duration": 4,
    "start_time": "2023-03-30T13:35:27.963Z"
   },
   {
    "duration": 63,
    "start_time": "2023-03-30T13:35:37.339Z"
   },
   {
    "duration": 25,
    "start_time": "2023-03-30T13:36:01.995Z"
   },
   {
    "duration": 41,
    "start_time": "2023-03-30T13:36:19.026Z"
   },
   {
    "duration": 29,
    "start_time": "2023-03-30T13:38:10.338Z"
   },
   {
    "duration": 13,
    "start_time": "2023-03-30T13:40:01.422Z"
   },
   {
    "duration": 3,
    "start_time": "2023-03-30T13:40:30.343Z"
   },
   {
    "duration": 10,
    "start_time": "2023-03-30T13:40:40.839Z"
   },
   {
    "duration": 3,
    "start_time": "2023-03-30T13:41:53.645Z"
   },
   {
    "duration": 47,
    "start_time": "2023-03-30T13:41:53.651Z"
   },
   {
    "duration": 4,
    "start_time": "2023-03-30T13:41:53.700Z"
   },
   {
    "duration": 30,
    "start_time": "2023-03-30T13:41:53.706Z"
   },
   {
    "duration": 13,
    "start_time": "2023-03-30T13:43:23.067Z"
   },
   {
    "duration": 19,
    "start_time": "2023-03-30T13:44:11.027Z"
   },
   {
    "duration": 14,
    "start_time": "2023-03-30T13:44:24.288Z"
   },
   {
    "duration": 13,
    "start_time": "2023-03-30T13:45:09.026Z"
   },
   {
    "duration": 113,
    "start_time": "2023-03-30T14:10:45.887Z"
   },
   {
    "duration": 12,
    "start_time": "2023-03-30T14:10:57.868Z"
   },
   {
    "duration": 4,
    "start_time": "2023-03-30T14:11:04.472Z"
   },
   {
    "duration": 47,
    "start_time": "2023-03-30T14:11:04.477Z"
   },
   {
    "duration": 4,
    "start_time": "2023-03-30T14:11:04.526Z"
   },
   {
    "duration": 15,
    "start_time": "2023-03-30T14:11:04.532Z"
   },
   {
    "duration": 33,
    "start_time": "2023-03-30T14:11:04.550Z"
   },
   {
    "duration": 28,
    "start_time": "2023-03-30T14:11:04.585Z"
   },
   {
    "duration": 17,
    "start_time": "2023-03-30T14:11:04.615Z"
   },
   {
    "duration": 14,
    "start_time": "2023-03-30T14:11:28.705Z"
   },
   {
    "duration": 83,
    "start_time": "2023-03-30T14:31:57.704Z"
   },
   {
    "duration": 8,
    "start_time": "2023-03-30T14:32:06.313Z"
   },
   {
    "duration": 11,
    "start_time": "2023-03-30T14:32:19.987Z"
   },
   {
    "duration": 8,
    "start_time": "2023-03-30T14:32:27.754Z"
   },
   {
    "duration": 10,
    "start_time": "2023-03-30T14:32:28.811Z"
   },
   {
    "duration": 6,
    "start_time": "2023-03-30T14:37:10.003Z"
   },
   {
    "duration": 42,
    "start_time": "2023-03-30T14:37:45.528Z"
   },
   {
    "duration": 48,
    "start_time": "2023-03-30T14:37:53.830Z"
   },
   {
    "duration": 79,
    "start_time": "2023-03-30T14:38:47.728Z"
   },
   {
    "duration": 7,
    "start_time": "2023-03-30T14:39:15.783Z"
   },
   {
    "duration": 7,
    "start_time": "2023-03-30T14:39:28.822Z"
   },
   {
    "duration": 9,
    "start_time": "2023-03-30T14:39:36.010Z"
   },
   {
    "duration": 15,
    "start_time": "2023-03-30T14:39:50.798Z"
   },
   {
    "duration": 8,
    "start_time": "2023-03-30T14:40:48.193Z"
   },
   {
    "duration": 5,
    "start_time": "2023-03-30T14:41:04.392Z"
   },
   {
    "duration": 7,
    "start_time": "2023-03-30T14:41:12.422Z"
   },
   {
    "duration": 6,
    "start_time": "2023-03-30T14:42:19.480Z"
   },
   {
    "duration": 5,
    "start_time": "2023-03-30T14:42:20.648Z"
   },
   {
    "duration": 189,
    "start_time": "2023-03-30T14:48:36.390Z"
   },
   {
    "duration": 328,
    "start_time": "2023-03-30T14:50:02.677Z"
   },
   {
    "duration": 204,
    "start_time": "2023-03-30T14:50:09.383Z"
   },
   {
    "duration": 129,
    "start_time": "2023-03-30T14:50:12.959Z"
   },
   {
    "duration": 235,
    "start_time": "2023-03-30T14:50:37.583Z"
   },
   {
    "duration": 189,
    "start_time": "2023-03-30T14:51:13.256Z"
   },
   {
    "duration": 133,
    "start_time": "2023-03-30T14:51:24.387Z"
   },
   {
    "duration": 19,
    "start_time": "2023-03-30T14:51:43.535Z"
   },
   {
    "duration": 6,
    "start_time": "2023-03-30T14:54:12.370Z"
   },
   {
    "duration": 5,
    "start_time": "2023-03-30T14:54:30.466Z"
   },
   {
    "duration": 6,
    "start_time": "2023-03-30T14:54:35.613Z"
   },
   {
    "duration": 299,
    "start_time": "2023-03-30T14:55:11.850Z"
   },
   {
    "duration": 226,
    "start_time": "2023-03-30T14:55:26.884Z"
   },
   {
    "duration": 226,
    "start_time": "2023-03-30T14:55:31.674Z"
   },
   {
    "duration": 219,
    "start_time": "2023-03-30T14:55:36.942Z"
   },
   {
    "duration": 224,
    "start_time": "2023-03-30T14:56:54.492Z"
   },
   {
    "duration": 334,
    "start_time": "2023-03-30T14:57:25.806Z"
   },
   {
    "duration": 242,
    "start_time": "2023-03-30T14:57:49.277Z"
   },
   {
    "duration": 296,
    "start_time": "2023-03-30T14:59:20.084Z"
   },
   {
    "duration": 211,
    "start_time": "2023-03-30T15:10:42.796Z"
   },
   {
    "duration": 266,
    "start_time": "2023-03-30T15:11:24.211Z"
   },
   {
    "duration": 222,
    "start_time": "2023-03-30T15:11:41.530Z"
   },
   {
    "duration": 208,
    "start_time": "2023-03-30T15:11:51.356Z"
   },
   {
    "duration": 354,
    "start_time": "2023-03-30T15:17:21.086Z"
   },
   {
    "duration": 295,
    "start_time": "2023-03-30T15:17:28.389Z"
   },
   {
    "duration": 299,
    "start_time": "2023-03-30T15:18:32.621Z"
   },
   {
    "duration": 234,
    "start_time": "2023-03-30T15:24:14.715Z"
   },
   {
    "duration": 231,
    "start_time": "2023-03-30T15:24:22.517Z"
   },
   {
    "duration": 237,
    "start_time": "2023-03-30T15:25:15.388Z"
   },
   {
    "duration": 441,
    "start_time": "2023-03-30T15:33:44.259Z"
   },
   {
    "duration": 312,
    "start_time": "2023-03-30T15:33:49.770Z"
   },
   {
    "duration": 331,
    "start_time": "2023-03-30T15:34:05.669Z"
   },
   {
    "duration": 307,
    "start_time": "2023-03-30T15:34:16.892Z"
   },
   {
    "duration": 355,
    "start_time": "2023-03-30T15:34:33.030Z"
   },
   {
    "duration": 298,
    "start_time": "2023-03-30T15:34:55.487Z"
   },
   {
    "duration": 314,
    "start_time": "2023-03-30T15:35:04.187Z"
   },
   {
    "duration": 296,
    "start_time": "2023-03-30T15:35:17.299Z"
   },
   {
    "duration": 311,
    "start_time": "2023-03-30T15:37:24.365Z"
   },
   {
    "duration": 12,
    "start_time": "2023-03-30T15:41:42.706Z"
   },
   {
    "duration": 15,
    "start_time": "2023-03-30T15:41:59.404Z"
   },
   {
    "duration": 14,
    "start_time": "2023-03-30T15:43:03.129Z"
   },
   {
    "duration": 13,
    "start_time": "2023-03-30T15:43:57.619Z"
   },
   {
    "duration": 3,
    "start_time": "2023-03-30T15:44:01.589Z"
   },
   {
    "duration": 74,
    "start_time": "2023-03-30T15:44:01.595Z"
   },
   {
    "duration": 26,
    "start_time": "2023-03-30T15:44:01.671Z"
   },
   {
    "duration": 50,
    "start_time": "2023-03-30T15:44:01.699Z"
   },
   {
    "duration": 33,
    "start_time": "2023-03-30T15:44:01.751Z"
   },
   {
    "duration": 49,
    "start_time": "2023-03-30T15:44:01.785Z"
   },
   {
    "duration": 45,
    "start_time": "2023-03-30T15:44:01.836Z"
   },
   {
    "duration": 85,
    "start_time": "2023-03-30T15:44:01.883Z"
   },
   {
    "duration": 48,
    "start_time": "2023-03-30T15:44:01.970Z"
   },
   {
    "duration": 41,
    "start_time": "2023-03-30T15:44:02.019Z"
   },
   {
    "duration": 45,
    "start_time": "2023-03-30T15:44:02.062Z"
   },
   {
    "duration": 56,
    "start_time": "2023-03-30T15:44:02.108Z"
   },
   {
    "duration": 40,
    "start_time": "2023-03-30T15:44:02.166Z"
   },
   {
    "duration": 50,
    "start_time": "2023-03-30T15:44:02.208Z"
   },
   {
    "duration": 34,
    "start_time": "2023-03-30T15:44:02.260Z"
   },
   {
    "duration": 45,
    "start_time": "2023-03-30T15:44:02.296Z"
   },
   {
    "duration": 40,
    "start_time": "2023-03-30T15:44:02.343Z"
   },
   {
    "duration": 0,
    "start_time": "2023-03-30T15:44:02.385Z"
   },
   {
    "duration": 0,
    "start_time": "2023-03-30T15:44:02.386Z"
   },
   {
    "duration": 0,
    "start_time": "2023-03-30T15:44:02.387Z"
   },
   {
    "duration": 0,
    "start_time": "2023-03-30T15:44:02.388Z"
   },
   {
    "duration": 0,
    "start_time": "2023-03-30T15:44:02.390Z"
   },
   {
    "duration": 0,
    "start_time": "2023-03-30T15:44:02.391Z"
   },
   {
    "duration": 0,
    "start_time": "2023-03-30T15:44:02.392Z"
   },
   {
    "duration": 0,
    "start_time": "2023-03-30T15:44:02.393Z"
   },
   {
    "duration": 0,
    "start_time": "2023-03-30T15:44:02.394Z"
   },
   {
    "duration": 0,
    "start_time": "2023-03-30T15:44:02.395Z"
   },
   {
    "duration": 15,
    "start_time": "2023-03-30T15:44:09.195Z"
   },
   {
    "duration": 14,
    "start_time": "2023-03-30T15:44:28.565Z"
   },
   {
    "duration": 15,
    "start_time": "2023-03-30T15:44:40.531Z"
   },
   {
    "duration": 3,
    "start_time": "2023-03-30T15:47:01.398Z"
   },
   {
    "duration": 205,
    "start_time": "2023-03-30T15:47:51.390Z"
   },
   {
    "duration": 3,
    "start_time": "2023-03-30T15:47:57.719Z"
   },
   {
    "duration": 37,
    "start_time": "2023-03-30T15:47:57.723Z"
   },
   {
    "duration": 5,
    "start_time": "2023-03-30T15:47:57.762Z"
   },
   {
    "duration": 24,
    "start_time": "2023-03-30T15:47:57.768Z"
   },
   {
    "duration": 18,
    "start_time": "2023-03-30T15:47:57.795Z"
   },
   {
    "duration": 21,
    "start_time": "2023-03-30T15:47:57.815Z"
   },
   {
    "duration": 33,
    "start_time": "2023-03-30T15:47:57.838Z"
   },
   {
    "duration": 49,
    "start_time": "2023-03-30T15:47:57.872Z"
   },
   {
    "duration": 8,
    "start_time": "2023-03-30T15:47:57.923Z"
   },
   {
    "duration": 37,
    "start_time": "2023-03-30T15:47:57.933Z"
   },
   {
    "duration": 20,
    "start_time": "2023-03-30T15:47:57.973Z"
   },
   {
    "duration": 32,
    "start_time": "2023-03-30T15:47:57.995Z"
   },
   {
    "duration": 22,
    "start_time": "2023-03-30T15:47:58.028Z"
   },
   {
    "duration": 19,
    "start_time": "2023-03-30T15:47:58.054Z"
   },
   {
    "duration": 9,
    "start_time": "2023-03-30T15:47:58.075Z"
   },
   {
    "duration": 11,
    "start_time": "2023-03-30T15:47:58.085Z"
   },
   {
    "duration": 12,
    "start_time": "2023-03-30T15:47:58.098Z"
   },
   {
    "duration": 12,
    "start_time": "2023-03-30T15:47:58.112Z"
   },
   {
    "duration": 32,
    "start_time": "2023-03-30T15:47:58.125Z"
   },
   {
    "duration": 0,
    "start_time": "2023-03-30T15:47:58.159Z"
   },
   {
    "duration": 0,
    "start_time": "2023-03-30T15:47:58.161Z"
   },
   {
    "duration": 0,
    "start_time": "2023-03-30T15:47:58.163Z"
   },
   {
    "duration": 0,
    "start_time": "2023-03-30T15:47:58.164Z"
   },
   {
    "duration": 0,
    "start_time": "2023-03-30T15:47:58.166Z"
   },
   {
    "duration": 0,
    "start_time": "2023-03-30T15:47:58.167Z"
   },
   {
    "duration": 0,
    "start_time": "2023-03-30T15:47:58.168Z"
   },
   {
    "duration": 0,
    "start_time": "2023-03-30T15:47:58.169Z"
   },
   {
    "duration": 0,
    "start_time": "2023-03-30T15:47:58.170Z"
   },
   {
    "duration": 0,
    "start_time": "2023-03-30T15:47:58.171Z"
   },
   {
    "duration": 191,
    "start_time": "2023-03-30T15:48:06.520Z"
   },
   {
    "duration": 197,
    "start_time": "2023-03-30T15:48:35.286Z"
   },
   {
    "duration": 3,
    "start_time": "2023-03-30T15:49:07.433Z"
   },
   {
    "duration": 41,
    "start_time": "2023-03-30T15:49:07.438Z"
   },
   {
    "duration": 3,
    "start_time": "2023-03-30T15:49:07.482Z"
   },
   {
    "duration": 12,
    "start_time": "2023-03-30T15:49:07.486Z"
   },
   {
    "duration": 13,
    "start_time": "2023-03-30T15:49:07.500Z"
   },
   {
    "duration": 15,
    "start_time": "2023-03-30T15:49:07.515Z"
   },
   {
    "duration": 33,
    "start_time": "2023-03-30T15:49:07.532Z"
   },
   {
    "duration": 33,
    "start_time": "2023-03-30T15:49:07.567Z"
   },
   {
    "duration": 9,
    "start_time": "2023-03-30T15:49:07.602Z"
   },
   {
    "duration": 12,
    "start_time": "2023-03-30T15:49:07.613Z"
   },
   {
    "duration": 3,
    "start_time": "2023-03-30T15:49:07.628Z"
   },
   {
    "duration": 7,
    "start_time": "2023-03-30T15:49:07.633Z"
   },
   {
    "duration": 15,
    "start_time": "2023-03-30T15:49:07.641Z"
   },
   {
    "duration": 9,
    "start_time": "2023-03-30T15:49:07.662Z"
   },
   {
    "duration": 15,
    "start_time": "2023-03-30T15:49:07.672Z"
   },
   {
    "duration": 8,
    "start_time": "2023-03-30T15:49:07.688Z"
   },
   {
    "duration": 7,
    "start_time": "2023-03-30T15:49:07.698Z"
   },
   {
    "duration": 55,
    "start_time": "2023-03-30T15:49:07.707Z"
   },
   {
    "duration": 0,
    "start_time": "2023-03-30T15:49:07.764Z"
   },
   {
    "duration": 0,
    "start_time": "2023-03-30T15:49:07.765Z"
   },
   {
    "duration": 0,
    "start_time": "2023-03-30T15:49:07.767Z"
   },
   {
    "duration": 0,
    "start_time": "2023-03-30T15:49:07.768Z"
   },
   {
    "duration": 0,
    "start_time": "2023-03-30T15:49:07.769Z"
   },
   {
    "duration": 0,
    "start_time": "2023-03-30T15:49:07.771Z"
   },
   {
    "duration": 0,
    "start_time": "2023-03-30T15:49:07.773Z"
   },
   {
    "duration": 0,
    "start_time": "2023-03-30T15:49:07.773Z"
   },
   {
    "duration": 0,
    "start_time": "2023-03-30T15:49:07.774Z"
   },
   {
    "duration": 0,
    "start_time": "2023-03-30T15:49:07.775Z"
   },
   {
    "duration": 134,
    "start_time": "2023-03-30T15:49:31.353Z"
   },
   {
    "duration": 16,
    "start_time": "2023-03-30T15:50:27.680Z"
   },
   {
    "duration": 406,
    "start_time": "2023-03-30T15:50:40.664Z"
   },
   {
    "duration": 290,
    "start_time": "2023-03-30T15:51:09.233Z"
   },
   {
    "duration": 63,
    "start_time": "2023-03-30T15:51:21.762Z"
   },
   {
    "duration": 260,
    "start_time": "2023-03-30T15:51:31.681Z"
   },
   {
    "duration": 287,
    "start_time": "2023-03-30T15:51:36.057Z"
   },
   {
    "duration": 287,
    "start_time": "2023-03-30T15:51:44.664Z"
   },
   {
    "duration": 134,
    "start_time": "2023-03-30T15:54:20.427Z"
   },
   {
    "duration": 128,
    "start_time": "2023-03-30T15:54:30.436Z"
   },
   {
    "duration": 10,
    "start_time": "2023-03-30T15:58:13.678Z"
   },
   {
    "duration": 11,
    "start_time": "2023-03-30T15:58:54.446Z"
   },
   {
    "duration": 707,
    "start_time": "2023-03-30T15:59:31.632Z"
   },
   {
    "duration": 5,
    "start_time": "2023-03-30T15:59:54.581Z"
   },
   {
    "duration": 152,
    "start_time": "2023-03-30T16:03:40.038Z"
   },
   {
    "duration": 138,
    "start_time": "2023-03-30T16:03:59.963Z"
   },
   {
    "duration": 154,
    "start_time": "2023-03-30T16:04:15.018Z"
   },
   {
    "duration": 149,
    "start_time": "2023-03-30T16:04:18.627Z"
   },
   {
    "duration": 228,
    "start_time": "2023-03-30T16:04:43.509Z"
   },
   {
    "duration": 135,
    "start_time": "2023-03-30T16:04:48.436Z"
   },
   {
    "duration": 132,
    "start_time": "2023-03-30T16:06:19.180Z"
   },
   {
    "duration": 105,
    "start_time": "2023-03-30T16:07:56.694Z"
   },
   {
    "duration": 1221,
    "start_time": "2023-03-30T17:44:24.485Z"
   },
   {
    "duration": 73,
    "start_time": "2023-03-30T17:44:25.708Z"
   },
   {
    "duration": 3,
    "start_time": "2023-03-30T17:44:25.784Z"
   },
   {
    "duration": 11,
    "start_time": "2023-03-30T17:44:25.790Z"
   },
   {
    "duration": 13,
    "start_time": "2023-03-30T17:44:25.803Z"
   },
   {
    "duration": 10,
    "start_time": "2023-03-30T17:44:25.818Z"
   },
   {
    "duration": 51,
    "start_time": "2023-03-30T17:44:25.830Z"
   },
   {
    "duration": 68,
    "start_time": "2023-03-30T17:44:25.883Z"
   },
   {
    "duration": 8,
    "start_time": "2023-03-30T17:44:25.952Z"
   },
   {
    "duration": 15,
    "start_time": "2023-03-30T17:44:25.963Z"
   },
   {
    "duration": 4,
    "start_time": "2023-03-30T17:44:25.980Z"
   },
   {
    "duration": 6,
    "start_time": "2023-03-30T17:44:25.986Z"
   },
   {
    "duration": 61,
    "start_time": "2023-03-30T17:44:25.994Z"
   },
   {
    "duration": 8,
    "start_time": "2023-03-30T17:44:26.057Z"
   },
   {
    "duration": 24,
    "start_time": "2023-03-30T17:44:26.067Z"
   },
   {
    "duration": 5,
    "start_time": "2023-03-30T17:44:26.093Z"
   },
   {
    "duration": 9,
    "start_time": "2023-03-30T17:44:26.100Z"
   },
   {
    "duration": 115,
    "start_time": "2023-03-30T17:44:26.110Z"
   },
   {
    "duration": 0,
    "start_time": "2023-03-30T17:44:26.227Z"
   },
   {
    "duration": 0,
    "start_time": "2023-03-30T17:44:26.228Z"
   },
   {
    "duration": 0,
    "start_time": "2023-03-30T17:44:26.229Z"
   },
   {
    "duration": 0,
    "start_time": "2023-03-30T17:44:26.230Z"
   },
   {
    "duration": 0,
    "start_time": "2023-03-30T17:44:26.231Z"
   },
   {
    "duration": 0,
    "start_time": "2023-03-30T17:44:26.232Z"
   },
   {
    "duration": 0,
    "start_time": "2023-03-30T17:44:26.233Z"
   },
   {
    "duration": 0,
    "start_time": "2023-03-30T17:44:26.234Z"
   },
   {
    "duration": 0,
    "start_time": "2023-03-30T17:44:26.235Z"
   },
   {
    "duration": 0,
    "start_time": "2023-03-30T17:44:26.236Z"
   },
   {
    "duration": 0,
    "start_time": "2023-03-30T17:44:26.236Z"
   },
   {
    "duration": 0,
    "start_time": "2023-03-30T17:44:26.237Z"
   },
   {
    "duration": 0,
    "start_time": "2023-03-30T17:44:26.238Z"
   },
   {
    "duration": 0,
    "start_time": "2023-03-30T17:44:26.239Z"
   },
   {
    "duration": 5,
    "start_time": "2023-03-30T17:45:04.169Z"
   },
   {
    "duration": 35,
    "start_time": "2023-03-30T17:45:04.175Z"
   },
   {
    "duration": 3,
    "start_time": "2023-03-30T17:45:04.212Z"
   },
   {
    "duration": 8,
    "start_time": "2023-03-30T17:45:04.217Z"
   },
   {
    "duration": 11,
    "start_time": "2023-03-30T17:45:04.226Z"
   },
   {
    "duration": 9,
    "start_time": "2023-03-30T17:45:04.238Z"
   },
   {
    "duration": 30,
    "start_time": "2023-03-30T17:45:04.249Z"
   },
   {
    "duration": 33,
    "start_time": "2023-03-30T17:45:04.281Z"
   },
   {
    "duration": 6,
    "start_time": "2023-03-30T17:45:04.316Z"
   },
   {
    "duration": 10,
    "start_time": "2023-03-30T17:45:04.324Z"
   },
   {
    "duration": 5,
    "start_time": "2023-03-30T17:45:04.335Z"
   },
   {
    "duration": 6,
    "start_time": "2023-03-30T17:45:04.341Z"
   },
   {
    "duration": 14,
    "start_time": "2023-03-30T17:45:04.348Z"
   },
   {
    "duration": 15,
    "start_time": "2023-03-30T17:45:04.364Z"
   },
   {
    "duration": 9,
    "start_time": "2023-03-30T17:45:04.381Z"
   },
   {
    "duration": 6,
    "start_time": "2023-03-30T17:45:04.392Z"
   },
   {
    "duration": 5,
    "start_time": "2023-03-30T17:45:04.399Z"
   },
   {
    "duration": 22,
    "start_time": "2023-03-30T17:45:04.405Z"
   },
   {
    "duration": 0,
    "start_time": "2023-03-30T17:45:04.428Z"
   },
   {
    "duration": 0,
    "start_time": "2023-03-30T17:45:04.429Z"
   },
   {
    "duration": 0,
    "start_time": "2023-03-30T17:45:04.430Z"
   },
   {
    "duration": 0,
    "start_time": "2023-03-30T17:45:04.431Z"
   },
   {
    "duration": 0,
    "start_time": "2023-03-30T17:45:04.432Z"
   },
   {
    "duration": 0,
    "start_time": "2023-03-30T17:45:04.433Z"
   },
   {
    "duration": 0,
    "start_time": "2023-03-30T17:45:04.434Z"
   },
   {
    "duration": 0,
    "start_time": "2023-03-30T17:45:04.435Z"
   },
   {
    "duration": 0,
    "start_time": "2023-03-30T17:45:04.436Z"
   },
   {
    "duration": 0,
    "start_time": "2023-03-30T17:45:04.437Z"
   },
   {
    "duration": 0,
    "start_time": "2023-03-30T17:45:04.438Z"
   },
   {
    "duration": 0,
    "start_time": "2023-03-30T17:45:04.468Z"
   },
   {
    "duration": 0,
    "start_time": "2023-03-30T17:45:04.469Z"
   },
   {
    "duration": 0,
    "start_time": "2023-03-30T17:45:04.469Z"
   },
   {
    "duration": 28,
    "start_time": "2023-03-30T17:45:25.783Z"
   },
   {
    "duration": 165,
    "start_time": "2023-03-30T17:45:53.134Z"
   },
   {
    "duration": 3,
    "start_time": "2023-03-30T17:45:57.206Z"
   },
   {
    "duration": 28,
    "start_time": "2023-03-30T17:45:57.210Z"
   },
   {
    "duration": 3,
    "start_time": "2023-03-30T17:45:57.239Z"
   },
   {
    "duration": 9,
    "start_time": "2023-03-30T17:45:57.243Z"
   },
   {
    "duration": 10,
    "start_time": "2023-03-30T17:45:57.254Z"
   },
   {
    "duration": 16,
    "start_time": "2023-03-30T17:45:57.266Z"
   },
   {
    "duration": 13,
    "start_time": "2023-03-30T17:45:57.283Z"
   },
   {
    "duration": 31,
    "start_time": "2023-03-30T17:45:57.297Z"
   },
   {
    "duration": 6,
    "start_time": "2023-03-30T17:45:57.330Z"
   },
   {
    "duration": 10,
    "start_time": "2023-03-30T17:45:57.338Z"
   },
   {
    "duration": 2,
    "start_time": "2023-03-30T17:45:57.350Z"
   },
   {
    "duration": 4,
    "start_time": "2023-03-30T17:45:57.354Z"
   },
   {
    "duration": 20,
    "start_time": "2023-03-30T17:45:57.360Z"
   },
   {
    "duration": 7,
    "start_time": "2023-03-30T17:45:57.383Z"
   },
   {
    "duration": 9,
    "start_time": "2023-03-30T17:45:57.391Z"
   },
   {
    "duration": 10,
    "start_time": "2023-03-30T17:45:57.401Z"
   },
   {
    "duration": 24,
    "start_time": "2023-03-30T17:45:57.412Z"
   },
   {
    "duration": 162,
    "start_time": "2023-03-30T17:45:57.437Z"
   },
   {
    "duration": 109,
    "start_time": "2023-03-30T17:45:57.600Z"
   },
   {
    "duration": 13,
    "start_time": "2023-03-30T17:45:57.710Z"
   },
   {
    "duration": 5,
    "start_time": "2023-03-30T17:45:57.724Z"
   },
   {
    "duration": 6,
    "start_time": "2023-03-30T17:45:57.730Z"
   },
   {
    "duration": 276,
    "start_time": "2023-03-30T17:45:57.738Z"
   },
   {
    "duration": 185,
    "start_time": "2023-03-30T17:45:58.016Z"
   },
   {
    "duration": 311,
    "start_time": "2023-03-30T17:45:58.202Z"
   },
   {
    "duration": 208,
    "start_time": "2023-03-30T17:45:58.515Z"
   },
   {
    "duration": 277,
    "start_time": "2023-03-30T17:45:58.724Z"
   },
   {
    "duration": 282,
    "start_time": "2023-03-30T17:45:59.002Z"
   },
   {
    "duration": 117,
    "start_time": "2023-03-30T17:45:59.285Z"
   },
   {
    "duration": 4,
    "start_time": "2023-03-30T17:45:59.403Z"
   },
   {
    "duration": 142,
    "start_time": "2023-03-30T17:45:59.408Z"
   },
   {
    "duration": 189,
    "start_time": "2023-03-30T17:45:59.552Z"
   },
   {
    "duration": 8,
    "start_time": "2023-03-30T17:48:44.120Z"
   },
   {
    "duration": 4,
    "start_time": "2023-03-30T17:49:07.284Z"
   },
   {
    "duration": 100,
    "start_time": "2023-03-30T17:51:13.358Z"
   },
   {
    "duration": 191,
    "start_time": "2023-03-30T17:51:37.712Z"
   },
   {
    "duration": 22,
    "start_time": "2023-03-30T17:51:46.028Z"
   },
   {
    "duration": 132,
    "start_time": "2023-03-30T17:51:53.105Z"
   },
   {
    "duration": 25,
    "start_time": "2023-03-30T17:52:07.666Z"
   },
   {
    "duration": 157,
    "start_time": "2023-03-30T17:52:09.287Z"
   },
   {
    "duration": 143,
    "start_time": "2023-03-30T17:58:59.917Z"
   },
   {
    "duration": 169,
    "start_time": "2023-03-30T18:01:42.322Z"
   },
   {
    "duration": 4,
    "start_time": "2023-03-30T18:02:12.991Z"
   },
   {
    "duration": 4,
    "start_time": "2023-03-30T18:02:17.216Z"
   },
   {
    "duration": 126,
    "start_time": "2023-03-30T18:02:19.785Z"
   },
   {
    "duration": 19,
    "start_time": "2023-03-30T18:02:39.690Z"
   },
   {
    "duration": 8,
    "start_time": "2023-03-30T18:06:31.620Z"
   },
   {
    "duration": 8,
    "start_time": "2023-03-30T18:13:58.538Z"
   },
   {
    "duration": 30,
    "start_time": "2023-03-30T18:14:09.383Z"
   },
   {
    "duration": 13,
    "start_time": "2023-03-30T18:14:28.068Z"
   },
   {
    "duration": 17,
    "start_time": "2023-03-30T18:14:37.293Z"
   },
   {
    "duration": 3,
    "start_time": "2023-03-30T18:15:39.644Z"
   },
   {
    "duration": 4,
    "start_time": "2023-03-30T18:15:58.093Z"
   },
   {
    "duration": 3,
    "start_time": "2023-03-30T18:16:01.080Z"
   },
   {
    "duration": 37,
    "start_time": "2023-03-30T18:16:01.084Z"
   },
   {
    "duration": 3,
    "start_time": "2023-03-30T18:16:01.122Z"
   },
   {
    "duration": 16,
    "start_time": "2023-03-30T18:16:01.126Z"
   },
   {
    "duration": 12,
    "start_time": "2023-03-30T18:16:01.143Z"
   },
   {
    "duration": 9,
    "start_time": "2023-03-30T18:16:01.157Z"
   },
   {
    "duration": 24,
    "start_time": "2023-03-30T18:16:01.168Z"
   },
   {
    "duration": 37,
    "start_time": "2023-03-30T18:16:01.194Z"
   },
   {
    "duration": 6,
    "start_time": "2023-03-30T18:16:01.233Z"
   },
   {
    "duration": 20,
    "start_time": "2023-03-30T18:16:01.241Z"
   },
   {
    "duration": 17,
    "start_time": "2023-03-30T18:16:01.263Z"
   },
   {
    "duration": 22,
    "start_time": "2023-03-30T18:16:01.281Z"
   },
   {
    "duration": 19,
    "start_time": "2023-03-30T18:16:01.305Z"
   },
   {
    "duration": 7,
    "start_time": "2023-03-30T18:16:01.327Z"
   },
   {
    "duration": 18,
    "start_time": "2023-03-30T18:16:01.335Z"
   },
   {
    "duration": 7,
    "start_time": "2023-03-30T18:16:01.354Z"
   },
   {
    "duration": 17,
    "start_time": "2023-03-30T18:16:01.363Z"
   },
   {
    "duration": 166,
    "start_time": "2023-03-30T18:16:01.381Z"
   },
   {
    "duration": 105,
    "start_time": "2023-03-30T18:16:01.548Z"
   },
   {
    "duration": 31,
    "start_time": "2023-03-30T18:16:01.654Z"
   },
   {
    "duration": 10,
    "start_time": "2023-03-30T18:16:01.687Z"
   },
   {
    "duration": 21,
    "start_time": "2023-03-30T18:16:01.699Z"
   },
   {
    "duration": 197,
    "start_time": "2023-03-30T18:16:01.721Z"
   },
   {
    "duration": 191,
    "start_time": "2023-03-30T18:16:01.920Z"
   },
   {
    "duration": 272,
    "start_time": "2023-03-30T18:16:02.112Z"
   },
   {
    "duration": 237,
    "start_time": "2023-03-30T18:16:02.386Z"
   },
   {
    "duration": 333,
    "start_time": "2023-03-30T18:16:02.624Z"
   },
   {
    "duration": 243,
    "start_time": "2023-03-30T18:16:02.959Z"
   },
   {
    "duration": 130,
    "start_time": "2023-03-30T18:16:03.204Z"
   },
   {
    "duration": 4,
    "start_time": "2023-03-30T18:16:03.335Z"
   },
   {
    "duration": 146,
    "start_time": "2023-03-30T18:16:03.340Z"
   },
   {
    "duration": 122,
    "start_time": "2023-03-30T18:16:03.488Z"
   },
   {
    "duration": 4,
    "start_time": "2023-03-30T18:16:03.611Z"
   },
   {
    "duration": 278,
    "start_time": "2023-03-30T18:16:03.616Z"
   },
   {
    "duration": 19,
    "start_time": "2023-03-30T18:16:03.896Z"
   },
   {
    "duration": 137,
    "start_time": "2023-03-30T18:16:03.917Z"
   },
   {
    "duration": 4,
    "start_time": "2023-03-30T18:16:04.055Z"
   },
   {
    "duration": 32,
    "start_time": "2023-03-30T18:16:04.060Z"
   },
   {
    "duration": 7,
    "start_time": "2023-03-30T18:16:04.094Z"
   },
   {
    "duration": 3,
    "start_time": "2023-03-30T18:16:04.104Z"
   },
   {
    "duration": 8,
    "start_time": "2023-03-30T18:16:04.109Z"
   },
   {
    "duration": 7,
    "start_time": "2023-03-30T18:16:04.119Z"
   },
   {
    "duration": 54,
    "start_time": "2023-03-30T18:16:04.128Z"
   },
   {
    "duration": 3,
    "start_time": "2023-03-30T18:17:44.399Z"
   },
   {
    "duration": 4,
    "start_time": "2023-03-30T18:17:47.822Z"
   },
   {
    "duration": 31,
    "start_time": "2023-03-30T18:17:47.829Z"
   },
   {
    "duration": 3,
    "start_time": "2023-03-30T18:17:47.862Z"
   },
   {
    "duration": 13,
    "start_time": "2023-03-30T18:17:47.867Z"
   },
   {
    "duration": 30,
    "start_time": "2023-03-30T18:17:47.883Z"
   },
   {
    "duration": 13,
    "start_time": "2023-03-30T18:17:47.915Z"
   },
   {
    "duration": 13,
    "start_time": "2023-03-30T18:17:47.930Z"
   },
   {
    "duration": 52,
    "start_time": "2023-03-30T18:17:47.944Z"
   },
   {
    "duration": 8,
    "start_time": "2023-03-30T18:17:47.998Z"
   },
   {
    "duration": 11,
    "start_time": "2023-03-30T18:17:48.008Z"
   },
   {
    "duration": 5,
    "start_time": "2023-03-30T18:17:48.020Z"
   },
   {
    "duration": 9,
    "start_time": "2023-03-30T18:17:48.027Z"
   },
   {
    "duration": 18,
    "start_time": "2023-03-30T18:17:48.038Z"
   },
   {
    "duration": 8,
    "start_time": "2023-03-30T18:17:48.058Z"
   },
   {
    "duration": 17,
    "start_time": "2023-03-30T18:17:48.069Z"
   },
   {
    "duration": 5,
    "start_time": "2023-03-30T18:17:48.087Z"
   },
   {
    "duration": 5,
    "start_time": "2023-03-30T18:17:48.094Z"
   },
   {
    "duration": 199,
    "start_time": "2023-03-30T18:17:48.100Z"
   },
   {
    "duration": 124,
    "start_time": "2023-03-30T18:17:48.302Z"
   },
   {
    "duration": 14,
    "start_time": "2023-03-30T18:17:48.428Z"
   },
   {
    "duration": 7,
    "start_time": "2023-03-30T18:17:48.443Z"
   },
   {
    "duration": 30,
    "start_time": "2023-03-30T18:17:48.451Z"
   },
   {
    "duration": 204,
    "start_time": "2023-03-30T18:17:48.482Z"
   },
   {
    "duration": 202,
    "start_time": "2023-03-30T18:17:48.688Z"
   },
   {
    "duration": 301,
    "start_time": "2023-03-30T18:17:48.892Z"
   },
   {
    "duration": 221,
    "start_time": "2023-03-30T18:17:49.194Z"
   },
   {
    "duration": 316,
    "start_time": "2023-03-30T18:17:49.417Z"
   },
   {
    "duration": 297,
    "start_time": "2023-03-30T18:17:49.736Z"
   },
   {
    "duration": 129,
    "start_time": "2023-03-30T18:17:50.034Z"
   },
   {
    "duration": 13,
    "start_time": "2023-03-30T18:17:50.171Z"
   },
   {
    "duration": 135,
    "start_time": "2023-03-30T18:17:50.186Z"
   },
   {
    "duration": 126,
    "start_time": "2023-03-30T18:17:50.323Z"
   },
   {
    "duration": 3,
    "start_time": "2023-03-30T18:17:50.451Z"
   },
   {
    "duration": 193,
    "start_time": "2023-03-30T18:17:50.456Z"
   },
   {
    "duration": 34,
    "start_time": "2023-03-30T18:17:50.650Z"
   },
   {
    "duration": 149,
    "start_time": "2023-03-30T18:17:50.686Z"
   },
   {
    "duration": 4,
    "start_time": "2023-03-30T18:17:50.836Z"
   },
   {
    "duration": 38,
    "start_time": "2023-03-30T18:17:50.841Z"
   },
   {
    "duration": 9,
    "start_time": "2023-03-30T18:17:50.882Z"
   },
   {
    "duration": 4,
    "start_time": "2023-03-30T18:17:50.892Z"
   },
   {
    "duration": 8,
    "start_time": "2023-03-30T18:17:50.897Z"
   },
   {
    "duration": 11,
    "start_time": "2023-03-30T18:17:50.906Z"
   },
   {
    "duration": 20,
    "start_time": "2023-03-30T18:17:50.918Z"
   },
   {
    "duration": 9,
    "start_time": "2023-03-30T18:20:37.884Z"
   },
   {
    "duration": 8,
    "start_time": "2023-03-30T18:21:23.706Z"
   },
   {
    "duration": 11,
    "start_time": "2023-03-30T18:21:31.968Z"
   },
   {
    "duration": 20,
    "start_time": "2023-03-30T18:21:34.593Z"
   },
   {
    "duration": 14,
    "start_time": "2023-03-30T18:46:19.827Z"
   },
   {
    "duration": 672,
    "start_time": "2023-03-30T18:46:41.520Z"
   },
   {
    "duration": 10,
    "start_time": "2023-03-30T18:46:52.604Z"
   },
   {
    "duration": 3,
    "start_time": "2023-03-30T19:19:31.271Z"
   },
   {
    "duration": 42,
    "start_time": "2023-03-30T19:19:31.276Z"
   },
   {
    "duration": 2,
    "start_time": "2023-03-30T19:19:31.320Z"
   },
   {
    "duration": 25,
    "start_time": "2023-03-30T19:19:31.324Z"
   },
   {
    "duration": 20,
    "start_time": "2023-03-30T19:19:31.351Z"
   },
   {
    "duration": 23,
    "start_time": "2023-03-30T19:19:31.373Z"
   },
   {
    "duration": 23,
    "start_time": "2023-03-30T19:19:31.397Z"
   },
   {
    "duration": 45,
    "start_time": "2023-03-30T19:19:31.421Z"
   },
   {
    "duration": 6,
    "start_time": "2023-03-30T19:19:31.468Z"
   },
   {
    "duration": 19,
    "start_time": "2023-03-30T19:19:31.476Z"
   },
   {
    "duration": 19,
    "start_time": "2023-03-30T19:19:31.497Z"
   },
   {
    "duration": 36,
    "start_time": "2023-03-30T19:19:31.517Z"
   },
   {
    "duration": 31,
    "start_time": "2023-03-30T19:19:31.555Z"
   },
   {
    "duration": 6,
    "start_time": "2023-03-30T19:19:31.588Z"
   },
   {
    "duration": 28,
    "start_time": "2023-03-30T19:19:31.595Z"
   },
   {
    "duration": 25,
    "start_time": "2023-03-30T19:19:31.625Z"
   },
   {
    "duration": 15,
    "start_time": "2023-03-30T19:19:31.652Z"
   },
   {
    "duration": 171,
    "start_time": "2023-03-30T19:19:31.668Z"
   },
   {
    "duration": 107,
    "start_time": "2023-03-30T19:19:31.840Z"
   },
   {
    "duration": 24,
    "start_time": "2023-03-30T19:19:31.949Z"
   },
   {
    "duration": 21,
    "start_time": "2023-03-30T19:19:31.974Z"
   },
   {
    "duration": 37,
    "start_time": "2023-03-30T19:19:31.996Z"
   },
   {
    "duration": 238,
    "start_time": "2023-03-30T19:19:32.034Z"
   },
   {
    "duration": 178,
    "start_time": "2023-03-30T19:19:32.274Z"
   },
   {
    "duration": 315,
    "start_time": "2023-03-30T19:19:32.453Z"
   },
   {
    "duration": 186,
    "start_time": "2023-03-30T19:19:32.770Z"
   },
   {
    "duration": 303,
    "start_time": "2023-03-30T19:19:32.958Z"
   },
   {
    "duration": 228,
    "start_time": "2023-03-30T19:19:33.268Z"
   },
   {
    "duration": 110,
    "start_time": "2023-03-30T19:19:33.497Z"
   },
   {
    "duration": 4,
    "start_time": "2023-03-30T19:19:33.608Z"
   },
   {
    "duration": 135,
    "start_time": "2023-03-30T19:19:33.614Z"
   },
   {
    "duration": 126,
    "start_time": "2023-03-30T19:19:33.751Z"
   },
   {
    "duration": 3,
    "start_time": "2023-03-30T19:19:33.879Z"
   },
   {
    "duration": 184,
    "start_time": "2023-03-30T19:19:33.884Z"
   },
   {
    "duration": 17,
    "start_time": "2023-03-30T19:19:34.070Z"
   },
   {
    "duration": 136,
    "start_time": "2023-03-30T19:19:34.089Z"
   },
   {
    "duration": 3,
    "start_time": "2023-03-30T19:19:34.227Z"
   },
   {
    "duration": 19,
    "start_time": "2023-03-30T19:19:34.231Z"
   },
   {
    "duration": 18,
    "start_time": "2023-03-30T19:19:34.251Z"
   },
   {
    "duration": 8,
    "start_time": "2023-03-30T19:19:34.270Z"
   },
   {
    "duration": 7,
    "start_time": "2023-03-30T19:19:34.280Z"
   },
   {
    "duration": 17,
    "start_time": "2023-03-30T19:19:34.289Z"
   },
   {
    "duration": 8,
    "start_time": "2023-03-30T19:19:34.307Z"
   },
   {
    "duration": 1261,
    "start_time": "2023-03-31T07:11:20.805Z"
   },
   {
    "duration": 58,
    "start_time": "2023-03-31T07:11:22.068Z"
   },
   {
    "duration": 3,
    "start_time": "2023-03-31T07:11:22.129Z"
   },
   {
    "duration": 14,
    "start_time": "2023-03-31T07:11:22.134Z"
   },
   {
    "duration": 17,
    "start_time": "2023-03-31T07:11:22.150Z"
   },
   {
    "duration": 20,
    "start_time": "2023-03-31T07:11:22.169Z"
   },
   {
    "duration": 22,
    "start_time": "2023-03-31T07:11:22.191Z"
   },
   {
    "duration": 41,
    "start_time": "2023-03-31T07:11:22.215Z"
   },
   {
    "duration": 9,
    "start_time": "2023-03-31T07:11:22.258Z"
   },
   {
    "duration": 16,
    "start_time": "2023-03-31T07:11:22.268Z"
   },
   {
    "duration": 4,
    "start_time": "2023-03-31T07:11:22.286Z"
   },
   {
    "duration": 9,
    "start_time": "2023-03-31T07:11:22.291Z"
   },
   {
    "duration": 17,
    "start_time": "2023-03-31T07:11:22.302Z"
   },
   {
    "duration": 9,
    "start_time": "2023-03-31T07:11:22.322Z"
   },
   {
    "duration": 11,
    "start_time": "2023-03-31T07:11:22.332Z"
   },
   {
    "duration": 34,
    "start_time": "2023-03-31T07:11:22.344Z"
   },
   {
    "duration": 7,
    "start_time": "2023-03-31T07:11:22.382Z"
   },
   {
    "duration": 248,
    "start_time": "2023-03-31T07:11:22.391Z"
   },
   {
    "duration": 157,
    "start_time": "2023-03-31T07:11:22.641Z"
   },
   {
    "duration": 21,
    "start_time": "2023-03-31T07:11:22.800Z"
   },
   {
    "duration": 5,
    "start_time": "2023-03-31T07:11:22.823Z"
   },
   {
    "duration": 5,
    "start_time": "2023-03-31T07:11:22.830Z"
   },
   {
    "duration": 372,
    "start_time": "2023-03-31T07:11:22.837Z"
   },
   {
    "duration": 251,
    "start_time": "2023-03-31T07:11:23.212Z"
   },
   {
    "duration": 366,
    "start_time": "2023-03-31T07:11:23.465Z"
   },
   {
    "duration": 294,
    "start_time": "2023-03-31T07:11:23.833Z"
   },
   {
    "duration": 364,
    "start_time": "2023-03-31T07:11:24.129Z"
   },
   {
    "duration": 366,
    "start_time": "2023-03-31T07:11:24.495Z"
   },
   {
    "duration": 183,
    "start_time": "2023-03-31T07:11:24.863Z"
   },
   {
    "duration": 5,
    "start_time": "2023-03-31T07:11:25.048Z"
   },
   {
    "duration": 201,
    "start_time": "2023-03-31T07:11:25.055Z"
   },
   {
    "duration": 258,
    "start_time": "2023-03-31T07:11:25.259Z"
   },
   {
    "duration": 5,
    "start_time": "2023-03-31T07:11:25.518Z"
   },
   {
    "duration": 265,
    "start_time": "2023-03-31T07:11:25.525Z"
   },
   {
    "duration": 39,
    "start_time": "2023-03-31T07:11:25.801Z"
   },
   {
    "duration": 179,
    "start_time": "2023-03-31T07:11:25.842Z"
   },
   {
    "duration": 5,
    "start_time": "2023-03-31T07:11:26.022Z"
   },
   {
    "duration": 59,
    "start_time": "2023-03-31T07:11:26.030Z"
   },
   {
    "duration": 15,
    "start_time": "2023-03-31T07:11:26.094Z"
   },
   {
    "duration": 22,
    "start_time": "2023-03-31T07:11:26.111Z"
   },
   {
    "duration": 11,
    "start_time": "2023-03-31T07:11:26.139Z"
   },
   {
    "duration": 53,
    "start_time": "2023-03-31T07:11:26.152Z"
   },
   {
    "duration": 13,
    "start_time": "2023-03-31T07:11:26.207Z"
   },
   {
    "duration": 53,
    "start_time": "2023-03-31T08:02:30.281Z"
   },
   {
    "duration": 1314,
    "start_time": "2023-03-31T08:02:56.934Z"
   },
   {
    "duration": 66,
    "start_time": "2023-03-31T08:02:58.250Z"
   },
   {
    "duration": 4,
    "start_time": "2023-03-31T08:02:58.317Z"
   },
   {
    "duration": 11,
    "start_time": "2023-03-31T08:02:58.322Z"
   },
   {
    "duration": 14,
    "start_time": "2023-03-31T08:02:58.334Z"
   },
   {
    "duration": 11,
    "start_time": "2023-03-31T08:02:58.350Z"
   },
   {
    "duration": 15,
    "start_time": "2023-03-31T08:02:58.362Z"
   },
   {
    "duration": 65,
    "start_time": "2023-03-31T08:02:58.379Z"
   },
   {
    "duration": 8,
    "start_time": "2023-03-31T08:02:58.446Z"
   },
   {
    "duration": 12,
    "start_time": "2023-03-31T08:02:58.457Z"
   },
   {
    "duration": 10,
    "start_time": "2023-03-31T08:02:58.471Z"
   },
   {
    "duration": 8,
    "start_time": "2023-03-31T08:02:58.482Z"
   },
   {
    "duration": 54,
    "start_time": "2023-03-31T08:02:58.491Z"
   },
   {
    "duration": 8,
    "start_time": "2023-03-31T08:02:58.547Z"
   },
   {
    "duration": 17,
    "start_time": "2023-03-31T08:02:58.556Z"
   },
   {
    "duration": 9,
    "start_time": "2023-03-31T08:02:58.575Z"
   },
   {
    "duration": 7,
    "start_time": "2023-03-31T08:02:58.586Z"
   },
   {
    "duration": 219,
    "start_time": "2023-03-31T08:02:58.595Z"
   },
   {
    "duration": 133,
    "start_time": "2023-03-31T08:02:58.816Z"
   },
   {
    "duration": 24,
    "start_time": "2023-03-31T08:02:58.950Z"
   },
   {
    "duration": 5,
    "start_time": "2023-03-31T08:02:58.976Z"
   },
   {
    "duration": 6,
    "start_time": "2023-03-31T08:02:58.982Z"
   },
   {
    "duration": 338,
    "start_time": "2023-03-31T08:02:58.989Z"
   },
   {
    "duration": 225,
    "start_time": "2023-03-31T08:02:59.329Z"
   },
   {
    "duration": 368,
    "start_time": "2023-03-31T08:02:59.555Z"
   },
   {
    "duration": 226,
    "start_time": "2023-03-31T08:02:59.924Z"
   },
   {
    "duration": 345,
    "start_time": "2023-03-31T08:03:00.151Z"
   },
   {
    "duration": 277,
    "start_time": "2023-03-31T08:03:00.499Z"
   },
   {
    "duration": 132,
    "start_time": "2023-03-31T08:03:00.778Z"
   },
   {
    "duration": 5,
    "start_time": "2023-03-31T08:03:00.911Z"
   },
   {
    "duration": 233,
    "start_time": "2023-03-31T08:03:00.917Z"
   },
   {
    "duration": 147,
    "start_time": "2023-03-31T08:03:01.151Z"
   },
   {
    "duration": 4,
    "start_time": "2023-03-31T08:03:01.300Z"
   },
   {
    "duration": 238,
    "start_time": "2023-03-31T08:03:01.305Z"
   },
   {
    "duration": 27,
    "start_time": "2023-03-31T08:03:01.545Z"
   },
   {
    "duration": 217,
    "start_time": "2023-03-31T08:03:01.574Z"
   },
   {
    "duration": 4,
    "start_time": "2023-03-31T08:03:01.793Z"
   },
   {
    "duration": 46,
    "start_time": "2023-03-31T08:03:01.798Z"
   },
   {
    "duration": 17,
    "start_time": "2023-03-31T08:03:01.846Z"
   },
   {
    "duration": 39,
    "start_time": "2023-03-31T08:03:01.864Z"
   },
   {
    "duration": 41,
    "start_time": "2023-03-31T08:03:01.905Z"
   },
   {
    "duration": 39,
    "start_time": "2023-03-31T08:03:01.948Z"
   },
   {
    "duration": 8,
    "start_time": "2023-03-31T08:03:01.989Z"
   },
   {
    "duration": 49,
    "start_time": "2023-03-31T08:13:48.945Z"
   },
   {
    "duration": 8,
    "start_time": "2023-03-31T08:59:07.352Z"
   },
   {
    "duration": 6,
    "start_time": "2023-03-31T08:59:53.023Z"
   },
   {
    "duration": 172,
    "start_time": "2023-03-31T09:00:02.058Z"
   },
   {
    "duration": 3,
    "start_time": "2023-03-31T09:00:04.657Z"
   },
   {
    "duration": 42,
    "start_time": "2023-03-31T09:00:04.662Z"
   },
   {
    "duration": 3,
    "start_time": "2023-03-31T09:00:04.706Z"
   },
   {
    "duration": 17,
    "start_time": "2023-03-31T09:00:04.711Z"
   },
   {
    "duration": 22,
    "start_time": "2023-03-31T09:00:04.730Z"
   },
   {
    "duration": 30,
    "start_time": "2023-03-31T09:00:04.754Z"
   },
   {
    "duration": 23,
    "start_time": "2023-03-31T09:00:04.786Z"
   },
   {
    "duration": 37,
    "start_time": "2023-03-31T09:00:04.810Z"
   },
   {
    "duration": 9,
    "start_time": "2023-03-31T09:00:04.850Z"
   },
   {
    "duration": 28,
    "start_time": "2023-03-31T09:00:04.861Z"
   },
   {
    "duration": 27,
    "start_time": "2023-03-31T09:00:04.890Z"
   },
   {
    "duration": 27,
    "start_time": "2023-03-31T09:00:04.919Z"
   },
   {
    "duration": 27,
    "start_time": "2023-03-31T09:00:04.949Z"
   },
   {
    "duration": 11,
    "start_time": "2023-03-31T09:00:04.978Z"
   },
   {
    "duration": 24,
    "start_time": "2023-03-31T09:00:04.991Z"
   },
   {
    "duration": 13,
    "start_time": "2023-03-31T09:00:05.018Z"
   },
   {
    "duration": 48,
    "start_time": "2023-03-31T09:00:05.033Z"
   },
   {
    "duration": 232,
    "start_time": "2023-03-31T09:00:05.083Z"
   },
   {
    "duration": 147,
    "start_time": "2023-03-31T09:00:05.316Z"
   },
   {
    "duration": 20,
    "start_time": "2023-03-31T09:00:05.465Z"
   },
   {
    "duration": 19,
    "start_time": "2023-03-31T09:00:05.486Z"
   },
   {
    "duration": 18,
    "start_time": "2023-03-31T09:00:05.507Z"
   },
   {
    "duration": 248,
    "start_time": "2023-03-31T09:00:05.527Z"
   },
   {
    "duration": 227,
    "start_time": "2023-03-31T09:00:05.779Z"
   },
   {
    "duration": 308,
    "start_time": "2023-03-31T09:00:06.008Z"
   },
   {
    "duration": 249,
    "start_time": "2023-03-31T09:00:06.318Z"
   },
   {
    "duration": 314,
    "start_time": "2023-03-31T09:00:06.568Z"
   },
   {
    "duration": 296,
    "start_time": "2023-03-31T09:00:06.884Z"
   },
   {
    "duration": 171,
    "start_time": "2023-03-31T09:00:07.182Z"
   },
   {
    "duration": 5,
    "start_time": "2023-03-31T09:00:07.354Z"
   },
   {
    "duration": 180,
    "start_time": "2023-03-31T09:00:07.362Z"
   },
   {
    "duration": 249,
    "start_time": "2023-03-31T09:00:07.544Z"
   },
   {
    "duration": 8,
    "start_time": "2023-03-31T09:00:07.795Z"
   },
   {
    "duration": 258,
    "start_time": "2023-03-31T09:00:07.806Z"
   },
   {
    "duration": 27,
    "start_time": "2023-03-31T09:00:08.066Z"
   },
   {
    "duration": 189,
    "start_time": "2023-03-31T09:00:08.095Z"
   },
   {
    "duration": 5,
    "start_time": "2023-03-31T09:00:08.286Z"
   },
   {
    "duration": 51,
    "start_time": "2023-03-31T09:00:08.293Z"
   },
   {
    "duration": 28,
    "start_time": "2023-03-31T09:00:08.346Z"
   },
   {
    "duration": 42,
    "start_time": "2023-03-31T09:00:08.376Z"
   },
   {
    "duration": 34,
    "start_time": "2023-03-31T09:00:08.420Z"
   },
   {
    "duration": 48,
    "start_time": "2023-03-31T09:00:08.456Z"
   },
   {
    "duration": 10,
    "start_time": "2023-03-31T09:00:08.506Z"
   }
  ],
  "kernelspec": {
   "display_name": "Python 3 (ipykernel)",
   "language": "python",
   "name": "python3"
  },
  "language_info": {
   "codemirror_mode": {
    "name": "ipython",
    "version": 3
   },
   "file_extension": ".py",
   "mimetype": "text/x-python",
   "name": "python",
   "nbconvert_exporter": "python",
   "pygments_lexer": "ipython3",
   "version": "3.9.13"
  },
  "toc": {
   "base_numbering": 1,
   "nav_menu": {},
   "number_sections": true,
   "sideBar": true,
   "skip_h1_title": true,
   "title_cell": "Table of Contents",
   "title_sidebar": "Contents",
   "toc_cell": false,
   "toc_position": {
    "height": "calc(100% - 180px)",
    "left": "10px",
    "top": "150px",
    "width": "371.188px"
   },
   "toc_section_display": true,
   "toc_window_display": false
  }
 },
 "nbformat": 4,
 "nbformat_minor": 2
}
